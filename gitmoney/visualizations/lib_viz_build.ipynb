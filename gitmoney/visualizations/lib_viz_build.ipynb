{
 "cells": [
  {
   "cell_type": "code",
   "execution_count": 1,
   "metadata": {},
   "outputs": [],
   "source": [
    "import ratio\n",
    "import projects_per_ward as proj\n",
    "\n",
    "proj.num_proj_chart_build()\n",
    "#ratio.create_ratio()"
   ]
  },
  {
   "cell_type": "code",
   "execution_count": null,
   "metadata": {},
   "outputs": [],
   "source": []
  },
  {
   "cell_type": "code",
   "execution_count": 4,
   "metadata": {},
   "outputs": [],
   "source": [
    "from colors import cat_colors_df\n",
    "import pandas as pd\n",
    "import altair as alt\n",
    "import matplotlib.pyplot as plt\n",
    "import csv\n",
    "\n",
    "pd.set_option('display.float_format', '{:.2f}'.format)\n",
    "#pd.set_option('display.max_rows', None)\n",
    "#pd.set_option('display.max_columns', None)\n"
   ]
  },
  {
   "cell_type": "code",
   "execution_count": 5,
   "metadata": {},
   "outputs": [],
   "source": [
    "#cat_colors_df = pd.DataFrame([list(cat_colors.keys()), list(cat_colors.values())])\n",
    "\n",
    "#cat_colors_df = cat_colors_df.transpose().rename(columns={0: \"category\", 1: \"color\"})"
   ]
  },
  {
   "cell_type": "code",
   "execution_count": 6,
   "metadata": {},
   "outputs": [
    {
     "data": {
      "text/html": [
       "<div>\n",
       "<style scoped>\n",
       "    .dataframe tbody tr th:only-of-type {\n",
       "        vertical-align: middle;\n",
       "    }\n",
       "\n",
       "    .dataframe tbody tr th {\n",
       "        vertical-align: top;\n",
       "    }\n",
       "\n",
       "    .dataframe thead th {\n",
       "        text-align: right;\n",
       "    }\n",
       "</style>\n",
       "<table border=\"1\" class=\"dataframe\">\n",
       "  <thead>\n",
       "    <tr style=\"text-align: right;\">\n",
       "      <th></th>\n",
       "      <th>year</th>\n",
       "      <th>category</th>\n",
       "      <th>Ward</th>\n",
       "      <th>calls</th>\n",
       "      <th>num_projects</th>\n",
       "      <th>total_cost</th>\n",
       "      <th>color</th>\n",
       "    </tr>\n",
       "  </thead>\n",
       "  <tbody>\n",
       "    <tr>\n",
       "      <th>0</th>\n",
       "      <td>2019</td>\n",
       "      <td>Beautification</td>\n",
       "      <td>1</td>\n",
       "      <td>4742</td>\n",
       "      <td>0</td>\n",
       "      <td>0</td>\n",
       "      <td>#c9a1be</td>\n",
       "    </tr>\n",
       "    <tr>\n",
       "      <th>1</th>\n",
       "      <td>2019</td>\n",
       "      <td>Beautification</td>\n",
       "      <td>2</td>\n",
       "      <td>2012</td>\n",
       "      <td>0</td>\n",
       "      <td>0</td>\n",
       "      <td>#c9a1be</td>\n",
       "    </tr>\n",
       "    <tr>\n",
       "      <th>2</th>\n",
       "      <td>2019</td>\n",
       "      <td>Beautification</td>\n",
       "      <td>3</td>\n",
       "      <td>4646</td>\n",
       "      <td>0</td>\n",
       "      <td>0</td>\n",
       "      <td>#c9a1be</td>\n",
       "    </tr>\n",
       "    <tr>\n",
       "      <th>3</th>\n",
       "      <td>2019</td>\n",
       "      <td>Beautification</td>\n",
       "      <td>4</td>\n",
       "      <td>3399</td>\n",
       "      <td>1</td>\n",
       "      <td>3600</td>\n",
       "      <td>#c9a1be</td>\n",
       "    </tr>\n",
       "    <tr>\n",
       "      <th>4</th>\n",
       "      <td>2019</td>\n",
       "      <td>Beautification</td>\n",
       "      <td>5</td>\n",
       "      <td>1698</td>\n",
       "      <td>0</td>\n",
       "      <td>0</td>\n",
       "      <td>#c9a1be</td>\n",
       "    </tr>\n",
       "  </tbody>\n",
       "</table>\n",
       "</div>"
      ],
      "text/plain": [
       "   year        category  Ward  calls  num_projects  total_cost    color\n",
       "0  2019  Beautification     1   4742             0           0  #c9a1be\n",
       "1  2019  Beautification     2   2012             0           0  #c9a1be\n",
       "2  2019  Beautification     3   4646             0           0  #c9a1be\n",
       "3  2019  Beautification     4   3399             1        3600  #c9a1be\n",
       "4  2019  Beautification     5   1698             0           0  #c9a1be"
      ]
     },
     "execution_count": 6,
     "metadata": {},
     "output_type": "execute_result"
    }
   ],
   "source": [
    "calls_money = pd.read_csv(\"../data/calls_money.csv\")\n",
    "\n",
    "calls_money[\"year\"] = pd.to_numeric(calls_money[\"year\"])\n",
    "\n",
    "calls_money_18_23 = calls_money.query('year >= 2019 and year <= 2023')\n",
    "\n",
    "calls_money_18_23 = calls_money_18_23.merge(cat_colors_df, on=\"category\").rename(columns={\"ward\": \"Ward\"})\n",
    "\n",
    "calls_money_18_23.head()"
   ]
  },
  {
   "cell_type": "code",
   "execution_count": 7,
   "metadata": {},
   "outputs": [
    {
     "data": {
      "text/plain": [
       "Ward                       25.50\n",
       "Number Projects, 2019-23   34.86\n",
       "dtype: float64"
      ]
     },
     "execution_count": 7,
     "metadata": {},
     "output_type": "execute_result"
    }
   ],
   "source": [
    "num_projects_ward = pd.DataFrame(calls_money_18_23.groupby(['Ward']).size().rename('Number Projects, 2019-23').reset_index())\n",
    "\n",
    "num_projects_ward.mean()"
   ]
  },
  {
   "cell_type": "code",
   "execution_count": 14,
   "metadata": {},
   "outputs": [
    {
     "data": {
      "text/html": [
       "\n",
       "<style>\n",
       "  #altair-viz-6660c50d4e0e4ed2b3d86645efdb45ad.vega-embed {\n",
       "    width: 100%;\n",
       "    display: flex;\n",
       "  }\n",
       "\n",
       "  #altair-viz-6660c50d4e0e4ed2b3d86645efdb45ad.vega-embed details,\n",
       "  #altair-viz-6660c50d4e0e4ed2b3d86645efdb45ad.vega-embed details summary {\n",
       "    position: relative;\n",
       "  }\n",
       "</style>\n",
       "<div id=\"altair-viz-6660c50d4e0e4ed2b3d86645efdb45ad\"></div>\n",
       "<script type=\"text/javascript\">\n",
       "  var VEGA_DEBUG = (typeof VEGA_DEBUG == \"undefined\") ? {} : VEGA_DEBUG;\n",
       "  (function(spec, embedOpt){\n",
       "    let outputDiv = document.currentScript.previousElementSibling;\n",
       "    if (outputDiv.id !== \"altair-viz-6660c50d4e0e4ed2b3d86645efdb45ad\") {\n",
       "      outputDiv = document.getElementById(\"altair-viz-6660c50d4e0e4ed2b3d86645efdb45ad\");\n",
       "    }\n",
       "\n",
       "    const paths = {\n",
       "      \"vega\": \"https://cdn.jsdelivr.net/npm/vega@5?noext\",\n",
       "      \"vega-lib\": \"https://cdn.jsdelivr.net/npm/vega-lib?noext\",\n",
       "      \"vega-lite\": \"https://cdn.jsdelivr.net/npm/vega-lite@5.20.1?noext\",\n",
       "      \"vega-embed\": \"https://cdn.jsdelivr.net/npm/vega-embed@6?noext\",\n",
       "    };\n",
       "\n",
       "    function maybeLoadScript(lib, version) {\n",
       "      var key = `${lib.replace(\"-\", \"\")}_version`;\n",
       "      return (VEGA_DEBUG[key] == version) ?\n",
       "        Promise.resolve(paths[lib]) :\n",
       "        new Promise(function(resolve, reject) {\n",
       "          var s = document.createElement('script');\n",
       "          document.getElementsByTagName(\"head\")[0].appendChild(s);\n",
       "          s.async = true;\n",
       "          s.onload = () => {\n",
       "            VEGA_DEBUG[key] = version;\n",
       "            return resolve(paths[lib]);\n",
       "          };\n",
       "          s.onerror = () => reject(`Error loading script: ${paths[lib]}`);\n",
       "          s.src = paths[lib];\n",
       "        });\n",
       "    }\n",
       "\n",
       "    function showError(err) {\n",
       "      outputDiv.innerHTML = `<div class=\"error\" style=\"color:red;\">${err}</div>`;\n",
       "      throw err;\n",
       "    }\n",
       "\n",
       "    function displayChart(vegaEmbed) {\n",
       "      vegaEmbed(outputDiv, spec, embedOpt)\n",
       "        .catch(err => showError(`Javascript Error: ${err.message}<br>This usually means there's a typo in your chart specification. See the javascript console for the full traceback.`));\n",
       "    }\n",
       "\n",
       "    if(typeof define === \"function\" && define.amd) {\n",
       "      requirejs.config({paths});\n",
       "      let deps = [\"vega-embed\"];\n",
       "      require(deps, displayChart, err => showError(`Error loading script: ${err.message}`));\n",
       "    } else {\n",
       "      maybeLoadScript(\"vega\", \"5\")\n",
       "        .then(() => maybeLoadScript(\"vega-lite\", \"5.20.1\"))\n",
       "        .then(() => maybeLoadScript(\"vega-embed\", \"6\"))\n",
       "        .catch(showError)\n",
       "        .then(() => displayChart(vegaEmbed));\n",
       "    }\n",
       "  })({\"config\": {\"view\": {\"continuousWidth\": 300, \"continuousHeight\": 300}}, \"data\": {\"name\": \"data-f7bfc7f22d40349868c07e7d603827b4\"}, \"mark\": {\"type\": \"bar\"}, \"encoding\": {\"tooltip\": [{\"field\": \"Ward\", \"type\": \"quantitative\"}, {\"field\": \"Number Projects, 2019-23\", \"type\": \"quantitative\"}], \"x\": {\"field\": \"Ward\", \"type\": \"quantitative\"}, \"y\": {\"field\": \"Number Projects, 2019-23\", \"type\": \"quantitative\"}}, \"params\": [{\"name\": \"param_3\", \"select\": {\"type\": \"interval\", \"encodings\": [\"x\", \"y\"]}, \"bind\": \"scales\"}], \"$schema\": \"https://vega.github.io/schema/vega-lite/v5.20.1.json\", \"datasets\": {\"data-f7bfc7f22d40349868c07e7d603827b4\": [{\"Ward\": 1, \"Number Projects, 2019-23\": 36}, {\"Ward\": 2, \"Number Projects, 2019-23\": 35}, {\"Ward\": 3, \"Number Projects, 2019-23\": 35}, {\"Ward\": 4, \"Number Projects, 2019-23\": 34}, {\"Ward\": 5, \"Number Projects, 2019-23\": 35}, {\"Ward\": 6, \"Number Projects, 2019-23\": 35}, {\"Ward\": 7, \"Number Projects, 2019-23\": 34}, {\"Ward\": 8, \"Number Projects, 2019-23\": 34}, {\"Ward\": 9, \"Number Projects, 2019-23\": 34}, {\"Ward\": 10, \"Number Projects, 2019-23\": 35}, {\"Ward\": 11, \"Number Projects, 2019-23\": 34}, {\"Ward\": 12, \"Number Projects, 2019-23\": 34}, {\"Ward\": 13, \"Number Projects, 2019-23\": 36}, {\"Ward\": 14, \"Number Projects, 2019-23\": 34}, {\"Ward\": 15, \"Number Projects, 2019-23\": 34}, {\"Ward\": 16, \"Number Projects, 2019-23\": 32}, {\"Ward\": 17, \"Number Projects, 2019-23\": 34}, {\"Ward\": 18, \"Number Projects, 2019-23\": 34}, {\"Ward\": 19, \"Number Projects, 2019-23\": 33}, {\"Ward\": 20, \"Number Projects, 2019-23\": 33}, {\"Ward\": 21, \"Number Projects, 2019-23\": 35}, {\"Ward\": 22, \"Number Projects, 2019-23\": 33}, {\"Ward\": 23, \"Number Projects, 2019-23\": 35}, {\"Ward\": 24, \"Number Projects, 2019-23\": 35}, {\"Ward\": 25, \"Number Projects, 2019-23\": 34}, {\"Ward\": 26, \"Number Projects, 2019-23\": 36}, {\"Ward\": 27, \"Number Projects, 2019-23\": 35}, {\"Ward\": 28, \"Number Projects, 2019-23\": 35}, {\"Ward\": 29, \"Number Projects, 2019-23\": 37}, {\"Ward\": 30, \"Number Projects, 2019-23\": 34}, {\"Ward\": 31, \"Number Projects, 2019-23\": 35}, {\"Ward\": 32, \"Number Projects, 2019-23\": 36}, {\"Ward\": 33, \"Number Projects, 2019-23\": 37}, {\"Ward\": 34, \"Number Projects, 2019-23\": 34}, {\"Ward\": 35, \"Number Projects, 2019-23\": 37}, {\"Ward\": 36, \"Number Projects, 2019-23\": 36}, {\"Ward\": 37, \"Number Projects, 2019-23\": 34}, {\"Ward\": 38, \"Number Projects, 2019-23\": 35}, {\"Ward\": 39, \"Number Projects, 2019-23\": 37}, {\"Ward\": 40, \"Number Projects, 2019-23\": 35}, {\"Ward\": 41, \"Number Projects, 2019-23\": 34}, {\"Ward\": 42, \"Number Projects, 2019-23\": 35}, {\"Ward\": 43, \"Number Projects, 2019-23\": 36}, {\"Ward\": 44, \"Number Projects, 2019-23\": 35}, {\"Ward\": 45, \"Number Projects, 2019-23\": 34}, {\"Ward\": 46, \"Number Projects, 2019-23\": 34}, {\"Ward\": 47, \"Number Projects, 2019-23\": 37}, {\"Ward\": 48, \"Number Projects, 2019-23\": 38}, {\"Ward\": 49, \"Number Projects, 2019-23\": 35}, {\"Ward\": 50, \"Number Projects, 2019-23\": 35}]}}, {\"mode\": \"vega-lite\"});\n",
       "</script>"
      ],
      "text/plain": [
       "alt.Chart(...)"
      ]
     },
     "execution_count": 14,
     "metadata": {},
     "output_type": "execute_result"
    }
   ],
   "source": [
    "alt.Chart(num_projects_ward).mark_bar().encode(\n",
    "    x='Ward',\n",
    "    y='Number Projects, 2019-23',\n",
    "    #color=alt.Color('color').scale(None),\n",
    "    tooltip=['Ward', 'Number Projects, 2019-23'],\n",
    ").interactive()"
   ]
  }
 ],
 "metadata": {
  "kernelspec": {
   "display_name": ".venv",
   "language": "python",
   "name": "python3"
  },
  "language_info": {
   "codemirror_mode": {
    "name": "ipython",
    "version": 3
   },
   "file_extension": ".py",
   "mimetype": "text/x-python",
   "name": "python",
   "nbconvert_exporter": "python",
   "pygments_lexer": "ipython3",
   "version": "3.13.1"
  }
 },
 "nbformat": 4,
 "nbformat_minor": 2
}
