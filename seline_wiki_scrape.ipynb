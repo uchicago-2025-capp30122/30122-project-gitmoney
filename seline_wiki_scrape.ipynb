{
 "cells": [
  {
   "cell_type": "code",
   "execution_count": 3,
   "metadata": {},
   "outputs": [],
   "source": [
    "import lxml.html\n",
    "import httpx \n",
    "import pandas as pd"
   ]
  },
  {
   "cell_type": "code",
   "execution_count": 4,
   "metadata": {},
   "outputs": [],
   "source": [
    "url = \"https://en.wikipedia.org/wiki/List_of_Chicago_alderpersons_since_1923\""
   ]
  },
  {
   "cell_type": "code",
   "execution_count": 5,
   "metadata": {},
   "outputs": [],
   "source": [
    "x = httpx.get(url)"
   ]
  },
  {
   "cell_type": "code",
   "execution_count": 6,
   "metadata": {},
   "outputs": [],
   "source": [
    "root = lxml.html.fromstring(x.text)"
   ]
  },
  {
   "cell_type": "markdown",
   "metadata": {},
   "source": [
    "My plan here is to get all the ul items. And with that I need to get the sibling which is a div containing a title with the name of the ward"
   ]
  },
  {
   "cell_type": "code",
   "execution_count": null,
   "metadata": {},
   "outputs": [],
   "source": [
    "bd = root.cssselect('div.mw-body-content')\n",
    "for b in bd:\n",
    "    li = b.cssselect('ul')\n",
    "    for l in li:\n",
    "        h = l.getprevious()\n",
    "        # Ward Heading\n",
    "        if h is not None:\n",
    "            print()\n",
    "            print(h.text_content())\n",
    "            # we may do something here to create a dictionary with the heading name \n",
    "            # and add all of the people to a list of aldermen\n",
    "            # if an href exists with \n",
    "            print()\n",
    "        # Each person in ward!\n",
    "        print(l.text_content())\n",
    "        x = l.cssselect(\"a\")\n",
    "        if x is not None:\n",
    "            for ex in x:\n",
    "                print(ex.get(\"href\"))\n"
   ]
  },
  {
   "cell_type": "code",
   "execution_count": 10,
   "metadata": {},
   "outputs": [
    {
     "name": "stdout",
     "output_type": "stream",
     "text": [
      "First Table Data:\n",
      "['', '', 'April 16, 1923–November 11, 1938', 'Democratic[parties 2]']\n",
      "['', '', 'April 12, 1939–April 9, 1943', 'Democratic[parties 2]']\n",
      "['', '', 'April 9, 1943–1951', 'Democratic']\n",
      "['', '', '1951–1963', 'Democratic']\n",
      "['', '', 'February 16–May 6, 1963', 'Democratic']\n",
      "['', '', '1963–1968', 'Democratic']\n",
      "['', '', '1968–1991', 'Democratic']\n",
      "['', '', '1991–1995', 'Democratic']\n",
      "['', '', '1995–May 19, 2003', 'Democratic']\n",
      "['', '', 'May 19, 2003–January 4, 2010', 'Democratic']\n",
      "['', '', 'March 26, 2010–May 20, 2019', 'Democratic']\n",
      "['', '', 'May 20, 2019–present', 'Democratic']\n"
     ]
    },
    {
     "data": {
      "text/plain": [
       "\"\\ndef save_to_json(data, filename):\\n    with open(filename, 'w', encoding='utf-8') as f:\\n        json.dump(data, f, ensure_ascii=False, indent=4)\\n        \""
      ]
     },
     "execution_count": 10,
     "metadata": {},
     "output_type": "execute_result"
    }
   ],
   "source": [
    "import json\n",
    "import lxml.html\n",
    "import httpx \n",
    "import pandas as pd\n",
    "\n",
    "\n",
    "def scrape_wikipedia_table(url): \n",
    "\n",
    "    url = \"https://en.wikipedia.org/wiki/List_of_Chicago_alderpersons_since_1923\"\n",
    "\n",
    "    # Find all tables with the specified class 'wikitable sortable'\n",
    "    root = lxml.html.fromstring(x.text)\n",
    "    tables = root.xpath('//table[contains(@class, \"wikitable sortable\")]')\n",
    "\n",
    "    all_data = []\n",
    "\n",
    "    # Iterate through each table (each ward)\n",
    "    for table in tables:\n",
    "        header_indices = {header.text_content().strip(): idx for idx, header in enumerate(table.xpath('.//tr/th'))}\n",
    "        columns_of_interest = [\"Alderperson\", \"Term in office\", \"Party\", \"Notes\"]\n",
    "\n",
    "        for row in table.xpath('.//tr[position()>1]'):\n",
    "            cells = row.xpath('.//td')\n",
    "            row_data = [\n",
    "                cells[header_indices[col]].text_content().strip() \n",
    "                if header_indices.get(col) is not None and header_indices[col] < len(cells) else '' \n",
    "                for col in columns_of_interest\n",
    "            ]\n",
    "            all_data.append(row_data)\n",
    "\n",
    "        # Print the data for the first table and break\n",
    "        print(\"First Table Data:\")\n",
    "        for row in all_data:\n",
    "            print(row)\n",
    "        break  # Stop after processing the first table\n",
    "\n",
    "    # Handle any None or empty values\n",
    "    for ward in all_data:\n",
    "        for i in range(len(ward)):\n",
    "            if ward[i] is None or ward[i] == '':\n",
    "                ward[i] = 'N/A'\n",
    "\n",
    "    return all_data\n",
    "\n",
    "\n",
    "# Call the function and store the scraped data\n",
    "scraped_data = scrape_wikipedia_table(url)\n",
    "\n",
    "\n",
    "'''\n",
    "def save_to_json(data, filename):\n",
    "    with open(filename, 'w', encoding='utf-8') as f:\n",
    "        json.dump(data, f, ensure_ascii=False, indent=4)\n",
    "        '''"
   ]
  },
  {
   "cell_type": "code",
   "execution_count": null,
   "metadata": {},
   "outputs": [
    {
     "name": "stdout",
     "output_type": "stream",
     "text": [
      "First Table Data:\n",
      " |  | John Coughlin | April 16, 1923–November 11, 1938\n",
      " |  | Michael Kenna | April 12, 1939–April 9, 1943\n",
      " |  | John Budinger | April 9, 1943–1951\n",
      " |  | John D'Arco Sr. | 1951–1963\n",
      " |  | Michael Fiorito | February 16–May 6, 1963\n",
      " |  | Donald Parrillo | 1963–1968\n",
      " |  | Fred Roti | 1968–1991\n",
      " |  | Ted Mazola | 1991–1995\n",
      " |  | Jesse Granato | 1995–May 19, 2003\n",
      " |  | Manuel Flores | May 19, 2003–January 4, 2010\n",
      " |  | Proco Joe Moreno | March 26, 2010–May 20, 2019\n",
      " |  | Daniel La Spata | May 20, 2019–present\n",
      "Scraping completed.\n"
     ]
    }
   ],
   "source": [
    "import json\n",
    "import lxml.html\n",
    "import httpx\n",
    "import pandas as pd\n",
    "\n",
    "def scrape_wikipedia_table(url):\n",
    "\n",
    "    \n",
    "    # URL\n",
    "    url = 'https://en.wikipedia.org/wiki/List_of_Chicago_alderpersons_since_1923'\n",
    "\n",
    "    # HTML Content\n",
    "    response = httpx.get(url)\n",
    "    root = lxml.html.fromstring(response.content)\n",
    "    \n",
    "    # Find all tables \n",
    "    tables = root.xpath('//table[contains(@class, \"wikitable sortable\")]')\n",
    "\n",
    "    #Store Extracted data\n",
    "    all_data = []\n",
    "\n",
    "    # Iterate through each ward\n",
    "    for table in tables:\n",
    "\n",
    "        # Extract table headers to determine column indices\n",
    "        header_indices = {header.text_content().strip(): idx for idx, header in enumerate(table.xpath('.//tr/th'))}\n",
    "        columns_of_interest = [\"Alderperson\", \"Term in office\", \"Party\", \"Notes\"]\n",
    "\n",
    "        for row in table.xpath('.//tr[position()>1]'):\n",
    "            \n",
    "            # Extract both <td> and <th scope=\"row\"> elements\n",
    "            cells = row.xpath('.//td | .//th[@scope=\"row\"]')\n",
    "            row_data = [\n",
    "                cells[header_indices[col]].text_content().strip() \n",
    "                if header_indices.get(col) is not None and header_indices[col] < len(cells) else '' \n",
    "                for col in columns_of_interest\n",
    "            ]\n",
    "            all_data.append(row_data)\n",
    "\n",
    "        # Print the data for the first table and break\n",
    "        print(\"First Table Data:\")\n",
    "        for row in all_data:\n",
    "            print(f\"{row[0]} | {row[1]} | {row[2]} | {row[3]}\")\n",
    "        break  # Stop after processing the first table\n",
    "\n",
    "    # Handle any None or empty values\n",
    "    for ward in all_data:\n",
    "        for i in range(len(ward)):\n",
    "            if ward[i] is None or ward[i] == '':\n",
    "                ward[i] = 'N/A'\n",
    "\n",
    "    # Save the data to a JSON file\n",
    "    with open(\"all_data.json\", \"w\") as jd:\n",
    "        json.dump(all_data, jd, indent=1)\n",
    "\n",
    "    return all_data\n",
    "\n",
    "\n",
    "# Call the function and store the scraped data\n",
    "scraped_data = scrape_wikipedia_table(url)\n",
    "\n",
    "print(\"Scraping completed.\")\n"
   ]
  },
  {
   "cell_type": "code",
   "execution_count": null,
   "metadata": {},
   "outputs": [],
   "source": []
  }
 ],
 "metadata": {
  "kernelspec": {
   "display_name": "Python 3",
   "language": "python",
   "name": "python3"
  },
  "language_info": {
   "codemirror_mode": {
    "name": "ipython",
    "version": 3
   },
   "file_extension": ".py",
   "mimetype": "text/x-python",
   "name": "python",
   "nbconvert_exporter": "python",
   "pygments_lexer": "ipython3",
   "version": "3.12.4"
  }
 },
 "nbformat": 4,
 "nbformat_minor": 2
}
