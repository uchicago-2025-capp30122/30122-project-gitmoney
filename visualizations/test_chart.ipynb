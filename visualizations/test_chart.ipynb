{
 "cells": [
  {
   "cell_type": "code",
   "execution_count": null,
   "metadata": {},
   "outputs": [
    {
     "data": {
      "text/html": [
       "        <script type=\"text/javascript\">\n",
       "        window.PlotlyConfig = {MathJaxConfig: 'local'};\n",
       "        if (window.MathJax && window.MathJax.Hub && window.MathJax.Hub.Config) {window.MathJax.Hub.Config({SVG: {font: \"STIX-Web\"}});}\n",
       "        </script>\n",
       "        <script type=\"module\">import \"https://cdn.plot.ly/plotly-3.0.0.min\"</script>\n",
       "        "
      ]
     },
     "metadata": {},
     "output_type": "display_data"
    },
    {
     "name": "stdout",
     "output_type": "stream",
     "text": [
      "File path: c:\\Users\\getne\\30122-project-gitmoney\\data\\calls_money.csv\n"
     ]
    },
    {
     "data": {
      "application/vnd.plotly.v1+json": {
       "config": {
        "plotlyServerURL": "https://plot.ly"
       },
       "data": [
        {
         "hoverinfo": "y+name",
         "hovertemplate": "%{y}<extra></extra>",
         "marker": {
          "color": "#1f77b4"
         },
         "name": "Beautification",
         "type": "bar",
         "width": 0.8,
         "x": [
          2019,
          2020,
          2021,
          2022,
          2023
         ],
         "y": [
          192651,
          226121,
          183231,
          151475,
          145395
         ]
        },
        {
         "hoverinfo": "y+name",
         "hovertemplate": "%{y}<extra></extra>",
         "marker": {
          "color": "#ff7f0e"
         },
         "name": "Bike Infrastructure",
         "type": "bar",
         "width": 0.8,
         "x": [
          2019,
          2020,
          2021,
          2022,
          2023
         ],
         "y": [
          2119,
          1118,
          1986,
          3446,
          2734
         ]
        },
        {
         "hoverinfo": "y+name",
         "hovertemplate": "%{y}<extra></extra>",
         "marker": {
          "color": "#2ca02c"
         },
         "name": "Lighting",
         "type": "bar",
         "width": 0.8,
         "x": [
          2019,
          2020,
          2021,
          2022,
          2023
         ],
         "y": [
          27863,
          17720,
          8870,
          7559,
          8501
         ]
        },
        {
         "hoverinfo": "y+name",
         "hovertemplate": "%{y}<extra></extra>",
         "marker": {
          "color": "#d62728"
         },
         "name": "Parks & Recreation",
         "type": "bar",
         "width": 0.8,
         "x": [
          2019,
          2020,
          2021,
          2022,
          2023
         ],
         "y": [
          404,
          135,
          596,
          338,
          313
         ]
        },
        {
         "hoverinfo": "y+name",
         "hovertemplate": "%{y}<extra></extra>",
         "marker": {
          "color": "#9467bd"
         },
         "name": "Plants, Gardens, & Sustainability",
         "type": "bar",
         "width": 0.8,
         "x": [
          2019,
          2020,
          2021,
          2022,
          2023
         ],
         "y": [
          21484,
          21141,
          21727,
          31647,
          40708
         ]
        },
        {
         "hoverinfo": "y+name",
         "hovertemplate": "%{y}<extra></extra>",
         "marker": {
          "color": "#ffcc00"
         },
         "name": "Schools & Libraries",
         "type": "bar",
         "width": 0.8,
         "x": [
          2019,
          2020,
          2021,
          2022,
          2023
         ],
         "y": [
          0,
          0,
          0,
          0,
          0
         ]
        },
        {
         "hoverinfo": "y+name",
         "hovertemplate": "%{y}<extra></extra>",
         "marker": {
          "color": "#e377c2"
         },
         "name": "Security Cameras",
         "type": "bar",
         "width": 0.8,
         "x": [
          2019,
          2020,
          2021,
          2022,
          2023
         ],
         "y": [
          8966,
          10835,
          11289,
          11720,
          12045
         ]
        },
        {
         "hoverinfo": "y+name",
         "hovertemplate": "%{y}<extra></extra>",
         "marker": {
          "color": "#7f7f7f"
         },
         "name": "Streets & Transportation",
         "type": "bar",
         "width": 0.8,
         "x": [
          2019,
          2020,
          2021,
          2022,
          2023
         ],
         "y": [
          264391,
          199902,
          167919,
          187936,
          160300
         ]
        }
       ],
       "layout": {
        "barmode": "stack",
        "hovermode": "x unified",
        "legend": {
         "bgcolor": "rgba(255,255,255,0.5)",
         "title": {
          "text": "Categories"
         },
         "x": 1,
         "y": 1
        },
        "template": {
         "data": {
          "bar": [
           {
            "error_x": {
             "color": "#2a3f5f"
            },
            "error_y": {
             "color": "#2a3f5f"
            },
            "marker": {
             "line": {
              "color": "white",
              "width": 0.5
             },
             "pattern": {
              "fillmode": "overlay",
              "size": 10,
              "solidity": 0.2
             }
            },
            "type": "bar"
           }
          ],
          "barpolar": [
           {
            "marker": {
             "line": {
              "color": "white",
              "width": 0.5
             },
             "pattern": {
              "fillmode": "overlay",
              "size": 10,
              "solidity": 0.2
             }
            },
            "type": "barpolar"
           }
          ],
          "carpet": [
           {
            "aaxis": {
             "endlinecolor": "#2a3f5f",
             "gridcolor": "#C8D4E3",
             "linecolor": "#C8D4E3",
             "minorgridcolor": "#C8D4E3",
             "startlinecolor": "#2a3f5f"
            },
            "baxis": {
             "endlinecolor": "#2a3f5f",
             "gridcolor": "#C8D4E3",
             "linecolor": "#C8D4E3",
             "minorgridcolor": "#C8D4E3",
             "startlinecolor": "#2a3f5f"
            },
            "type": "carpet"
           }
          ],
          "choropleth": [
           {
            "colorbar": {
             "outlinewidth": 0,
             "ticks": ""
            },
            "type": "choropleth"
           }
          ],
          "contour": [
           {
            "colorbar": {
             "outlinewidth": 0,
             "ticks": ""
            },
            "colorscale": [
             [
              0,
              "#0d0887"
             ],
             [
              0.1111111111111111,
              "#46039f"
             ],
             [
              0.2222222222222222,
              "#7201a8"
             ],
             [
              0.3333333333333333,
              "#9c179e"
             ],
             [
              0.4444444444444444,
              "#bd3786"
             ],
             [
              0.5555555555555556,
              "#d8576b"
             ],
             [
              0.6666666666666666,
              "#ed7953"
             ],
             [
              0.7777777777777778,
              "#fb9f3a"
             ],
             [
              0.8888888888888888,
              "#fdca26"
             ],
             [
              1,
              "#f0f921"
             ]
            ],
            "type": "contour"
           }
          ],
          "contourcarpet": [
           {
            "colorbar": {
             "outlinewidth": 0,
             "ticks": ""
            },
            "type": "contourcarpet"
           }
          ],
          "heatmap": [
           {
            "colorbar": {
             "outlinewidth": 0,
             "ticks": ""
            },
            "colorscale": [
             [
              0,
              "#0d0887"
             ],
             [
              0.1111111111111111,
              "#46039f"
             ],
             [
              0.2222222222222222,
              "#7201a8"
             ],
             [
              0.3333333333333333,
              "#9c179e"
             ],
             [
              0.4444444444444444,
              "#bd3786"
             ],
             [
              0.5555555555555556,
              "#d8576b"
             ],
             [
              0.6666666666666666,
              "#ed7953"
             ],
             [
              0.7777777777777778,
              "#fb9f3a"
             ],
             [
              0.8888888888888888,
              "#fdca26"
             ],
             [
              1,
              "#f0f921"
             ]
            ],
            "type": "heatmap"
           }
          ],
          "histogram": [
           {
            "marker": {
             "pattern": {
              "fillmode": "overlay",
              "size": 10,
              "solidity": 0.2
             }
            },
            "type": "histogram"
           }
          ],
          "histogram2d": [
           {
            "colorbar": {
             "outlinewidth": 0,
             "ticks": ""
            },
            "colorscale": [
             [
              0,
              "#0d0887"
             ],
             [
              0.1111111111111111,
              "#46039f"
             ],
             [
              0.2222222222222222,
              "#7201a8"
             ],
             [
              0.3333333333333333,
              "#9c179e"
             ],
             [
              0.4444444444444444,
              "#bd3786"
             ],
             [
              0.5555555555555556,
              "#d8576b"
             ],
             [
              0.6666666666666666,
              "#ed7953"
             ],
             [
              0.7777777777777778,
              "#fb9f3a"
             ],
             [
              0.8888888888888888,
              "#fdca26"
             ],
             [
              1,
              "#f0f921"
             ]
            ],
            "type": "histogram2d"
           }
          ],
          "histogram2dcontour": [
           {
            "colorbar": {
             "outlinewidth": 0,
             "ticks": ""
            },
            "colorscale": [
             [
              0,
              "#0d0887"
             ],
             [
              0.1111111111111111,
              "#46039f"
             ],
             [
              0.2222222222222222,
              "#7201a8"
             ],
             [
              0.3333333333333333,
              "#9c179e"
             ],
             [
              0.4444444444444444,
              "#bd3786"
             ],
             [
              0.5555555555555556,
              "#d8576b"
             ],
             [
              0.6666666666666666,
              "#ed7953"
             ],
             [
              0.7777777777777778,
              "#fb9f3a"
             ],
             [
              0.8888888888888888,
              "#fdca26"
             ],
             [
              1,
              "#f0f921"
             ]
            ],
            "type": "histogram2dcontour"
           }
          ],
          "mesh3d": [
           {
            "colorbar": {
             "outlinewidth": 0,
             "ticks": ""
            },
            "type": "mesh3d"
           }
          ],
          "parcoords": [
           {
            "line": {
             "colorbar": {
              "outlinewidth": 0,
              "ticks": ""
             }
            },
            "type": "parcoords"
           }
          ],
          "pie": [
           {
            "automargin": true,
            "type": "pie"
           }
          ],
          "scatter": [
           {
            "fillpattern": {
             "fillmode": "overlay",
             "size": 10,
             "solidity": 0.2
            },
            "type": "scatter"
           }
          ],
          "scatter3d": [
           {
            "line": {
             "colorbar": {
              "outlinewidth": 0,
              "ticks": ""
             }
            },
            "marker": {
             "colorbar": {
              "outlinewidth": 0,
              "ticks": ""
             }
            },
            "type": "scatter3d"
           }
          ],
          "scattercarpet": [
           {
            "marker": {
             "colorbar": {
              "outlinewidth": 0,
              "ticks": ""
             }
            },
            "type": "scattercarpet"
           }
          ],
          "scattergeo": [
           {
            "marker": {
             "colorbar": {
              "outlinewidth": 0,
              "ticks": ""
             }
            },
            "type": "scattergeo"
           }
          ],
          "scattergl": [
           {
            "marker": {
             "colorbar": {
              "outlinewidth": 0,
              "ticks": ""
             }
            },
            "type": "scattergl"
           }
          ],
          "scattermap": [
           {
            "marker": {
             "colorbar": {
              "outlinewidth": 0,
              "ticks": ""
             }
            },
            "type": "scattermap"
           }
          ],
          "scattermapbox": [
           {
            "marker": {
             "colorbar": {
              "outlinewidth": 0,
              "ticks": ""
             }
            },
            "type": "scattermapbox"
           }
          ],
          "scatterpolar": [
           {
            "marker": {
             "colorbar": {
              "outlinewidth": 0,
              "ticks": ""
             }
            },
            "type": "scatterpolar"
           }
          ],
          "scatterpolargl": [
           {
            "marker": {
             "colorbar": {
              "outlinewidth": 0,
              "ticks": ""
             }
            },
            "type": "scatterpolargl"
           }
          ],
          "scatterternary": [
           {
            "marker": {
             "colorbar": {
              "outlinewidth": 0,
              "ticks": ""
             }
            },
            "type": "scatterternary"
           }
          ],
          "surface": [
           {
            "colorbar": {
             "outlinewidth": 0,
             "ticks": ""
            },
            "colorscale": [
             [
              0,
              "#0d0887"
             ],
             [
              0.1111111111111111,
              "#46039f"
             ],
             [
              0.2222222222222222,
              "#7201a8"
             ],
             [
              0.3333333333333333,
              "#9c179e"
             ],
             [
              0.4444444444444444,
              "#bd3786"
             ],
             [
              0.5555555555555556,
              "#d8576b"
             ],
             [
              0.6666666666666666,
              "#ed7953"
             ],
             [
              0.7777777777777778,
              "#fb9f3a"
             ],
             [
              0.8888888888888888,
              "#fdca26"
             ],
             [
              1,
              "#f0f921"
             ]
            ],
            "type": "surface"
           }
          ],
          "table": [
           {
            "cells": {
             "fill": {
              "color": "#EBF0F8"
             },
             "line": {
              "color": "white"
             }
            },
            "header": {
             "fill": {
              "color": "#C8D4E3"
             },
             "line": {
              "color": "white"
             }
            },
            "type": "table"
           }
          ]
         },
         "layout": {
          "annotationdefaults": {
           "arrowcolor": "#2a3f5f",
           "arrowhead": 0,
           "arrowwidth": 1
          },
          "autotypenumbers": "strict",
          "coloraxis": {
           "colorbar": {
            "outlinewidth": 0,
            "ticks": ""
           }
          },
          "colorscale": {
           "diverging": [
            [
             0,
             "#8e0152"
            ],
            [
             0.1,
             "#c51b7d"
            ],
            [
             0.2,
             "#de77ae"
            ],
            [
             0.3,
             "#f1b6da"
            ],
            [
             0.4,
             "#fde0ef"
            ],
            [
             0.5,
             "#f7f7f7"
            ],
            [
             0.6,
             "#e6f5d0"
            ],
            [
             0.7,
             "#b8e186"
            ],
            [
             0.8,
             "#7fbc41"
            ],
            [
             0.9,
             "#4d9221"
            ],
            [
             1,
             "#276419"
            ]
           ],
           "sequential": [
            [
             0,
             "#0d0887"
            ],
            [
             0.1111111111111111,
             "#46039f"
            ],
            [
             0.2222222222222222,
             "#7201a8"
            ],
            [
             0.3333333333333333,
             "#9c179e"
            ],
            [
             0.4444444444444444,
             "#bd3786"
            ],
            [
             0.5555555555555556,
             "#d8576b"
            ],
            [
             0.6666666666666666,
             "#ed7953"
            ],
            [
             0.7777777777777778,
             "#fb9f3a"
            ],
            [
             0.8888888888888888,
             "#fdca26"
            ],
            [
             1,
             "#f0f921"
            ]
           ],
           "sequentialminus": [
            [
             0,
             "#0d0887"
            ],
            [
             0.1111111111111111,
             "#46039f"
            ],
            [
             0.2222222222222222,
             "#7201a8"
            ],
            [
             0.3333333333333333,
             "#9c179e"
            ],
            [
             0.4444444444444444,
             "#bd3786"
            ],
            [
             0.5555555555555556,
             "#d8576b"
            ],
            [
             0.6666666666666666,
             "#ed7953"
            ],
            [
             0.7777777777777778,
             "#fb9f3a"
            ],
            [
             0.8888888888888888,
             "#fdca26"
            ],
            [
             1,
             "#f0f921"
            ]
           ]
          },
          "colorway": [
           "#636efa",
           "#EF553B",
           "#00cc96",
           "#ab63fa",
           "#FFA15A",
           "#19d3f3",
           "#FF6692",
           "#B6E880",
           "#FF97FF",
           "#FECB52"
          ],
          "font": {
           "color": "#2a3f5f"
          },
          "geo": {
           "bgcolor": "white",
           "lakecolor": "white",
           "landcolor": "white",
           "showlakes": true,
           "showland": true,
           "subunitcolor": "#C8D4E3"
          },
          "hoverlabel": {
           "align": "left"
          },
          "hovermode": "closest",
          "mapbox": {
           "style": "light"
          },
          "paper_bgcolor": "white",
          "plot_bgcolor": "white",
          "polar": {
           "angularaxis": {
            "gridcolor": "#EBF0F8",
            "linecolor": "#EBF0F8",
            "ticks": ""
           },
           "bgcolor": "white",
           "radialaxis": {
            "gridcolor": "#EBF0F8",
            "linecolor": "#EBF0F8",
            "ticks": ""
           }
          },
          "scene": {
           "xaxis": {
            "backgroundcolor": "white",
            "gridcolor": "#DFE8F3",
            "gridwidth": 2,
            "linecolor": "#EBF0F8",
            "showbackground": true,
            "ticks": "",
            "zerolinecolor": "#EBF0F8"
           },
           "yaxis": {
            "backgroundcolor": "white",
            "gridcolor": "#DFE8F3",
            "gridwidth": 2,
            "linecolor": "#EBF0F8",
            "showbackground": true,
            "ticks": "",
            "zerolinecolor": "#EBF0F8"
           },
           "zaxis": {
            "backgroundcolor": "white",
            "gridcolor": "#DFE8F3",
            "gridwidth": 2,
            "linecolor": "#EBF0F8",
            "showbackground": true,
            "ticks": "",
            "zerolinecolor": "#EBF0F8"
           }
          },
          "shapedefaults": {
           "line": {
            "color": "#2a3f5f"
           }
          },
          "ternary": {
           "aaxis": {
            "gridcolor": "#DFE8F3",
            "linecolor": "#A2B1C6",
            "ticks": ""
           },
           "baxis": {
            "gridcolor": "#DFE8F3",
            "linecolor": "#A2B1C6",
            "ticks": ""
           },
           "bgcolor": "white",
           "caxis": {
            "gridcolor": "#DFE8F3",
            "linecolor": "#A2B1C6",
            "ticks": ""
           }
          },
          "title": {
           "x": 0.05
          },
          "xaxis": {
           "automargin": true,
           "gridcolor": "#EBF0F8",
           "linecolor": "#EBF0F8",
           "ticks": "",
           "title": {
            "standoff": 15
           },
           "zerolinecolor": "#EBF0F8",
           "zerolinewidth": 2
          },
          "yaxis": {
           "automargin": true,
           "gridcolor": "#EBF0F8",
           "linecolor": "#EBF0F8",
           "ticks": "",
           "title": {
            "standoff": 15
           },
           "zerolinecolor": "#EBF0F8",
           "zerolinewidth": 2
          }
         }
        },
        "title": {
         "font": {
          "size": 16
         },
         "text": "311 Calls by Year and Category (2019-2023)"
        },
        "width": 800,
        "xaxis": {
         "automargin": true,
         "tickangle": 0,
         "tickfont": {
          "size": 14
         },
         "ticklen": 8,
         "tickmode": "array",
         "ticktext": [
          "2019",
          "2020",
          "2021",
          "2022",
          "2023"
         ],
         "tickvals": [
          2019,
          2020,
          2021,
          2022,
          2023
         ],
         "tickwidth": 1,
         "title": {
          "text": "Year"
         }
        },
        "yaxis": {
         "title": {
          "text": "Number of 311 Calls"
         }
        }
       }
      },
      "text/html": [
       "<div>            <script src=\"https://cdnjs.cloudflare.com/ajax/libs/mathjax/2.7.5/MathJax.js?config=TeX-AMS-MML_SVG\"></script><script type=\"text/javascript\">if (window.MathJax && window.MathJax.Hub && window.MathJax.Hub.Config) {window.MathJax.Hub.Config({SVG: {font: \"STIX-Web\"}});}</script>                <script type=\"text/javascript\">window.PlotlyConfig = {MathJaxConfig: 'local'};</script>\n",
       "        <script charset=\"utf-8\" src=\"https://cdn.plot.ly/plotly-3.0.0.min.js\"></script>                <div id=\"1c64b0ad-5f46-4fa3-8a32-8c7e2f13e36a\" class=\"plotly-graph-div\" style=\"height:525px; width:800px;\"></div>            <script type=\"text/javascript\">                window.PLOTLYENV=window.PLOTLYENV || {};                                if (document.getElementById(\"1c64b0ad-5f46-4fa3-8a32-8c7e2f13e36a\")) {                    Plotly.newPlot(                        \"1c64b0ad-5f46-4fa3-8a32-8c7e2f13e36a\",                        [{\"hoverinfo\":\"y+name\",\"hovertemplate\":\"%{y}\\u003cextra\\u003e\\u003c\\u002fextra\\u003e\",\"marker\":{\"color\":\"#1f77b4\"},\"name\":\"Beautification\",\"width\":0.8,\"x\":[2019,2020,2021,2022,2023],\"y\":[192651.0,226121.0,183231.0,151475.0,145395.0],\"type\":\"bar\"},{\"hoverinfo\":\"y+name\",\"hovertemplate\":\"%{y}\\u003cextra\\u003e\\u003c\\u002fextra\\u003e\",\"marker\":{\"color\":\"#ff7f0e\"},\"name\":\"Bike Infrastructure\",\"width\":0.8,\"x\":[2019,2020,2021,2022,2023],\"y\":[2119.0,1118.0,1986.0,3446.0,2734.0],\"type\":\"bar\"},{\"hoverinfo\":\"y+name\",\"hovertemplate\":\"%{y}\\u003cextra\\u003e\\u003c\\u002fextra\\u003e\",\"marker\":{\"color\":\"#2ca02c\"},\"name\":\"Lighting\",\"width\":0.8,\"x\":[2019,2020,2021,2022,2023],\"y\":[27863.0,17720.0,8870.0,7559.0,8501.0],\"type\":\"bar\"},{\"hoverinfo\":\"y+name\",\"hovertemplate\":\"%{y}\\u003cextra\\u003e\\u003c\\u002fextra\\u003e\",\"marker\":{\"color\":\"#d62728\"},\"name\":\"Parks & Recreation\",\"width\":0.8,\"x\":[2019,2020,2021,2022,2023],\"y\":[404.0,135.0,596.0,338.0,313.0],\"type\":\"bar\"},{\"hoverinfo\":\"y+name\",\"hovertemplate\":\"%{y}\\u003cextra\\u003e\\u003c\\u002fextra\\u003e\",\"marker\":{\"color\":\"#9467bd\"},\"name\":\"Plants, Gardens, & Sustainability\",\"width\":0.8,\"x\":[2019,2020,2021,2022,2023],\"y\":[21484.0,21141.0,21727.0,31647.0,40708.0],\"type\":\"bar\"},{\"hoverinfo\":\"y+name\",\"hovertemplate\":\"%{y}\\u003cextra\\u003e\\u003c\\u002fextra\\u003e\",\"marker\":{\"color\":\"#ffcc00\"},\"name\":\"Schools & Libraries\",\"width\":0.8,\"x\":[2019,2020,2021,2022,2023],\"y\":[0.0,0.0,0.0,0.0,0.0],\"type\":\"bar\"},{\"hoverinfo\":\"y+name\",\"hovertemplate\":\"%{y}\\u003cextra\\u003e\\u003c\\u002fextra\\u003e\",\"marker\":{\"color\":\"#e377c2\"},\"name\":\"Security Cameras\",\"width\":0.8,\"x\":[2019,2020,2021,2022,2023],\"y\":[8966.0,10835.0,11289.0,11720.0,12045.0],\"type\":\"bar\"},{\"hoverinfo\":\"y+name\",\"hovertemplate\":\"%{y}\\u003cextra\\u003e\\u003c\\u002fextra\\u003e\",\"marker\":{\"color\":\"#7f7f7f\"},\"name\":\"Streets & Transportation\",\"width\":0.8,\"x\":[2019,2020,2021,2022,2023],\"y\":[264391.0,199902.0,167919.0,187936.0,160300.0],\"type\":\"bar\"}],                        {\"barmode\":\"stack\",\"hovermode\":\"x unified\",\"legend\":{\"bgcolor\":\"rgba(255,255,255,0.5)\",\"title\":{\"text\":\"Categories\"},\"x\":1,\"y\":1},\"template\":{\"data\":{\"barpolar\":[{\"marker\":{\"line\":{\"color\":\"white\",\"width\":0.5},\"pattern\":{\"fillmode\":\"overlay\",\"size\":10,\"solidity\":0.2}},\"type\":\"barpolar\"}],\"bar\":[{\"error_x\":{\"color\":\"#2a3f5f\"},\"error_y\":{\"color\":\"#2a3f5f\"},\"marker\":{\"line\":{\"color\":\"white\",\"width\":0.5},\"pattern\":{\"fillmode\":\"overlay\",\"size\":10,\"solidity\":0.2}},\"type\":\"bar\"}],\"carpet\":[{\"aaxis\":{\"endlinecolor\":\"#2a3f5f\",\"gridcolor\":\"#C8D4E3\",\"linecolor\":\"#C8D4E3\",\"minorgridcolor\":\"#C8D4E3\",\"startlinecolor\":\"#2a3f5f\"},\"baxis\":{\"endlinecolor\":\"#2a3f5f\",\"gridcolor\":\"#C8D4E3\",\"linecolor\":\"#C8D4E3\",\"minorgridcolor\":\"#C8D4E3\",\"startlinecolor\":\"#2a3f5f\"},\"type\":\"carpet\"}],\"choropleth\":[{\"colorbar\":{\"outlinewidth\":0,\"ticks\":\"\"},\"type\":\"choropleth\"}],\"contourcarpet\":[{\"colorbar\":{\"outlinewidth\":0,\"ticks\":\"\"},\"type\":\"contourcarpet\"}],\"contour\":[{\"colorbar\":{\"outlinewidth\":0,\"ticks\":\"\"},\"colorscale\":[[0.0,\"#0d0887\"],[0.1111111111111111,\"#46039f\"],[0.2222222222222222,\"#7201a8\"],[0.3333333333333333,\"#9c179e\"],[0.4444444444444444,\"#bd3786\"],[0.5555555555555556,\"#d8576b\"],[0.6666666666666666,\"#ed7953\"],[0.7777777777777778,\"#fb9f3a\"],[0.8888888888888888,\"#fdca26\"],[1.0,\"#f0f921\"]],\"type\":\"contour\"}],\"heatmap\":[{\"colorbar\":{\"outlinewidth\":0,\"ticks\":\"\"},\"colorscale\":[[0.0,\"#0d0887\"],[0.1111111111111111,\"#46039f\"],[0.2222222222222222,\"#7201a8\"],[0.3333333333333333,\"#9c179e\"],[0.4444444444444444,\"#bd3786\"],[0.5555555555555556,\"#d8576b\"],[0.6666666666666666,\"#ed7953\"],[0.7777777777777778,\"#fb9f3a\"],[0.8888888888888888,\"#fdca26\"],[1.0,\"#f0f921\"]],\"type\":\"heatmap\"}],\"histogram2dcontour\":[{\"colorbar\":{\"outlinewidth\":0,\"ticks\":\"\"},\"colorscale\":[[0.0,\"#0d0887\"],[0.1111111111111111,\"#46039f\"],[0.2222222222222222,\"#7201a8\"],[0.3333333333333333,\"#9c179e\"],[0.4444444444444444,\"#bd3786\"],[0.5555555555555556,\"#d8576b\"],[0.6666666666666666,\"#ed7953\"],[0.7777777777777778,\"#fb9f3a\"],[0.8888888888888888,\"#fdca26\"],[1.0,\"#f0f921\"]],\"type\":\"histogram2dcontour\"}],\"histogram2d\":[{\"colorbar\":{\"outlinewidth\":0,\"ticks\":\"\"},\"colorscale\":[[0.0,\"#0d0887\"],[0.1111111111111111,\"#46039f\"],[0.2222222222222222,\"#7201a8\"],[0.3333333333333333,\"#9c179e\"],[0.4444444444444444,\"#bd3786\"],[0.5555555555555556,\"#d8576b\"],[0.6666666666666666,\"#ed7953\"],[0.7777777777777778,\"#fb9f3a\"],[0.8888888888888888,\"#fdca26\"],[1.0,\"#f0f921\"]],\"type\":\"histogram2d\"}],\"histogram\":[{\"marker\":{\"pattern\":{\"fillmode\":\"overlay\",\"size\":10,\"solidity\":0.2}},\"type\":\"histogram\"}],\"mesh3d\":[{\"colorbar\":{\"outlinewidth\":0,\"ticks\":\"\"},\"type\":\"mesh3d\"}],\"parcoords\":[{\"line\":{\"colorbar\":{\"outlinewidth\":0,\"ticks\":\"\"}},\"type\":\"parcoords\"}],\"pie\":[{\"automargin\":true,\"type\":\"pie\"}],\"scatter3d\":[{\"line\":{\"colorbar\":{\"outlinewidth\":0,\"ticks\":\"\"}},\"marker\":{\"colorbar\":{\"outlinewidth\":0,\"ticks\":\"\"}},\"type\":\"scatter3d\"}],\"scattercarpet\":[{\"marker\":{\"colorbar\":{\"outlinewidth\":0,\"ticks\":\"\"}},\"type\":\"scattercarpet\"}],\"scattergeo\":[{\"marker\":{\"colorbar\":{\"outlinewidth\":0,\"ticks\":\"\"}},\"type\":\"scattergeo\"}],\"scattergl\":[{\"marker\":{\"colorbar\":{\"outlinewidth\":0,\"ticks\":\"\"}},\"type\":\"scattergl\"}],\"scattermapbox\":[{\"marker\":{\"colorbar\":{\"outlinewidth\":0,\"ticks\":\"\"}},\"type\":\"scattermapbox\"}],\"scattermap\":[{\"marker\":{\"colorbar\":{\"outlinewidth\":0,\"ticks\":\"\"}},\"type\":\"scattermap\"}],\"scatterpolargl\":[{\"marker\":{\"colorbar\":{\"outlinewidth\":0,\"ticks\":\"\"}},\"type\":\"scatterpolargl\"}],\"scatterpolar\":[{\"marker\":{\"colorbar\":{\"outlinewidth\":0,\"ticks\":\"\"}},\"type\":\"scatterpolar\"}],\"scatter\":[{\"fillpattern\":{\"fillmode\":\"overlay\",\"size\":10,\"solidity\":0.2},\"type\":\"scatter\"}],\"scatterternary\":[{\"marker\":{\"colorbar\":{\"outlinewidth\":0,\"ticks\":\"\"}},\"type\":\"scatterternary\"}],\"surface\":[{\"colorbar\":{\"outlinewidth\":0,\"ticks\":\"\"},\"colorscale\":[[0.0,\"#0d0887\"],[0.1111111111111111,\"#46039f\"],[0.2222222222222222,\"#7201a8\"],[0.3333333333333333,\"#9c179e\"],[0.4444444444444444,\"#bd3786\"],[0.5555555555555556,\"#d8576b\"],[0.6666666666666666,\"#ed7953\"],[0.7777777777777778,\"#fb9f3a\"],[0.8888888888888888,\"#fdca26\"],[1.0,\"#f0f921\"]],\"type\":\"surface\"}],\"table\":[{\"cells\":{\"fill\":{\"color\":\"#EBF0F8\"},\"line\":{\"color\":\"white\"}},\"header\":{\"fill\":{\"color\":\"#C8D4E3\"},\"line\":{\"color\":\"white\"}},\"type\":\"table\"}]},\"layout\":{\"annotationdefaults\":{\"arrowcolor\":\"#2a3f5f\",\"arrowhead\":0,\"arrowwidth\":1},\"autotypenumbers\":\"strict\",\"coloraxis\":{\"colorbar\":{\"outlinewidth\":0,\"ticks\":\"\"}},\"colorscale\":{\"diverging\":[[0,\"#8e0152\"],[0.1,\"#c51b7d\"],[0.2,\"#de77ae\"],[0.3,\"#f1b6da\"],[0.4,\"#fde0ef\"],[0.5,\"#f7f7f7\"],[0.6,\"#e6f5d0\"],[0.7,\"#b8e186\"],[0.8,\"#7fbc41\"],[0.9,\"#4d9221\"],[1,\"#276419\"]],\"sequential\":[[0.0,\"#0d0887\"],[0.1111111111111111,\"#46039f\"],[0.2222222222222222,\"#7201a8\"],[0.3333333333333333,\"#9c179e\"],[0.4444444444444444,\"#bd3786\"],[0.5555555555555556,\"#d8576b\"],[0.6666666666666666,\"#ed7953\"],[0.7777777777777778,\"#fb9f3a\"],[0.8888888888888888,\"#fdca26\"],[1.0,\"#f0f921\"]],\"sequentialminus\":[[0.0,\"#0d0887\"],[0.1111111111111111,\"#46039f\"],[0.2222222222222222,\"#7201a8\"],[0.3333333333333333,\"#9c179e\"],[0.4444444444444444,\"#bd3786\"],[0.5555555555555556,\"#d8576b\"],[0.6666666666666666,\"#ed7953\"],[0.7777777777777778,\"#fb9f3a\"],[0.8888888888888888,\"#fdca26\"],[1.0,\"#f0f921\"]]},\"colorway\":[\"#636efa\",\"#EF553B\",\"#00cc96\",\"#ab63fa\",\"#FFA15A\",\"#19d3f3\",\"#FF6692\",\"#B6E880\",\"#FF97FF\",\"#FECB52\"],\"font\":{\"color\":\"#2a3f5f\"},\"geo\":{\"bgcolor\":\"white\",\"lakecolor\":\"white\",\"landcolor\":\"white\",\"showlakes\":true,\"showland\":true,\"subunitcolor\":\"#C8D4E3\"},\"hoverlabel\":{\"align\":\"left\"},\"hovermode\":\"closest\",\"mapbox\":{\"style\":\"light\"},\"paper_bgcolor\":\"white\",\"plot_bgcolor\":\"white\",\"polar\":{\"angularaxis\":{\"gridcolor\":\"#EBF0F8\",\"linecolor\":\"#EBF0F8\",\"ticks\":\"\"},\"bgcolor\":\"white\",\"radialaxis\":{\"gridcolor\":\"#EBF0F8\",\"linecolor\":\"#EBF0F8\",\"ticks\":\"\"}},\"scene\":{\"xaxis\":{\"backgroundcolor\":\"white\",\"gridcolor\":\"#DFE8F3\",\"gridwidth\":2,\"linecolor\":\"#EBF0F8\",\"showbackground\":true,\"ticks\":\"\",\"zerolinecolor\":\"#EBF0F8\"},\"yaxis\":{\"backgroundcolor\":\"white\",\"gridcolor\":\"#DFE8F3\",\"gridwidth\":2,\"linecolor\":\"#EBF0F8\",\"showbackground\":true,\"ticks\":\"\",\"zerolinecolor\":\"#EBF0F8\"},\"zaxis\":{\"backgroundcolor\":\"white\",\"gridcolor\":\"#DFE8F3\",\"gridwidth\":2,\"linecolor\":\"#EBF0F8\",\"showbackground\":true,\"ticks\":\"\",\"zerolinecolor\":\"#EBF0F8\"}},\"shapedefaults\":{\"line\":{\"color\":\"#2a3f5f\"}},\"ternary\":{\"aaxis\":{\"gridcolor\":\"#DFE8F3\",\"linecolor\":\"#A2B1C6\",\"ticks\":\"\"},\"baxis\":{\"gridcolor\":\"#DFE8F3\",\"linecolor\":\"#A2B1C6\",\"ticks\":\"\"},\"bgcolor\":\"white\",\"caxis\":{\"gridcolor\":\"#DFE8F3\",\"linecolor\":\"#A2B1C6\",\"ticks\":\"\"}},\"title\":{\"x\":0.05},\"xaxis\":{\"automargin\":true,\"gridcolor\":\"#EBF0F8\",\"linecolor\":\"#EBF0F8\",\"ticks\":\"\",\"title\":{\"standoff\":15},\"zerolinecolor\":\"#EBF0F8\",\"zerolinewidth\":2},\"yaxis\":{\"automargin\":true,\"gridcolor\":\"#EBF0F8\",\"linecolor\":\"#EBF0F8\",\"ticks\":\"\",\"title\":{\"standoff\":15},\"zerolinecolor\":\"#EBF0F8\",\"zerolinewidth\":2}}},\"title\":{\"font\":{\"size\":16},\"text\":\"311 Calls by Year and Category (2019-2023)\"},\"width\":800,\"xaxis\":{\"automargin\":true,\"tickangle\":0,\"tickfont\":{\"size\":14},\"ticklen\":8,\"tickmode\":\"array\",\"ticktext\":[\"2019\",\"2020\",\"2021\",\"2022\",\"2023\"],\"tickvals\":[2019,2020,2021,2022,2023],\"tickwidth\":1,\"title\":{\"text\":\"Year\"}},\"yaxis\":{\"title\":{\"text\":\"Number of 311 Calls\"}}},                        {\"responsive\": true}                    ).then(function(){\n",
       "                            \n",
       "var gd = document.getElementById('1c64b0ad-5f46-4fa3-8a32-8c7e2f13e36a');\n",
       "var x = new MutationObserver(function (mutations, observer) {{\n",
       "        var display = window.getComputedStyle(gd).display;\n",
       "        if (!display || display === 'none') {{\n",
       "            console.log([gd, 'removed!']);\n",
       "            Plotly.purge(gd);\n",
       "            observer.disconnect();\n",
       "        }}\n",
       "}});\n",
       "\n",
       "// Listen for the removal of the full notebook cells\n",
       "var notebookContainer = gd.closest('#notebook-container');\n",
       "if (notebookContainer) {{\n",
       "    x.observe(notebookContainer, {childList: true});\n",
       "}}\n",
       "\n",
       "// Listen for the clearing of the current output cell\n",
       "var outputEl = gd.closest('.output');\n",
       "if (outputEl) {{\n",
       "    x.observe(outputEl, {childList: true});\n",
       "}}\n",
       "\n",
       "                        })                };            </script>        </div>"
      ]
     },
     "metadata": {},
     "output_type": "display_data"
    },
    {
     "data": {
      "application/vnd.plotly.v1+json": {
       "config": {
        "plotlyServerURL": "https://plot.ly"
       },
       "data": [
        {
         "hoverinfo": "y+name",
         "hovertemplate": "%{y}<extra></extra>",
         "marker": {
          "color": "#1f77b4"
         },
         "name": "Beautification",
         "type": "bar",
         "width": 0.5,
         "x": [
          1,
          2,
          3,
          4,
          5,
          6,
          7,
          8,
          9,
          10,
          11,
          12,
          13,
          14,
          15,
          16,
          17,
          18,
          19,
          20,
          21,
          22,
          23,
          24,
          25,
          26,
          27,
          28,
          29,
          30,
          31,
          32,
          33,
          34,
          35,
          36,
          37,
          38,
          39,
          40,
          41,
          42,
          43,
          44,
          45,
          46,
          47,
          48,
          49,
          50
         ],
         "y": [
          39615,
          13092,
          17400,
          14004,
          6172,
          24013,
          14047,
          16409,
          23332,
          21534,
          24715,
          41417,
          11963,
          44951,
          28584,
          38822,
          24680,
          21004,
          12692,
          27897,
          22310,
          25412,
          25041,
          36140,
          36706,
          22187,
          41345,
          35561,
          13607,
          18605,
          15794,
          28954,
          24669,
          28912,
          24404,
          17747,
          19932,
          11911,
          14361,
          13371,
          8667,
          21320,
          12904,
          11446,
          17275,
          9767,
          25092,
          10887,
          10822,
          9066
         ]
        },
        {
         "hoverinfo": "y+name",
         "hovertemplate": "%{y}<extra></extra>",
         "marker": {
          "color": "#ff7f0e"
         },
         "name": "Bike Infrastructure",
         "type": "bar",
         "width": 0.5,
         "x": [
          1,
          2,
          3,
          4,
          5,
          6,
          7,
          8,
          9,
          10,
          11,
          12,
          13,
          14,
          15,
          16,
          17,
          18,
          19,
          20,
          21,
          22,
          23,
          24,
          25,
          26,
          27,
          28,
          29,
          30,
          31,
          32,
          33,
          34,
          35,
          36,
          37,
          38,
          39,
          40,
          41,
          42,
          43,
          44,
          45,
          46,
          47,
          48,
          49,
          50
         ],
         "y": [
          576,
          288,
          165,
          260,
          101,
          115,
          13,
          14,
          14,
          34,
          256,
          37,
          14,
          28,
          38,
          8,
          23,
          10,
          11,
          21,
          68,
          17,
          25,
          20,
          486,
          109,
          3280,
          715,
          15,
          117,
          60,
          704,
          206,
          497,
          150,
          103,
          29,
          28,
          259,
          342,
          27,
          1437,
          410,
          290,
          208,
          322,
          290,
          246,
          76,
          58
         ]
        },
        {
         "hoverinfo": "y+name",
         "hovertemplate": "%{y}<extra></extra>",
         "marker": {
          "color": "#2ca02c"
         },
         "name": "Lighting",
         "type": "bar",
         "width": 0.5,
         "x": [
          1,
          2,
          3,
          4,
          5,
          6,
          7,
          8,
          9,
          10,
          11,
          12,
          13,
          14,
          15,
          16,
          17,
          18,
          19,
          20,
          21,
          22,
          23,
          24,
          25,
          26,
          27,
          28,
          29,
          30,
          31,
          32,
          33,
          34,
          35,
          36,
          37,
          38,
          39,
          40,
          41,
          42,
          43,
          44,
          45,
          46,
          47,
          48,
          49,
          50
         ],
         "y": [
          1068,
          619,
          914,
          810,
          837,
          3058,
          1690,
          3128,
          3176,
          4724,
          1571,
          1301,
          4010,
          1575,
          905,
          1908,
          2156,
          2675,
          1736,
          1559,
          3391,
          1577,
          2615,
          1250,
          1048,
          968,
          1222,
          1306,
          1767,
          1272,
          1199,
          1292,
          1526,
          2607,
          1409,
          1802,
          1566,
          2233,
          1587,
          1094,
          1733,
          253,
          564,
          528,
          2073,
          426,
          1116,
          703,
          682,
          1021
         ]
        },
        {
         "hoverinfo": "y+name",
         "hovertemplate": "%{y}<extra></extra>",
         "marker": {
          "color": "#d62728"
         },
         "name": "Parks & Recreation",
         "type": "bar",
         "width": 0.5,
         "x": [
          1,
          2,
          3,
          4,
          5,
          6,
          7,
          8,
          9,
          10,
          11,
          12,
          13,
          14,
          15,
          16,
          17,
          18,
          19,
          20,
          21,
          22,
          23,
          24,
          25,
          26,
          27,
          28,
          29,
          30,
          31,
          32,
          33,
          34,
          35,
          36,
          37,
          38,
          39,
          40,
          41,
          42,
          43,
          44,
          45,
          46,
          47,
          48,
          49,
          50
         ],
         "y": [
          29,
          9,
          108,
          46,
          37,
          131,
          56,
          76,
          73,
          39,
          27,
          24,
          2,
          8,
          44,
          119,
          48,
          17,
          30,
          61,
          79,
          11,
          11,
          69,
          47,
          67,
          99,
          113,
          62,
          31,
          10,
          8,
          37,
          60,
          27,
          25,
          47,
          10,
          42,
          15,
          14,
          15,
          12,
          8,
          23,
          24,
          20,
          26,
          6,
          13
         ]
        },
        {
         "hoverinfo": "y+name",
         "hovertemplate": "%{y}<extra></extra>",
         "marker": {
          "color": "#9467bd"
         },
         "name": "Plants, Gardens, & Sustainability",
         "type": "bar",
         "width": 0.5,
         "x": [
          1,
          2,
          3,
          4,
          5,
          6,
          7,
          8,
          9,
          10,
          11,
          12,
          13,
          14,
          15,
          16,
          17,
          18,
          19,
          20,
          21,
          22,
          23,
          24,
          25,
          26,
          27,
          28,
          29,
          30,
          31,
          32,
          33,
          34,
          35,
          36,
          37,
          38,
          39,
          40,
          41,
          42,
          43,
          44,
          45,
          46,
          47,
          48,
          49,
          50
         ],
         "y": [
          3249,
          1219,
          1515,
          1275,
          1801,
          4344,
          3677,
          5099,
          4697,
          4595,
          5257,
          4016,
          3383,
          3345,
          2867,
          3698,
          7061,
          4484,
          7921,
          2623,
          6190,
          3819,
          4571,
          4307,
          2006,
          3471,
          2744,
          2650,
          3645,
          4680,
          3493,
          4610,
          3185,
          3262,
          3761,
          3592,
          2949,
          6668,
          5731,
          3605,
          6654,
          412,
          2386,
          2088,
          6448,
          1405,
          4326,
          2327,
          1800,
          3172
         ]
        },
        {
         "hoverinfo": "y+name",
         "hovertemplate": "%{y}<extra></extra>",
         "marker": {
          "color": "#ffcc00"
         },
         "name": "Schools & Libraries",
         "type": "bar",
         "width": 0.5,
         "x": [
          1,
          2,
          3,
          4,
          5,
          6,
          7,
          8,
          9,
          10,
          11,
          12,
          13,
          14,
          15,
          16,
          17,
          18,
          19,
          20,
          21,
          22,
          23,
          24,
          25,
          26,
          27,
          28,
          29,
          30,
          31,
          32,
          33,
          34,
          35,
          36,
          37,
          38,
          39,
          40,
          41,
          42,
          43,
          44,
          45,
          46,
          47,
          48,
          49,
          50
         ],
         "y": [
          0,
          0,
          0,
          0,
          0,
          0,
          0,
          0,
          0,
          0,
          0,
          0,
          0,
          0,
          0,
          0,
          0,
          0,
          0,
          0,
          0,
          0,
          0,
          0,
          0,
          0,
          0,
          0,
          0,
          0,
          0,
          0,
          0,
          0,
          0,
          0,
          0,
          0,
          0,
          0,
          0,
          0,
          0,
          0,
          0,
          0,
          0,
          0,
          0,
          0
         ]
        },
        {
         "hoverinfo": "y+name",
         "hovertemplate": "%{y}<extra></extra>",
         "marker": {
          "color": "#e377c2"
         },
         "name": "Security Cameras",
         "type": "bar",
         "width": 0.5,
         "x": [
          1,
          2,
          3,
          4,
          5,
          6,
          7,
          8,
          9,
          10,
          11,
          12,
          13,
          14,
          15,
          16,
          17,
          18,
          19,
          20,
          21,
          22,
          23,
          24,
          25,
          26,
          27,
          28,
          29,
          30,
          31,
          32,
          33,
          34,
          35,
          36,
          37,
          38,
          39,
          40,
          41,
          42,
          43,
          44,
          45,
          46,
          47,
          48,
          49,
          50
         ],
         "y": [
          1526,
          650,
          1169,
          522,
          676,
          3395,
          1707,
          2150,
          2790,
          1105,
          1032,
          1024,
          283,
          678,
          1237,
          3066,
          2371,
          1109,
          293,
          1988,
          2222,
          1045,
          425,
          3482,
          1340,
          1550,
          2993,
          4128,
          1399,
          922,
          1037,
          1403,
          1340,
          2125,
          945,
          1232,
          3082,
          619,
          801,
          664,
          218,
          437,
          570,
          574,
          672,
          1263,
          1062,
          880,
          553,
          710
         ]
        },
        {
         "hoverinfo": "y+name",
         "hovertemplate": "%{y}<extra></extra>",
         "marker": {
          "color": "#7f7f7f"
         },
         "name": "Streets & Transportation",
         "type": "bar",
         "width": 0.5,
         "x": [
          1,
          2,
          3,
          4,
          5,
          6,
          7,
          8,
          9,
          10,
          11,
          12,
          13,
          14,
          15,
          16,
          17,
          18,
          19,
          20,
          21,
          22,
          23,
          24,
          25,
          26,
          27,
          28,
          29,
          30,
          31,
          32,
          33,
          34,
          35,
          36,
          37,
          38,
          39,
          40,
          41,
          42,
          43,
          44,
          45,
          46,
          47,
          48,
          49,
          50
         ],
         "y": [
          26019,
          16192,
          21316,
          19963,
          19667,
          26337,
          20221,
          30961,
          31173,
          33032,
          23094,
          21181,
          25342,
          23367,
          19700,
          21310,
          21258,
          31252,
          30941,
          23626,
          31977,
          20433,
          23381,
          19614,
          29178,
          17947,
          36468,
          35925,
          21118,
          21319,
          20546,
          27797,
          18698,
          30071,
          21680,
          23227,
          18013,
          27243,
          31200,
          23115,
          29554,
          26445,
          18100,
          12045,
          33089,
          12505,
          23580,
          14127,
          12216,
          16472
         ]
        }
       ],
       "layout": {
        "barmode": "stack",
        "hovermode": "x unified",
        "legend": {
         "bgcolor": "rgba(255,255,255,0.5)",
         "title": {
          "text": "Categories"
         },
         "x": 1,
         "y": 1
        },
        "template": {
         "data": {
          "bar": [
           {
            "error_x": {
             "color": "#2a3f5f"
            },
            "error_y": {
             "color": "#2a3f5f"
            },
            "marker": {
             "line": {
              "color": "white",
              "width": 0.5
             },
             "pattern": {
              "fillmode": "overlay",
              "size": 10,
              "solidity": 0.2
             }
            },
            "type": "bar"
           }
          ],
          "barpolar": [
           {
            "marker": {
             "line": {
              "color": "white",
              "width": 0.5
             },
             "pattern": {
              "fillmode": "overlay",
              "size": 10,
              "solidity": 0.2
             }
            },
            "type": "barpolar"
           }
          ],
          "carpet": [
           {
            "aaxis": {
             "endlinecolor": "#2a3f5f",
             "gridcolor": "#C8D4E3",
             "linecolor": "#C8D4E3",
             "minorgridcolor": "#C8D4E3",
             "startlinecolor": "#2a3f5f"
            },
            "baxis": {
             "endlinecolor": "#2a3f5f",
             "gridcolor": "#C8D4E3",
             "linecolor": "#C8D4E3",
             "minorgridcolor": "#C8D4E3",
             "startlinecolor": "#2a3f5f"
            },
            "type": "carpet"
           }
          ],
          "choropleth": [
           {
            "colorbar": {
             "outlinewidth": 0,
             "ticks": ""
            },
            "type": "choropleth"
           }
          ],
          "contour": [
           {
            "colorbar": {
             "outlinewidth": 0,
             "ticks": ""
            },
            "colorscale": [
             [
              0,
              "#0d0887"
             ],
             [
              0.1111111111111111,
              "#46039f"
             ],
             [
              0.2222222222222222,
              "#7201a8"
             ],
             [
              0.3333333333333333,
              "#9c179e"
             ],
             [
              0.4444444444444444,
              "#bd3786"
             ],
             [
              0.5555555555555556,
              "#d8576b"
             ],
             [
              0.6666666666666666,
              "#ed7953"
             ],
             [
              0.7777777777777778,
              "#fb9f3a"
             ],
             [
              0.8888888888888888,
              "#fdca26"
             ],
             [
              1,
              "#f0f921"
             ]
            ],
            "type": "contour"
           }
          ],
          "contourcarpet": [
           {
            "colorbar": {
             "outlinewidth": 0,
             "ticks": ""
            },
            "type": "contourcarpet"
           }
          ],
          "heatmap": [
           {
            "colorbar": {
             "outlinewidth": 0,
             "ticks": ""
            },
            "colorscale": [
             [
              0,
              "#0d0887"
             ],
             [
              0.1111111111111111,
              "#46039f"
             ],
             [
              0.2222222222222222,
              "#7201a8"
             ],
             [
              0.3333333333333333,
              "#9c179e"
             ],
             [
              0.4444444444444444,
              "#bd3786"
             ],
             [
              0.5555555555555556,
              "#d8576b"
             ],
             [
              0.6666666666666666,
              "#ed7953"
             ],
             [
              0.7777777777777778,
              "#fb9f3a"
             ],
             [
              0.8888888888888888,
              "#fdca26"
             ],
             [
              1,
              "#f0f921"
             ]
            ],
            "type": "heatmap"
           }
          ],
          "histogram": [
           {
            "marker": {
             "pattern": {
              "fillmode": "overlay",
              "size": 10,
              "solidity": 0.2
             }
            },
            "type": "histogram"
           }
          ],
          "histogram2d": [
           {
            "colorbar": {
             "outlinewidth": 0,
             "ticks": ""
            },
            "colorscale": [
             [
              0,
              "#0d0887"
             ],
             [
              0.1111111111111111,
              "#46039f"
             ],
             [
              0.2222222222222222,
              "#7201a8"
             ],
             [
              0.3333333333333333,
              "#9c179e"
             ],
             [
              0.4444444444444444,
              "#bd3786"
             ],
             [
              0.5555555555555556,
              "#d8576b"
             ],
             [
              0.6666666666666666,
              "#ed7953"
             ],
             [
              0.7777777777777778,
              "#fb9f3a"
             ],
             [
              0.8888888888888888,
              "#fdca26"
             ],
             [
              1,
              "#f0f921"
             ]
            ],
            "type": "histogram2d"
           }
          ],
          "histogram2dcontour": [
           {
            "colorbar": {
             "outlinewidth": 0,
             "ticks": ""
            },
            "colorscale": [
             [
              0,
              "#0d0887"
             ],
             [
              0.1111111111111111,
              "#46039f"
             ],
             [
              0.2222222222222222,
              "#7201a8"
             ],
             [
              0.3333333333333333,
              "#9c179e"
             ],
             [
              0.4444444444444444,
              "#bd3786"
             ],
             [
              0.5555555555555556,
              "#d8576b"
             ],
             [
              0.6666666666666666,
              "#ed7953"
             ],
             [
              0.7777777777777778,
              "#fb9f3a"
             ],
             [
              0.8888888888888888,
              "#fdca26"
             ],
             [
              1,
              "#f0f921"
             ]
            ],
            "type": "histogram2dcontour"
           }
          ],
          "mesh3d": [
           {
            "colorbar": {
             "outlinewidth": 0,
             "ticks": ""
            },
            "type": "mesh3d"
           }
          ],
          "parcoords": [
           {
            "line": {
             "colorbar": {
              "outlinewidth": 0,
              "ticks": ""
             }
            },
            "type": "parcoords"
           }
          ],
          "pie": [
           {
            "automargin": true,
            "type": "pie"
           }
          ],
          "scatter": [
           {
            "fillpattern": {
             "fillmode": "overlay",
             "size": 10,
             "solidity": 0.2
            },
            "type": "scatter"
           }
          ],
          "scatter3d": [
           {
            "line": {
             "colorbar": {
              "outlinewidth": 0,
              "ticks": ""
             }
            },
            "marker": {
             "colorbar": {
              "outlinewidth": 0,
              "ticks": ""
             }
            },
            "type": "scatter3d"
           }
          ],
          "scattercarpet": [
           {
            "marker": {
             "colorbar": {
              "outlinewidth": 0,
              "ticks": ""
             }
            },
            "type": "scattercarpet"
           }
          ],
          "scattergeo": [
           {
            "marker": {
             "colorbar": {
              "outlinewidth": 0,
              "ticks": ""
             }
            },
            "type": "scattergeo"
           }
          ],
          "scattergl": [
           {
            "marker": {
             "colorbar": {
              "outlinewidth": 0,
              "ticks": ""
             }
            },
            "type": "scattergl"
           }
          ],
          "scattermap": [
           {
            "marker": {
             "colorbar": {
              "outlinewidth": 0,
              "ticks": ""
             }
            },
            "type": "scattermap"
           }
          ],
          "scattermapbox": [
           {
            "marker": {
             "colorbar": {
              "outlinewidth": 0,
              "ticks": ""
             }
            },
            "type": "scattermapbox"
           }
          ],
          "scatterpolar": [
           {
            "marker": {
             "colorbar": {
              "outlinewidth": 0,
              "ticks": ""
             }
            },
            "type": "scatterpolar"
           }
          ],
          "scatterpolargl": [
           {
            "marker": {
             "colorbar": {
              "outlinewidth": 0,
              "ticks": ""
             }
            },
            "type": "scatterpolargl"
           }
          ],
          "scatterternary": [
           {
            "marker": {
             "colorbar": {
              "outlinewidth": 0,
              "ticks": ""
             }
            },
            "type": "scatterternary"
           }
          ],
          "surface": [
           {
            "colorbar": {
             "outlinewidth": 0,
             "ticks": ""
            },
            "colorscale": [
             [
              0,
              "#0d0887"
             ],
             [
              0.1111111111111111,
              "#46039f"
             ],
             [
              0.2222222222222222,
              "#7201a8"
             ],
             [
              0.3333333333333333,
              "#9c179e"
             ],
             [
              0.4444444444444444,
              "#bd3786"
             ],
             [
              0.5555555555555556,
              "#d8576b"
             ],
             [
              0.6666666666666666,
              "#ed7953"
             ],
             [
              0.7777777777777778,
              "#fb9f3a"
             ],
             [
              0.8888888888888888,
              "#fdca26"
             ],
             [
              1,
              "#f0f921"
             ]
            ],
            "type": "surface"
           }
          ],
          "table": [
           {
            "cells": {
             "fill": {
              "color": "#EBF0F8"
             },
             "line": {
              "color": "white"
             }
            },
            "header": {
             "fill": {
              "color": "#C8D4E3"
             },
             "line": {
              "color": "white"
             }
            },
            "type": "table"
           }
          ]
         },
         "layout": {
          "annotationdefaults": {
           "arrowcolor": "#2a3f5f",
           "arrowhead": 0,
           "arrowwidth": 1
          },
          "autotypenumbers": "strict",
          "coloraxis": {
           "colorbar": {
            "outlinewidth": 0,
            "ticks": ""
           }
          },
          "colorscale": {
           "diverging": [
            [
             0,
             "#8e0152"
            ],
            [
             0.1,
             "#c51b7d"
            ],
            [
             0.2,
             "#de77ae"
            ],
            [
             0.3,
             "#f1b6da"
            ],
            [
             0.4,
             "#fde0ef"
            ],
            [
             0.5,
             "#f7f7f7"
            ],
            [
             0.6,
             "#e6f5d0"
            ],
            [
             0.7,
             "#b8e186"
            ],
            [
             0.8,
             "#7fbc41"
            ],
            [
             0.9,
             "#4d9221"
            ],
            [
             1,
             "#276419"
            ]
           ],
           "sequential": [
            [
             0,
             "#0d0887"
            ],
            [
             0.1111111111111111,
             "#46039f"
            ],
            [
             0.2222222222222222,
             "#7201a8"
            ],
            [
             0.3333333333333333,
             "#9c179e"
            ],
            [
             0.4444444444444444,
             "#bd3786"
            ],
            [
             0.5555555555555556,
             "#d8576b"
            ],
            [
             0.6666666666666666,
             "#ed7953"
            ],
            [
             0.7777777777777778,
             "#fb9f3a"
            ],
            [
             0.8888888888888888,
             "#fdca26"
            ],
            [
             1,
             "#f0f921"
            ]
           ],
           "sequentialminus": [
            [
             0,
             "#0d0887"
            ],
            [
             0.1111111111111111,
             "#46039f"
            ],
            [
             0.2222222222222222,
             "#7201a8"
            ],
            [
             0.3333333333333333,
             "#9c179e"
            ],
            [
             0.4444444444444444,
             "#bd3786"
            ],
            [
             0.5555555555555556,
             "#d8576b"
            ],
            [
             0.6666666666666666,
             "#ed7953"
            ],
            [
             0.7777777777777778,
             "#fb9f3a"
            ],
            [
             0.8888888888888888,
             "#fdca26"
            ],
            [
             1,
             "#f0f921"
            ]
           ]
          },
          "colorway": [
           "#636efa",
           "#EF553B",
           "#00cc96",
           "#ab63fa",
           "#FFA15A",
           "#19d3f3",
           "#FF6692",
           "#B6E880",
           "#FF97FF",
           "#FECB52"
          ],
          "font": {
           "color": "#2a3f5f"
          },
          "geo": {
           "bgcolor": "white",
           "lakecolor": "white",
           "landcolor": "white",
           "showlakes": true,
           "showland": true,
           "subunitcolor": "#C8D4E3"
          },
          "hoverlabel": {
           "align": "left"
          },
          "hovermode": "closest",
          "mapbox": {
           "style": "light"
          },
          "paper_bgcolor": "white",
          "plot_bgcolor": "white",
          "polar": {
           "angularaxis": {
            "gridcolor": "#EBF0F8",
            "linecolor": "#EBF0F8",
            "ticks": ""
           },
           "bgcolor": "white",
           "radialaxis": {
            "gridcolor": "#EBF0F8",
            "linecolor": "#EBF0F8",
            "ticks": ""
           }
          },
          "scene": {
           "xaxis": {
            "backgroundcolor": "white",
            "gridcolor": "#DFE8F3",
            "gridwidth": 2,
            "linecolor": "#EBF0F8",
            "showbackground": true,
            "ticks": "",
            "zerolinecolor": "#EBF0F8"
           },
           "yaxis": {
            "backgroundcolor": "white",
            "gridcolor": "#DFE8F3",
            "gridwidth": 2,
            "linecolor": "#EBF0F8",
            "showbackground": true,
            "ticks": "",
            "zerolinecolor": "#EBF0F8"
           },
           "zaxis": {
            "backgroundcolor": "white",
            "gridcolor": "#DFE8F3",
            "gridwidth": 2,
            "linecolor": "#EBF0F8",
            "showbackground": true,
            "ticks": "",
            "zerolinecolor": "#EBF0F8"
           }
          },
          "shapedefaults": {
           "line": {
            "color": "#2a3f5f"
           }
          },
          "ternary": {
           "aaxis": {
            "gridcolor": "#DFE8F3",
            "linecolor": "#A2B1C6",
            "ticks": ""
           },
           "baxis": {
            "gridcolor": "#DFE8F3",
            "linecolor": "#A2B1C6",
            "ticks": ""
           },
           "bgcolor": "white",
           "caxis": {
            "gridcolor": "#DFE8F3",
            "linecolor": "#A2B1C6",
            "ticks": ""
           }
          },
          "title": {
           "x": 0.05
          },
          "xaxis": {
           "automargin": true,
           "gridcolor": "#EBF0F8",
           "linecolor": "#EBF0F8",
           "ticks": "",
           "title": {
            "standoff": 15
           },
           "zerolinecolor": "#EBF0F8",
           "zerolinewidth": 2
          },
          "yaxis": {
           "automargin": true,
           "gridcolor": "#EBF0F8",
           "linecolor": "#EBF0F8",
           "ticks": "",
           "title": {
            "standoff": 15
           },
           "zerolinecolor": "#EBF0F8",
           "zerolinewidth": 2
          }
         }
        },
        "title": {
         "font": {
          "size": 16
         },
         "text": "311 Calls by Ward and Category"
        },
        "width": 1000,
        "xaxis": {
         "automargin": true,
         "tickangle": 45,
         "tickfont": {
          "size": 12
         },
         "ticklen": 8,
         "tickmode": "array",
         "ticktext": [
          "1",
          "2",
          "3",
          "4",
          "5",
          "6",
          "7",
          "8",
          "9",
          "10",
          "11",
          "12",
          "13",
          "14",
          "15",
          "16",
          "17",
          "18",
          "19",
          "20",
          "21",
          "22",
          "23",
          "24",
          "25",
          "26",
          "27",
          "28",
          "29",
          "30",
          "31",
          "32",
          "33",
          "34",
          "35",
          "36",
          "37",
          "38",
          "39",
          "40",
          "41",
          "42",
          "43",
          "44",
          "45",
          "46",
          "47",
          "48",
          "49",
          "50"
         ],
         "tickvals": [
          1,
          2,
          3,
          4,
          5,
          6,
          7,
          8,
          9,
          10,
          11,
          12,
          13,
          14,
          15,
          16,
          17,
          18,
          19,
          20,
          21,
          22,
          23,
          24,
          25,
          26,
          27,
          28,
          29,
          30,
          31,
          32,
          33,
          34,
          35,
          36,
          37,
          38,
          39,
          40,
          41,
          42,
          43,
          44,
          45,
          46,
          47,
          48,
          49,
          50
         ],
         "tickwidth": 1,
         "title": {
          "text": "Ward"
         }
        },
        "yaxis": {
         "title": {
          "text": "Number of 311 Calls"
         }
        }
       }
      },
      "text/html": [
       "<div>            <script src=\"https://cdnjs.cloudflare.com/ajax/libs/mathjax/2.7.5/MathJax.js?config=TeX-AMS-MML_SVG\"></script><script type=\"text/javascript\">if (window.MathJax && window.MathJax.Hub && window.MathJax.Hub.Config) {window.MathJax.Hub.Config({SVG: {font: \"STIX-Web\"}});}</script>                <script type=\"text/javascript\">window.PlotlyConfig = {MathJaxConfig: 'local'};</script>\n",
       "        <script charset=\"utf-8\" src=\"https://cdn.plot.ly/plotly-3.0.0.min.js\"></script>                <div id=\"5ee7fe8b-3596-4936-9bbe-36e04187566e\" class=\"plotly-graph-div\" style=\"height:525px; width:1000px;\"></div>            <script type=\"text/javascript\">                window.PLOTLYENV=window.PLOTLYENV || {};                                if (document.getElementById(\"5ee7fe8b-3596-4936-9bbe-36e04187566e\")) {                    Plotly.newPlot(                        \"5ee7fe8b-3596-4936-9bbe-36e04187566e\",                        [{\"hoverinfo\":\"y+name\",\"hovertemplate\":\"%{y}\\u003cextra\\u003e\\u003c\\u002fextra\\u003e\",\"marker\":{\"color\":\"#1f77b4\"},\"name\":\"Beautification\",\"width\":0.5,\"x\":[1,2,3,4,5,6,7,8,9,10,11,12,13,14,15,16,17,18,19,20,21,22,23,24,25,26,27,28,29,30,31,32,33,34,35,36,37,38,39,40,41,42,43,44,45,46,47,48,49,50],\"y\":[39615.0,13092.0,17400.0,14004.0,6172.0,24013.0,14047.0,16409.0,23332.0,21534.0,24715.0,41417.0,11963.0,44951.0,28584.0,38822.0,24680.0,21004.0,12692.0,27897.0,22310.0,25412.0,25041.0,36140.0,36706.0,22187.0,41345.0,35561.0,13607.0,18605.0,15794.0,28954.0,24669.0,28912.0,24404.0,17747.0,19932.0,11911.0,14361.0,13371.0,8667.0,21320.0,12904.0,11446.0,17275.0,9767.0,25092.0,10887.0,10822.0,9066.0],\"type\":\"bar\"},{\"hoverinfo\":\"y+name\",\"hovertemplate\":\"%{y}\\u003cextra\\u003e\\u003c\\u002fextra\\u003e\",\"marker\":{\"color\":\"#ff7f0e\"},\"name\":\"Bike Infrastructure\",\"width\":0.5,\"x\":[1,2,3,4,5,6,7,8,9,10,11,12,13,14,15,16,17,18,19,20,21,22,23,24,25,26,27,28,29,30,31,32,33,34,35,36,37,38,39,40,41,42,43,44,45,46,47,48,49,50],\"y\":[576.0,288.0,165.0,260.0,101.0,115.0,13.0,14.0,14.0,34.0,256.0,37.0,14.0,28.0,38.0,8.0,23.0,10.0,11.0,21.0,68.0,17.0,25.0,20.0,486.0,109.0,3280.0,715.0,15.0,117.0,60.0,704.0,206.0,497.0,150.0,103.0,29.0,28.0,259.0,342.0,27.0,1437.0,410.0,290.0,208.0,322.0,290.0,246.0,76.0,58.0],\"type\":\"bar\"},{\"hoverinfo\":\"y+name\",\"hovertemplate\":\"%{y}\\u003cextra\\u003e\\u003c\\u002fextra\\u003e\",\"marker\":{\"color\":\"#2ca02c\"},\"name\":\"Lighting\",\"width\":0.5,\"x\":[1,2,3,4,5,6,7,8,9,10,11,12,13,14,15,16,17,18,19,20,21,22,23,24,25,26,27,28,29,30,31,32,33,34,35,36,37,38,39,40,41,42,43,44,45,46,47,48,49,50],\"y\":[1068.0,619.0,914.0,810.0,837.0,3058.0,1690.0,3128.0,3176.0,4724.0,1571.0,1301.0,4010.0,1575.0,905.0,1908.0,2156.0,2675.0,1736.0,1559.0,3391.0,1577.0,2615.0,1250.0,1048.0,968.0,1222.0,1306.0,1767.0,1272.0,1199.0,1292.0,1526.0,2607.0,1409.0,1802.0,1566.0,2233.0,1587.0,1094.0,1733.0,253.0,564.0,528.0,2073.0,426.0,1116.0,703.0,682.0,1021.0],\"type\":\"bar\"},{\"hoverinfo\":\"y+name\",\"hovertemplate\":\"%{y}\\u003cextra\\u003e\\u003c\\u002fextra\\u003e\",\"marker\":{\"color\":\"#d62728\"},\"name\":\"Parks & Recreation\",\"width\":0.5,\"x\":[1,2,3,4,5,6,7,8,9,10,11,12,13,14,15,16,17,18,19,20,21,22,23,24,25,26,27,28,29,30,31,32,33,34,35,36,37,38,39,40,41,42,43,44,45,46,47,48,49,50],\"y\":[29.0,9.0,108.0,46.0,37.0,131.0,56.0,76.0,73.0,39.0,27.0,24.0,2.0,8.0,44.0,119.0,48.0,17.0,30.0,61.0,79.0,11.0,11.0,69.0,47.0,67.0,99.0,113.0,62.0,31.0,10.0,8.0,37.0,60.0,27.0,25.0,47.0,10.0,42.0,15.0,14.0,15.0,12.0,8.0,23.0,24.0,20.0,26.0,6.0,13.0],\"type\":\"bar\"},{\"hoverinfo\":\"y+name\",\"hovertemplate\":\"%{y}\\u003cextra\\u003e\\u003c\\u002fextra\\u003e\",\"marker\":{\"color\":\"#9467bd\"},\"name\":\"Plants, Gardens, & Sustainability\",\"width\":0.5,\"x\":[1,2,3,4,5,6,7,8,9,10,11,12,13,14,15,16,17,18,19,20,21,22,23,24,25,26,27,28,29,30,31,32,33,34,35,36,37,38,39,40,41,42,43,44,45,46,47,48,49,50],\"y\":[3249.0,1219.0,1515.0,1275.0,1801.0,4344.0,3677.0,5099.0,4697.0,4595.0,5257.0,4016.0,3383.0,3345.0,2867.0,3698.0,7061.0,4484.0,7921.0,2623.0,6190.0,3819.0,4571.0,4307.0,2006.0,3471.0,2744.0,2650.0,3645.0,4680.0,3493.0,4610.0,3185.0,3262.0,3761.0,3592.0,2949.0,6668.0,5731.0,3605.0,6654.0,412.0,2386.0,2088.0,6448.0,1405.0,4326.0,2327.0,1800.0,3172.0],\"type\":\"bar\"},{\"hoverinfo\":\"y+name\",\"hovertemplate\":\"%{y}\\u003cextra\\u003e\\u003c\\u002fextra\\u003e\",\"marker\":{\"color\":\"#ffcc00\"},\"name\":\"Schools & Libraries\",\"width\":0.5,\"x\":[1,2,3,4,5,6,7,8,9,10,11,12,13,14,15,16,17,18,19,20,21,22,23,24,25,26,27,28,29,30,31,32,33,34,35,36,37,38,39,40,41,42,43,44,45,46,47,48,49,50],\"y\":[0.0,0,0,0,0,0,0,0,0.0,0,0,0,0.0,0,0,0,0,0,0,0,0,0.0,0.0,0,0.0,0.0,0,0.0,0.0,0,0,0.0,0.0,0,0.0,0.0,0,0.0,0.0,0,0,0,0.0,0.0,0.0,0.0,0.0,0.0,0.0,0],\"type\":\"bar\"},{\"hoverinfo\":\"y+name\",\"hovertemplate\":\"%{y}\\u003cextra\\u003e\\u003c\\u002fextra\\u003e\",\"marker\":{\"color\":\"#e377c2\"},\"name\":\"Security Cameras\",\"width\":0.5,\"x\":[1,2,3,4,5,6,7,8,9,10,11,12,13,14,15,16,17,18,19,20,21,22,23,24,25,26,27,28,29,30,31,32,33,34,35,36,37,38,39,40,41,42,43,44,45,46,47,48,49,50],\"y\":[1526.0,650.0,1169.0,522.0,676.0,3395.0,1707.0,2150.0,2790.0,1105.0,1032.0,1024.0,283.0,678.0,1237.0,3066.0,2371.0,1109.0,293.0,1988.0,2222.0,1045.0,425.0,3482.0,1340.0,1550.0,2993.0,4128.0,1399.0,922.0,1037.0,1403.0,1340.0,2125.0,945.0,1232.0,3082.0,619.0,801.0,664.0,218.0,437.0,570.0,574.0,672.0,1263.0,1062.0,880.0,553.0,710.0],\"type\":\"bar\"},{\"hoverinfo\":\"y+name\",\"hovertemplate\":\"%{y}\\u003cextra\\u003e\\u003c\\u002fextra\\u003e\",\"marker\":{\"color\":\"#7f7f7f\"},\"name\":\"Streets & Transportation\",\"width\":0.5,\"x\":[1,2,3,4,5,6,7,8,9,10,11,12,13,14,15,16,17,18,19,20,21,22,23,24,25,26,27,28,29,30,31,32,33,34,35,36,37,38,39,40,41,42,43,44,45,46,47,48,49,50],\"y\":[26019.0,16192.0,21316.0,19963.0,19667.0,26337.0,20221.0,30961.0,31173.0,33032.0,23094.0,21181.0,25342.0,23367.0,19700.0,21310.0,21258.0,31252.0,30941.0,23626.0,31977.0,20433.0,23381.0,19614.0,29178.0,17947.0,36468.0,35925.0,21118.0,21319.0,20546.0,27797.0,18698.0,30071.0,21680.0,23227.0,18013.0,27243.0,31200.0,23115.0,29554.0,26445.0,18100.0,12045.0,33089.0,12505.0,23580.0,14127.0,12216.0,16472.0],\"type\":\"bar\"}],                        {\"barmode\":\"stack\",\"hovermode\":\"x unified\",\"legend\":{\"bgcolor\":\"rgba(255,255,255,0.5)\",\"title\":{\"text\":\"Categories\"},\"x\":1,\"y\":1},\"template\":{\"data\":{\"barpolar\":[{\"marker\":{\"line\":{\"color\":\"white\",\"width\":0.5},\"pattern\":{\"fillmode\":\"overlay\",\"size\":10,\"solidity\":0.2}},\"type\":\"barpolar\"}],\"bar\":[{\"error_x\":{\"color\":\"#2a3f5f\"},\"error_y\":{\"color\":\"#2a3f5f\"},\"marker\":{\"line\":{\"color\":\"white\",\"width\":0.5},\"pattern\":{\"fillmode\":\"overlay\",\"size\":10,\"solidity\":0.2}},\"type\":\"bar\"}],\"carpet\":[{\"aaxis\":{\"endlinecolor\":\"#2a3f5f\",\"gridcolor\":\"#C8D4E3\",\"linecolor\":\"#C8D4E3\",\"minorgridcolor\":\"#C8D4E3\",\"startlinecolor\":\"#2a3f5f\"},\"baxis\":{\"endlinecolor\":\"#2a3f5f\",\"gridcolor\":\"#C8D4E3\",\"linecolor\":\"#C8D4E3\",\"minorgridcolor\":\"#C8D4E3\",\"startlinecolor\":\"#2a3f5f\"},\"type\":\"carpet\"}],\"choropleth\":[{\"colorbar\":{\"outlinewidth\":0,\"ticks\":\"\"},\"type\":\"choropleth\"}],\"contourcarpet\":[{\"colorbar\":{\"outlinewidth\":0,\"ticks\":\"\"},\"type\":\"contourcarpet\"}],\"contour\":[{\"colorbar\":{\"outlinewidth\":0,\"ticks\":\"\"},\"colorscale\":[[0.0,\"#0d0887\"],[0.1111111111111111,\"#46039f\"],[0.2222222222222222,\"#7201a8\"],[0.3333333333333333,\"#9c179e\"],[0.4444444444444444,\"#bd3786\"],[0.5555555555555556,\"#d8576b\"],[0.6666666666666666,\"#ed7953\"],[0.7777777777777778,\"#fb9f3a\"],[0.8888888888888888,\"#fdca26\"],[1.0,\"#f0f921\"]],\"type\":\"contour\"}],\"heatmap\":[{\"colorbar\":{\"outlinewidth\":0,\"ticks\":\"\"},\"colorscale\":[[0.0,\"#0d0887\"],[0.1111111111111111,\"#46039f\"],[0.2222222222222222,\"#7201a8\"],[0.3333333333333333,\"#9c179e\"],[0.4444444444444444,\"#bd3786\"],[0.5555555555555556,\"#d8576b\"],[0.6666666666666666,\"#ed7953\"],[0.7777777777777778,\"#fb9f3a\"],[0.8888888888888888,\"#fdca26\"],[1.0,\"#f0f921\"]],\"type\":\"heatmap\"}],\"histogram2dcontour\":[{\"colorbar\":{\"outlinewidth\":0,\"ticks\":\"\"},\"colorscale\":[[0.0,\"#0d0887\"],[0.1111111111111111,\"#46039f\"],[0.2222222222222222,\"#7201a8\"],[0.3333333333333333,\"#9c179e\"],[0.4444444444444444,\"#bd3786\"],[0.5555555555555556,\"#d8576b\"],[0.6666666666666666,\"#ed7953\"],[0.7777777777777778,\"#fb9f3a\"],[0.8888888888888888,\"#fdca26\"],[1.0,\"#f0f921\"]],\"type\":\"histogram2dcontour\"}],\"histogram2d\":[{\"colorbar\":{\"outlinewidth\":0,\"ticks\":\"\"},\"colorscale\":[[0.0,\"#0d0887\"],[0.1111111111111111,\"#46039f\"],[0.2222222222222222,\"#7201a8\"],[0.3333333333333333,\"#9c179e\"],[0.4444444444444444,\"#bd3786\"],[0.5555555555555556,\"#d8576b\"],[0.6666666666666666,\"#ed7953\"],[0.7777777777777778,\"#fb9f3a\"],[0.8888888888888888,\"#fdca26\"],[1.0,\"#f0f921\"]],\"type\":\"histogram2d\"}],\"histogram\":[{\"marker\":{\"pattern\":{\"fillmode\":\"overlay\",\"size\":10,\"solidity\":0.2}},\"type\":\"histogram\"}],\"mesh3d\":[{\"colorbar\":{\"outlinewidth\":0,\"ticks\":\"\"},\"type\":\"mesh3d\"}],\"parcoords\":[{\"line\":{\"colorbar\":{\"outlinewidth\":0,\"ticks\":\"\"}},\"type\":\"parcoords\"}],\"pie\":[{\"automargin\":true,\"type\":\"pie\"}],\"scatter3d\":[{\"line\":{\"colorbar\":{\"outlinewidth\":0,\"ticks\":\"\"}},\"marker\":{\"colorbar\":{\"outlinewidth\":0,\"ticks\":\"\"}},\"type\":\"scatter3d\"}],\"scattercarpet\":[{\"marker\":{\"colorbar\":{\"outlinewidth\":0,\"ticks\":\"\"}},\"type\":\"scattercarpet\"}],\"scattergeo\":[{\"marker\":{\"colorbar\":{\"outlinewidth\":0,\"ticks\":\"\"}},\"type\":\"scattergeo\"}],\"scattergl\":[{\"marker\":{\"colorbar\":{\"outlinewidth\":0,\"ticks\":\"\"}},\"type\":\"scattergl\"}],\"scattermapbox\":[{\"marker\":{\"colorbar\":{\"outlinewidth\":0,\"ticks\":\"\"}},\"type\":\"scattermapbox\"}],\"scattermap\":[{\"marker\":{\"colorbar\":{\"outlinewidth\":0,\"ticks\":\"\"}},\"type\":\"scattermap\"}],\"scatterpolargl\":[{\"marker\":{\"colorbar\":{\"outlinewidth\":0,\"ticks\":\"\"}},\"type\":\"scatterpolargl\"}],\"scatterpolar\":[{\"marker\":{\"colorbar\":{\"outlinewidth\":0,\"ticks\":\"\"}},\"type\":\"scatterpolar\"}],\"scatter\":[{\"fillpattern\":{\"fillmode\":\"overlay\",\"size\":10,\"solidity\":0.2},\"type\":\"scatter\"}],\"scatterternary\":[{\"marker\":{\"colorbar\":{\"outlinewidth\":0,\"ticks\":\"\"}},\"type\":\"scatterternary\"}],\"surface\":[{\"colorbar\":{\"outlinewidth\":0,\"ticks\":\"\"},\"colorscale\":[[0.0,\"#0d0887\"],[0.1111111111111111,\"#46039f\"],[0.2222222222222222,\"#7201a8\"],[0.3333333333333333,\"#9c179e\"],[0.4444444444444444,\"#bd3786\"],[0.5555555555555556,\"#d8576b\"],[0.6666666666666666,\"#ed7953\"],[0.7777777777777778,\"#fb9f3a\"],[0.8888888888888888,\"#fdca26\"],[1.0,\"#f0f921\"]],\"type\":\"surface\"}],\"table\":[{\"cells\":{\"fill\":{\"color\":\"#EBF0F8\"},\"line\":{\"color\":\"white\"}},\"header\":{\"fill\":{\"color\":\"#C8D4E3\"},\"line\":{\"color\":\"white\"}},\"type\":\"table\"}]},\"layout\":{\"annotationdefaults\":{\"arrowcolor\":\"#2a3f5f\",\"arrowhead\":0,\"arrowwidth\":1},\"autotypenumbers\":\"strict\",\"coloraxis\":{\"colorbar\":{\"outlinewidth\":0,\"ticks\":\"\"}},\"colorscale\":{\"diverging\":[[0,\"#8e0152\"],[0.1,\"#c51b7d\"],[0.2,\"#de77ae\"],[0.3,\"#f1b6da\"],[0.4,\"#fde0ef\"],[0.5,\"#f7f7f7\"],[0.6,\"#e6f5d0\"],[0.7,\"#b8e186\"],[0.8,\"#7fbc41\"],[0.9,\"#4d9221\"],[1,\"#276419\"]],\"sequential\":[[0.0,\"#0d0887\"],[0.1111111111111111,\"#46039f\"],[0.2222222222222222,\"#7201a8\"],[0.3333333333333333,\"#9c179e\"],[0.4444444444444444,\"#bd3786\"],[0.5555555555555556,\"#d8576b\"],[0.6666666666666666,\"#ed7953\"],[0.7777777777777778,\"#fb9f3a\"],[0.8888888888888888,\"#fdca26\"],[1.0,\"#f0f921\"]],\"sequentialminus\":[[0.0,\"#0d0887\"],[0.1111111111111111,\"#46039f\"],[0.2222222222222222,\"#7201a8\"],[0.3333333333333333,\"#9c179e\"],[0.4444444444444444,\"#bd3786\"],[0.5555555555555556,\"#d8576b\"],[0.6666666666666666,\"#ed7953\"],[0.7777777777777778,\"#fb9f3a\"],[0.8888888888888888,\"#fdca26\"],[1.0,\"#f0f921\"]]},\"colorway\":[\"#636efa\",\"#EF553B\",\"#00cc96\",\"#ab63fa\",\"#FFA15A\",\"#19d3f3\",\"#FF6692\",\"#B6E880\",\"#FF97FF\",\"#FECB52\"],\"font\":{\"color\":\"#2a3f5f\"},\"geo\":{\"bgcolor\":\"white\",\"lakecolor\":\"white\",\"landcolor\":\"white\",\"showlakes\":true,\"showland\":true,\"subunitcolor\":\"#C8D4E3\"},\"hoverlabel\":{\"align\":\"left\"},\"hovermode\":\"closest\",\"mapbox\":{\"style\":\"light\"},\"paper_bgcolor\":\"white\",\"plot_bgcolor\":\"white\",\"polar\":{\"angularaxis\":{\"gridcolor\":\"#EBF0F8\",\"linecolor\":\"#EBF0F8\",\"ticks\":\"\"},\"bgcolor\":\"white\",\"radialaxis\":{\"gridcolor\":\"#EBF0F8\",\"linecolor\":\"#EBF0F8\",\"ticks\":\"\"}},\"scene\":{\"xaxis\":{\"backgroundcolor\":\"white\",\"gridcolor\":\"#DFE8F3\",\"gridwidth\":2,\"linecolor\":\"#EBF0F8\",\"showbackground\":true,\"ticks\":\"\",\"zerolinecolor\":\"#EBF0F8\"},\"yaxis\":{\"backgroundcolor\":\"white\",\"gridcolor\":\"#DFE8F3\",\"gridwidth\":2,\"linecolor\":\"#EBF0F8\",\"showbackground\":true,\"ticks\":\"\",\"zerolinecolor\":\"#EBF0F8\"},\"zaxis\":{\"backgroundcolor\":\"white\",\"gridcolor\":\"#DFE8F3\",\"gridwidth\":2,\"linecolor\":\"#EBF0F8\",\"showbackground\":true,\"ticks\":\"\",\"zerolinecolor\":\"#EBF0F8\"}},\"shapedefaults\":{\"line\":{\"color\":\"#2a3f5f\"}},\"ternary\":{\"aaxis\":{\"gridcolor\":\"#DFE8F3\",\"linecolor\":\"#A2B1C6\",\"ticks\":\"\"},\"baxis\":{\"gridcolor\":\"#DFE8F3\",\"linecolor\":\"#A2B1C6\",\"ticks\":\"\"},\"bgcolor\":\"white\",\"caxis\":{\"gridcolor\":\"#DFE8F3\",\"linecolor\":\"#A2B1C6\",\"ticks\":\"\"}},\"title\":{\"x\":0.05},\"xaxis\":{\"automargin\":true,\"gridcolor\":\"#EBF0F8\",\"linecolor\":\"#EBF0F8\",\"ticks\":\"\",\"title\":{\"standoff\":15},\"zerolinecolor\":\"#EBF0F8\",\"zerolinewidth\":2},\"yaxis\":{\"automargin\":true,\"gridcolor\":\"#EBF0F8\",\"linecolor\":\"#EBF0F8\",\"ticks\":\"\",\"title\":{\"standoff\":15},\"zerolinecolor\":\"#EBF0F8\",\"zerolinewidth\":2}}},\"title\":{\"font\":{\"size\":16},\"text\":\"311 Calls by Ward and Category\"},\"width\":1000,\"xaxis\":{\"automargin\":true,\"tickangle\":45,\"tickfont\":{\"size\":12},\"ticklen\":8,\"tickmode\":\"array\",\"ticktext\":[\"1\",\"2\",\"3\",\"4\",\"5\",\"6\",\"7\",\"8\",\"9\",\"10\",\"11\",\"12\",\"13\",\"14\",\"15\",\"16\",\"17\",\"18\",\"19\",\"20\",\"21\",\"22\",\"23\",\"24\",\"25\",\"26\",\"27\",\"28\",\"29\",\"30\",\"31\",\"32\",\"33\",\"34\",\"35\",\"36\",\"37\",\"38\",\"39\",\"40\",\"41\",\"42\",\"43\",\"44\",\"45\",\"46\",\"47\",\"48\",\"49\",\"50\"],\"tickvals\":[1,2,3,4,5,6,7,8,9,10,11,12,13,14,15,16,17,18,19,20,21,22,23,24,25,26,27,28,29,30,31,32,33,34,35,36,37,38,39,40,41,42,43,44,45,46,47,48,49,50],\"tickwidth\":1,\"title\":{\"text\":\"Ward\"}},\"yaxis\":{\"title\":{\"text\":\"Number of 311 Calls\"}}},                        {\"responsive\": true}                    ).then(function(){\n",
       "                            \n",
       "var gd = document.getElementById('5ee7fe8b-3596-4936-9bbe-36e04187566e');\n",
       "var x = new MutationObserver(function (mutations, observer) {{\n",
       "        var display = window.getComputedStyle(gd).display;\n",
       "        if (!display || display === 'none') {{\n",
       "            console.log([gd, 'removed!']);\n",
       "            Plotly.purge(gd);\n",
       "            observer.disconnect();\n",
       "        }}\n",
       "}});\n",
       "\n",
       "// Listen for the removal of the full notebook cells\n",
       "var notebookContainer = gd.closest('#notebook-container');\n",
       "if (notebookContainer) {{\n",
       "    x.observe(notebookContainer, {childList: true});\n",
       "}}\n",
       "\n",
       "// Listen for the clearing of the current output cell\n",
       "var outputEl = gd.closest('.output');\n",
       "if (outputEl) {{\n",
       "    x.observe(outputEl, {childList: true});\n",
       "}}\n",
       "\n",
       "                        })                };            </script>        </div>"
      ]
     },
     "metadata": {},
     "output_type": "display_data"
    },
    {
     "data": {
      "application/vnd.plotly.v1+json": {
       "config": {
        "plotlyServerURL": "https://plot.ly"
       },
       "data": [
        {
         "hoverinfo": "y+name",
         "hovertemplate": "%{y}<extra></extra>",
         "marker": {
          "color": "#1f77b4"
         },
         "name": "Beautification",
         "type": "bar",
         "width": 0.8,
         "x": [
          2019,
          2020,
          2021,
          2022,
          2023
         ],
         "y": [
          475637,
          218825,
          961918,
          637405,
          468730
         ]
        },
        {
         "hoverinfo": "y+name",
         "hovertemplate": "%{y}<extra></extra>",
         "marker": {
          "color": "#ff7f0e"
         },
         "name": "Bike Infrastructure",
         "type": "bar",
         "width": 0.8,
         "x": [
          2019,
          2020,
          2021,
          2022,
          2023
         ],
         "y": [
          219000,
          71000,
          452500,
          427500,
          1176263
         ]
        },
        {
         "hoverinfo": "y+name",
         "hovertemplate": "%{y}<extra></extra>",
         "marker": {
          "color": "#2ca02c"
         },
         "name": "Lighting",
         "type": "bar",
         "width": 0.8,
         "x": [
          2019,
          2020,
          2021,
          2022,
          2023
         ],
         "y": [
          3456041,
          6069707,
          7480645,
          4894523,
          5042751
         ]
        },
        {
         "hoverinfo": "y+name",
         "hovertemplate": "%{y}<extra></extra>",
         "marker": {
          "color": "#d62728"
         },
         "name": "Parks & Recreation",
         "type": "bar",
         "width": 0.8,
         "x": [
          2019,
          2020,
          2021,
          2022,
          2023
         ],
         "y": [
          1110120,
          1114975,
          2149540,
          2190833,
          1077081
         ]
        },
        {
         "hoverinfo": "y+name",
         "hovertemplate": "%{y}<extra></extra>",
         "marker": {
          "color": "#9467bd"
         },
         "name": "Plants, Gardens, & Sustainability",
         "type": "bar",
         "width": 0.8,
         "x": [
          2019,
          2020,
          2021,
          2022,
          2023
         ],
         "y": [
          258371,
          190406,
          164000,
          91700,
          160000
         ]
        },
        {
         "hoverinfo": "y+name",
         "hovertemplate": "%{y}<extra></extra>",
         "marker": {
          "color": "#ffcc00"
         },
         "name": "Schools & Libraries",
         "type": "bar",
         "width": 0.8,
         "x": [
          2019,
          2020,
          2021,
          2022,
          2023
         ],
         "y": [
          695000,
          926233,
          89750,
          395360,
          320634
         ]
        },
        {
         "hoverinfo": "y+name",
         "hovertemplate": "%{y}<extra></extra>",
         "marker": {
          "color": "#e377c2"
         },
         "name": "Security Cameras",
         "type": "bar",
         "width": 0.8,
         "x": [
          2019,
          2020,
          2021,
          2022,
          2023
         ],
         "y": [
          965856,
          1207779,
          4482962,
          1551966,
          34000
         ]
        },
        {
         "hoverinfo": "y+name",
         "hovertemplate": "%{y}<extra></extra>",
         "marker": {
          "color": "#7f7f7f"
         },
         "name": "Streets & Transportation",
         "type": "bar",
         "width": 0.8,
         "x": [
          2019,
          2020,
          2021,
          2022,
          2023
         ],
         "y": [
          55884972,
          56155076,
          59008589,
          63730102,
          58317014
         ]
        }
       ],
       "layout": {
        "barmode": "stack",
        "hovermode": "x unified",
        "legend": {
         "bgcolor": "rgba(255,255,255,0.5)",
         "title": {
          "text": "Categories"
         },
         "x": 1,
         "y": 1
        },
        "template": {
         "data": {
          "bar": [
           {
            "error_x": {
             "color": "#2a3f5f"
            },
            "error_y": {
             "color": "#2a3f5f"
            },
            "marker": {
             "line": {
              "color": "white",
              "width": 0.5
             },
             "pattern": {
              "fillmode": "overlay",
              "size": 10,
              "solidity": 0.2
             }
            },
            "type": "bar"
           }
          ],
          "barpolar": [
           {
            "marker": {
             "line": {
              "color": "white",
              "width": 0.5
             },
             "pattern": {
              "fillmode": "overlay",
              "size": 10,
              "solidity": 0.2
             }
            },
            "type": "barpolar"
           }
          ],
          "carpet": [
           {
            "aaxis": {
             "endlinecolor": "#2a3f5f",
             "gridcolor": "#C8D4E3",
             "linecolor": "#C8D4E3",
             "minorgridcolor": "#C8D4E3",
             "startlinecolor": "#2a3f5f"
            },
            "baxis": {
             "endlinecolor": "#2a3f5f",
             "gridcolor": "#C8D4E3",
             "linecolor": "#C8D4E3",
             "minorgridcolor": "#C8D4E3",
             "startlinecolor": "#2a3f5f"
            },
            "type": "carpet"
           }
          ],
          "choropleth": [
           {
            "colorbar": {
             "outlinewidth": 0,
             "ticks": ""
            },
            "type": "choropleth"
           }
          ],
          "contour": [
           {
            "colorbar": {
             "outlinewidth": 0,
             "ticks": ""
            },
            "colorscale": [
             [
              0,
              "#0d0887"
             ],
             [
              0.1111111111111111,
              "#46039f"
             ],
             [
              0.2222222222222222,
              "#7201a8"
             ],
             [
              0.3333333333333333,
              "#9c179e"
             ],
             [
              0.4444444444444444,
              "#bd3786"
             ],
             [
              0.5555555555555556,
              "#d8576b"
             ],
             [
              0.6666666666666666,
              "#ed7953"
             ],
             [
              0.7777777777777778,
              "#fb9f3a"
             ],
             [
              0.8888888888888888,
              "#fdca26"
             ],
             [
              1,
              "#f0f921"
             ]
            ],
            "type": "contour"
           }
          ],
          "contourcarpet": [
           {
            "colorbar": {
             "outlinewidth": 0,
             "ticks": ""
            },
            "type": "contourcarpet"
           }
          ],
          "heatmap": [
           {
            "colorbar": {
             "outlinewidth": 0,
             "ticks": ""
            },
            "colorscale": [
             [
              0,
              "#0d0887"
             ],
             [
              0.1111111111111111,
              "#46039f"
             ],
             [
              0.2222222222222222,
              "#7201a8"
             ],
             [
              0.3333333333333333,
              "#9c179e"
             ],
             [
              0.4444444444444444,
              "#bd3786"
             ],
             [
              0.5555555555555556,
              "#d8576b"
             ],
             [
              0.6666666666666666,
              "#ed7953"
             ],
             [
              0.7777777777777778,
              "#fb9f3a"
             ],
             [
              0.8888888888888888,
              "#fdca26"
             ],
             [
              1,
              "#f0f921"
             ]
            ],
            "type": "heatmap"
           }
          ],
          "histogram": [
           {
            "marker": {
             "pattern": {
              "fillmode": "overlay",
              "size": 10,
              "solidity": 0.2
             }
            },
            "type": "histogram"
           }
          ],
          "histogram2d": [
           {
            "colorbar": {
             "outlinewidth": 0,
             "ticks": ""
            },
            "colorscale": [
             [
              0,
              "#0d0887"
             ],
             [
              0.1111111111111111,
              "#46039f"
             ],
             [
              0.2222222222222222,
              "#7201a8"
             ],
             [
              0.3333333333333333,
              "#9c179e"
             ],
             [
              0.4444444444444444,
              "#bd3786"
             ],
             [
              0.5555555555555556,
              "#d8576b"
             ],
             [
              0.6666666666666666,
              "#ed7953"
             ],
             [
              0.7777777777777778,
              "#fb9f3a"
             ],
             [
              0.8888888888888888,
              "#fdca26"
             ],
             [
              1,
              "#f0f921"
             ]
            ],
            "type": "histogram2d"
           }
          ],
          "histogram2dcontour": [
           {
            "colorbar": {
             "outlinewidth": 0,
             "ticks": ""
            },
            "colorscale": [
             [
              0,
              "#0d0887"
             ],
             [
              0.1111111111111111,
              "#46039f"
             ],
             [
              0.2222222222222222,
              "#7201a8"
             ],
             [
              0.3333333333333333,
              "#9c179e"
             ],
             [
              0.4444444444444444,
              "#bd3786"
             ],
             [
              0.5555555555555556,
              "#d8576b"
             ],
             [
              0.6666666666666666,
              "#ed7953"
             ],
             [
              0.7777777777777778,
              "#fb9f3a"
             ],
             [
              0.8888888888888888,
              "#fdca26"
             ],
             [
              1,
              "#f0f921"
             ]
            ],
            "type": "histogram2dcontour"
           }
          ],
          "mesh3d": [
           {
            "colorbar": {
             "outlinewidth": 0,
             "ticks": ""
            },
            "type": "mesh3d"
           }
          ],
          "parcoords": [
           {
            "line": {
             "colorbar": {
              "outlinewidth": 0,
              "ticks": ""
             }
            },
            "type": "parcoords"
           }
          ],
          "pie": [
           {
            "automargin": true,
            "type": "pie"
           }
          ],
          "scatter": [
           {
            "fillpattern": {
             "fillmode": "overlay",
             "size": 10,
             "solidity": 0.2
            },
            "type": "scatter"
           }
          ],
          "scatter3d": [
           {
            "line": {
             "colorbar": {
              "outlinewidth": 0,
              "ticks": ""
             }
            },
            "marker": {
             "colorbar": {
              "outlinewidth": 0,
              "ticks": ""
             }
            },
            "type": "scatter3d"
           }
          ],
          "scattercarpet": [
           {
            "marker": {
             "colorbar": {
              "outlinewidth": 0,
              "ticks": ""
             }
            },
            "type": "scattercarpet"
           }
          ],
          "scattergeo": [
           {
            "marker": {
             "colorbar": {
              "outlinewidth": 0,
              "ticks": ""
             }
            },
            "type": "scattergeo"
           }
          ],
          "scattergl": [
           {
            "marker": {
             "colorbar": {
              "outlinewidth": 0,
              "ticks": ""
             }
            },
            "type": "scattergl"
           }
          ],
          "scattermap": [
           {
            "marker": {
             "colorbar": {
              "outlinewidth": 0,
              "ticks": ""
             }
            },
            "type": "scattermap"
           }
          ],
          "scattermapbox": [
           {
            "marker": {
             "colorbar": {
              "outlinewidth": 0,
              "ticks": ""
             }
            },
            "type": "scattermapbox"
           }
          ],
          "scatterpolar": [
           {
            "marker": {
             "colorbar": {
              "outlinewidth": 0,
              "ticks": ""
             }
            },
            "type": "scatterpolar"
           }
          ],
          "scatterpolargl": [
           {
            "marker": {
             "colorbar": {
              "outlinewidth": 0,
              "ticks": ""
             }
            },
            "type": "scatterpolargl"
           }
          ],
          "scatterternary": [
           {
            "marker": {
             "colorbar": {
              "outlinewidth": 0,
              "ticks": ""
             }
            },
            "type": "scatterternary"
           }
          ],
          "surface": [
           {
            "colorbar": {
             "outlinewidth": 0,
             "ticks": ""
            },
            "colorscale": [
             [
              0,
              "#0d0887"
             ],
             [
              0.1111111111111111,
              "#46039f"
             ],
             [
              0.2222222222222222,
              "#7201a8"
             ],
             [
              0.3333333333333333,
              "#9c179e"
             ],
             [
              0.4444444444444444,
              "#bd3786"
             ],
             [
              0.5555555555555556,
              "#d8576b"
             ],
             [
              0.6666666666666666,
              "#ed7953"
             ],
             [
              0.7777777777777778,
              "#fb9f3a"
             ],
             [
              0.8888888888888888,
              "#fdca26"
             ],
             [
              1,
              "#f0f921"
             ]
            ],
            "type": "surface"
           }
          ],
          "table": [
           {
            "cells": {
             "fill": {
              "color": "#EBF0F8"
             },
             "line": {
              "color": "white"
             }
            },
            "header": {
             "fill": {
              "color": "#C8D4E3"
             },
             "line": {
              "color": "white"
             }
            },
            "type": "table"
           }
          ]
         },
         "layout": {
          "annotationdefaults": {
           "arrowcolor": "#2a3f5f",
           "arrowhead": 0,
           "arrowwidth": 1
          },
          "autotypenumbers": "strict",
          "coloraxis": {
           "colorbar": {
            "outlinewidth": 0,
            "ticks": ""
           }
          },
          "colorscale": {
           "diverging": [
            [
             0,
             "#8e0152"
            ],
            [
             0.1,
             "#c51b7d"
            ],
            [
             0.2,
             "#de77ae"
            ],
            [
             0.3,
             "#f1b6da"
            ],
            [
             0.4,
             "#fde0ef"
            ],
            [
             0.5,
             "#f7f7f7"
            ],
            [
             0.6,
             "#e6f5d0"
            ],
            [
             0.7,
             "#b8e186"
            ],
            [
             0.8,
             "#7fbc41"
            ],
            [
             0.9,
             "#4d9221"
            ],
            [
             1,
             "#276419"
            ]
           ],
           "sequential": [
            [
             0,
             "#0d0887"
            ],
            [
             0.1111111111111111,
             "#46039f"
            ],
            [
             0.2222222222222222,
             "#7201a8"
            ],
            [
             0.3333333333333333,
             "#9c179e"
            ],
            [
             0.4444444444444444,
             "#bd3786"
            ],
            [
             0.5555555555555556,
             "#d8576b"
            ],
            [
             0.6666666666666666,
             "#ed7953"
            ],
            [
             0.7777777777777778,
             "#fb9f3a"
            ],
            [
             0.8888888888888888,
             "#fdca26"
            ],
            [
             1,
             "#f0f921"
            ]
           ],
           "sequentialminus": [
            [
             0,
             "#0d0887"
            ],
            [
             0.1111111111111111,
             "#46039f"
            ],
            [
             0.2222222222222222,
             "#7201a8"
            ],
            [
             0.3333333333333333,
             "#9c179e"
            ],
            [
             0.4444444444444444,
             "#bd3786"
            ],
            [
             0.5555555555555556,
             "#d8576b"
            ],
            [
             0.6666666666666666,
             "#ed7953"
            ],
            [
             0.7777777777777778,
             "#fb9f3a"
            ],
            [
             0.8888888888888888,
             "#fdca26"
            ],
            [
             1,
             "#f0f921"
            ]
           ]
          },
          "colorway": [
           "#636efa",
           "#EF553B",
           "#00cc96",
           "#ab63fa",
           "#FFA15A",
           "#19d3f3",
           "#FF6692",
           "#B6E880",
           "#FF97FF",
           "#FECB52"
          ],
          "font": {
           "color": "#2a3f5f"
          },
          "geo": {
           "bgcolor": "white",
           "lakecolor": "white",
           "landcolor": "white",
           "showlakes": true,
           "showland": true,
           "subunitcolor": "#C8D4E3"
          },
          "hoverlabel": {
           "align": "left"
          },
          "hovermode": "closest",
          "mapbox": {
           "style": "light"
          },
          "paper_bgcolor": "white",
          "plot_bgcolor": "white",
          "polar": {
           "angularaxis": {
            "gridcolor": "#EBF0F8",
            "linecolor": "#EBF0F8",
            "ticks": ""
           },
           "bgcolor": "white",
           "radialaxis": {
            "gridcolor": "#EBF0F8",
            "linecolor": "#EBF0F8",
            "ticks": ""
           }
          },
          "scene": {
           "xaxis": {
            "backgroundcolor": "white",
            "gridcolor": "#DFE8F3",
            "gridwidth": 2,
            "linecolor": "#EBF0F8",
            "showbackground": true,
            "ticks": "",
            "zerolinecolor": "#EBF0F8"
           },
           "yaxis": {
            "backgroundcolor": "white",
            "gridcolor": "#DFE8F3",
            "gridwidth": 2,
            "linecolor": "#EBF0F8",
            "showbackground": true,
            "ticks": "",
            "zerolinecolor": "#EBF0F8"
           },
           "zaxis": {
            "backgroundcolor": "white",
            "gridcolor": "#DFE8F3",
            "gridwidth": 2,
            "linecolor": "#EBF0F8",
            "showbackground": true,
            "ticks": "",
            "zerolinecolor": "#EBF0F8"
           }
          },
          "shapedefaults": {
           "line": {
            "color": "#2a3f5f"
           }
          },
          "ternary": {
           "aaxis": {
            "gridcolor": "#DFE8F3",
            "linecolor": "#A2B1C6",
            "ticks": ""
           },
           "baxis": {
            "gridcolor": "#DFE8F3",
            "linecolor": "#A2B1C6",
            "ticks": ""
           },
           "bgcolor": "white",
           "caxis": {
            "gridcolor": "#DFE8F3",
            "linecolor": "#A2B1C6",
            "ticks": ""
           }
          },
          "title": {
           "x": 0.05
          },
          "xaxis": {
           "automargin": true,
           "gridcolor": "#EBF0F8",
           "linecolor": "#EBF0F8",
           "ticks": "",
           "title": {
            "standoff": 15
           },
           "zerolinecolor": "#EBF0F8",
           "zerolinewidth": 2
          },
          "yaxis": {
           "automargin": true,
           "gridcolor": "#EBF0F8",
           "linecolor": "#EBF0F8",
           "ticks": "",
           "title": {
            "standoff": 15
           },
           "zerolinecolor": "#EBF0F8",
           "zerolinewidth": 2
          }
         }
        },
        "title": {
         "font": {
          "size": 16
         },
         "text": "Money Spent by Year and Category (2019-2023)"
        },
        "width": 800,
        "xaxis": {
         "automargin": true,
         "tickangle": 0,
         "tickfont": {
          "size": 14
         },
         "ticklen": 8,
         "tickmode": "array",
         "ticktext": [
          "2019",
          "2020",
          "2021",
          "2022",
          "2023"
         ],
         "tickvals": [
          2019,
          2020,
          2021,
          2022,
          2023
         ],
         "tickwidth": 1,
         "title": {
          "text": "Year"
         }
        },
        "yaxis": {
         "title": {
          "text": "Total Money Spent ($)"
         }
        }
       }
      },
      "text/html": [
       "<div>            <script src=\"https://cdnjs.cloudflare.com/ajax/libs/mathjax/2.7.5/MathJax.js?config=TeX-AMS-MML_SVG\"></script><script type=\"text/javascript\">if (window.MathJax && window.MathJax.Hub && window.MathJax.Hub.Config) {window.MathJax.Hub.Config({SVG: {font: \"STIX-Web\"}});}</script>                <script type=\"text/javascript\">window.PlotlyConfig = {MathJaxConfig: 'local'};</script>\n",
       "        <script charset=\"utf-8\" src=\"https://cdn.plot.ly/plotly-3.0.0.min.js\"></script>                <div id=\"f85f84ab-66c2-44c6-9f07-9dfeb0791834\" class=\"plotly-graph-div\" style=\"height:525px; width:800px;\"></div>            <script type=\"text/javascript\">                window.PLOTLYENV=window.PLOTLYENV || {};                                if (document.getElementById(\"f85f84ab-66c2-44c6-9f07-9dfeb0791834\")) {                    Plotly.newPlot(                        \"f85f84ab-66c2-44c6-9f07-9dfeb0791834\",                        [{\"hoverinfo\":\"y+name\",\"hovertemplate\":\"%{y}\\u003cextra\\u003e\\u003c\\u002fextra\\u003e\",\"marker\":{\"color\":\"#1f77b4\"},\"name\":\"Beautification\",\"width\":0.8,\"x\":[2019,2020,2021,2022,2023],\"y\":[475637.0,218825.0,961918.0,637405.0,468730.0],\"type\":\"bar\"},{\"hoverinfo\":\"y+name\",\"hovertemplate\":\"%{y}\\u003cextra\\u003e\\u003c\\u002fextra\\u003e\",\"marker\":{\"color\":\"#ff7f0e\"},\"name\":\"Bike Infrastructure\",\"width\":0.8,\"x\":[2019,2020,2021,2022,2023],\"y\":[219000.0,71000.0,452500.0,427500.0,1176263.0],\"type\":\"bar\"},{\"hoverinfo\":\"y+name\",\"hovertemplate\":\"%{y}\\u003cextra\\u003e\\u003c\\u002fextra\\u003e\",\"marker\":{\"color\":\"#2ca02c\"},\"name\":\"Lighting\",\"width\":0.8,\"x\":[2019,2020,2021,2022,2023],\"y\":[3456041.0,6069707.0,7480645.0,4894523.0,5042751.0],\"type\":\"bar\"},{\"hoverinfo\":\"y+name\",\"hovertemplate\":\"%{y}\\u003cextra\\u003e\\u003c\\u002fextra\\u003e\",\"marker\":{\"color\":\"#d62728\"},\"name\":\"Parks & Recreation\",\"width\":0.8,\"x\":[2019,2020,2021,2022,2023],\"y\":[1110120.0,1114975.0,2149540.0,2190833.0,1077081.0],\"type\":\"bar\"},{\"hoverinfo\":\"y+name\",\"hovertemplate\":\"%{y}\\u003cextra\\u003e\\u003c\\u002fextra\\u003e\",\"marker\":{\"color\":\"#9467bd\"},\"name\":\"Plants, Gardens, & Sustainability\",\"width\":0.8,\"x\":[2019,2020,2021,2022,2023],\"y\":[258371.0,190406.0,164000.0,91700.0,160000.0],\"type\":\"bar\"},{\"hoverinfo\":\"y+name\",\"hovertemplate\":\"%{y}\\u003cextra\\u003e\\u003c\\u002fextra\\u003e\",\"marker\":{\"color\":\"#ffcc00\"},\"name\":\"Schools & Libraries\",\"width\":0.8,\"x\":[2019,2020,2021,2022,2023],\"y\":[695000.0,926233.0,89750.0,395360.0,320634.0],\"type\":\"bar\"},{\"hoverinfo\":\"y+name\",\"hovertemplate\":\"%{y}\\u003cextra\\u003e\\u003c\\u002fextra\\u003e\",\"marker\":{\"color\":\"#e377c2\"},\"name\":\"Security Cameras\",\"width\":0.8,\"x\":[2019,2020,2021,2022,2023],\"y\":[965856.0,1207779.0,4482962.0,1551966.0,34000.0],\"type\":\"bar\"},{\"hoverinfo\":\"y+name\",\"hovertemplate\":\"%{y}\\u003cextra\\u003e\\u003c\\u002fextra\\u003e\",\"marker\":{\"color\":\"#7f7f7f\"},\"name\":\"Streets & Transportation\",\"width\":0.8,\"x\":[2019,2020,2021,2022,2023],\"y\":[55884972.0,56155076.0,59008589.0,63730102.0,58317014.0],\"type\":\"bar\"}],                        {\"barmode\":\"stack\",\"hovermode\":\"x unified\",\"legend\":{\"bgcolor\":\"rgba(255,255,255,0.5)\",\"title\":{\"text\":\"Categories\"},\"x\":1,\"y\":1},\"template\":{\"data\":{\"barpolar\":[{\"marker\":{\"line\":{\"color\":\"white\",\"width\":0.5},\"pattern\":{\"fillmode\":\"overlay\",\"size\":10,\"solidity\":0.2}},\"type\":\"barpolar\"}],\"bar\":[{\"error_x\":{\"color\":\"#2a3f5f\"},\"error_y\":{\"color\":\"#2a3f5f\"},\"marker\":{\"line\":{\"color\":\"white\",\"width\":0.5},\"pattern\":{\"fillmode\":\"overlay\",\"size\":10,\"solidity\":0.2}},\"type\":\"bar\"}],\"carpet\":[{\"aaxis\":{\"endlinecolor\":\"#2a3f5f\",\"gridcolor\":\"#C8D4E3\",\"linecolor\":\"#C8D4E3\",\"minorgridcolor\":\"#C8D4E3\",\"startlinecolor\":\"#2a3f5f\"},\"baxis\":{\"endlinecolor\":\"#2a3f5f\",\"gridcolor\":\"#C8D4E3\",\"linecolor\":\"#C8D4E3\",\"minorgridcolor\":\"#C8D4E3\",\"startlinecolor\":\"#2a3f5f\"},\"type\":\"carpet\"}],\"choropleth\":[{\"colorbar\":{\"outlinewidth\":0,\"ticks\":\"\"},\"type\":\"choropleth\"}],\"contourcarpet\":[{\"colorbar\":{\"outlinewidth\":0,\"ticks\":\"\"},\"type\":\"contourcarpet\"}],\"contour\":[{\"colorbar\":{\"outlinewidth\":0,\"ticks\":\"\"},\"colorscale\":[[0.0,\"#0d0887\"],[0.1111111111111111,\"#46039f\"],[0.2222222222222222,\"#7201a8\"],[0.3333333333333333,\"#9c179e\"],[0.4444444444444444,\"#bd3786\"],[0.5555555555555556,\"#d8576b\"],[0.6666666666666666,\"#ed7953\"],[0.7777777777777778,\"#fb9f3a\"],[0.8888888888888888,\"#fdca26\"],[1.0,\"#f0f921\"]],\"type\":\"contour\"}],\"heatmap\":[{\"colorbar\":{\"outlinewidth\":0,\"ticks\":\"\"},\"colorscale\":[[0.0,\"#0d0887\"],[0.1111111111111111,\"#46039f\"],[0.2222222222222222,\"#7201a8\"],[0.3333333333333333,\"#9c179e\"],[0.4444444444444444,\"#bd3786\"],[0.5555555555555556,\"#d8576b\"],[0.6666666666666666,\"#ed7953\"],[0.7777777777777778,\"#fb9f3a\"],[0.8888888888888888,\"#fdca26\"],[1.0,\"#f0f921\"]],\"type\":\"heatmap\"}],\"histogram2dcontour\":[{\"colorbar\":{\"outlinewidth\":0,\"ticks\":\"\"},\"colorscale\":[[0.0,\"#0d0887\"],[0.1111111111111111,\"#46039f\"],[0.2222222222222222,\"#7201a8\"],[0.3333333333333333,\"#9c179e\"],[0.4444444444444444,\"#bd3786\"],[0.5555555555555556,\"#d8576b\"],[0.6666666666666666,\"#ed7953\"],[0.7777777777777778,\"#fb9f3a\"],[0.8888888888888888,\"#fdca26\"],[1.0,\"#f0f921\"]],\"type\":\"histogram2dcontour\"}],\"histogram2d\":[{\"colorbar\":{\"outlinewidth\":0,\"ticks\":\"\"},\"colorscale\":[[0.0,\"#0d0887\"],[0.1111111111111111,\"#46039f\"],[0.2222222222222222,\"#7201a8\"],[0.3333333333333333,\"#9c179e\"],[0.4444444444444444,\"#bd3786\"],[0.5555555555555556,\"#d8576b\"],[0.6666666666666666,\"#ed7953\"],[0.7777777777777778,\"#fb9f3a\"],[0.8888888888888888,\"#fdca26\"],[1.0,\"#f0f921\"]],\"type\":\"histogram2d\"}],\"histogram\":[{\"marker\":{\"pattern\":{\"fillmode\":\"overlay\",\"size\":10,\"solidity\":0.2}},\"type\":\"histogram\"}],\"mesh3d\":[{\"colorbar\":{\"outlinewidth\":0,\"ticks\":\"\"},\"type\":\"mesh3d\"}],\"parcoords\":[{\"line\":{\"colorbar\":{\"outlinewidth\":0,\"ticks\":\"\"}},\"type\":\"parcoords\"}],\"pie\":[{\"automargin\":true,\"type\":\"pie\"}],\"scatter3d\":[{\"line\":{\"colorbar\":{\"outlinewidth\":0,\"ticks\":\"\"}},\"marker\":{\"colorbar\":{\"outlinewidth\":0,\"ticks\":\"\"}},\"type\":\"scatter3d\"}],\"scattercarpet\":[{\"marker\":{\"colorbar\":{\"outlinewidth\":0,\"ticks\":\"\"}},\"type\":\"scattercarpet\"}],\"scattergeo\":[{\"marker\":{\"colorbar\":{\"outlinewidth\":0,\"ticks\":\"\"}},\"type\":\"scattergeo\"}],\"scattergl\":[{\"marker\":{\"colorbar\":{\"outlinewidth\":0,\"ticks\":\"\"}},\"type\":\"scattergl\"}],\"scattermapbox\":[{\"marker\":{\"colorbar\":{\"outlinewidth\":0,\"ticks\":\"\"}},\"type\":\"scattermapbox\"}],\"scattermap\":[{\"marker\":{\"colorbar\":{\"outlinewidth\":0,\"ticks\":\"\"}},\"type\":\"scattermap\"}],\"scatterpolargl\":[{\"marker\":{\"colorbar\":{\"outlinewidth\":0,\"ticks\":\"\"}},\"type\":\"scatterpolargl\"}],\"scatterpolar\":[{\"marker\":{\"colorbar\":{\"outlinewidth\":0,\"ticks\":\"\"}},\"type\":\"scatterpolar\"}],\"scatter\":[{\"fillpattern\":{\"fillmode\":\"overlay\",\"size\":10,\"solidity\":0.2},\"type\":\"scatter\"}],\"scatterternary\":[{\"marker\":{\"colorbar\":{\"outlinewidth\":0,\"ticks\":\"\"}},\"type\":\"scatterternary\"}],\"surface\":[{\"colorbar\":{\"outlinewidth\":0,\"ticks\":\"\"},\"colorscale\":[[0.0,\"#0d0887\"],[0.1111111111111111,\"#46039f\"],[0.2222222222222222,\"#7201a8\"],[0.3333333333333333,\"#9c179e\"],[0.4444444444444444,\"#bd3786\"],[0.5555555555555556,\"#d8576b\"],[0.6666666666666666,\"#ed7953\"],[0.7777777777777778,\"#fb9f3a\"],[0.8888888888888888,\"#fdca26\"],[1.0,\"#f0f921\"]],\"type\":\"surface\"}],\"table\":[{\"cells\":{\"fill\":{\"color\":\"#EBF0F8\"},\"line\":{\"color\":\"white\"}},\"header\":{\"fill\":{\"color\":\"#C8D4E3\"},\"line\":{\"color\":\"white\"}},\"type\":\"table\"}]},\"layout\":{\"annotationdefaults\":{\"arrowcolor\":\"#2a3f5f\",\"arrowhead\":0,\"arrowwidth\":1},\"autotypenumbers\":\"strict\",\"coloraxis\":{\"colorbar\":{\"outlinewidth\":0,\"ticks\":\"\"}},\"colorscale\":{\"diverging\":[[0,\"#8e0152\"],[0.1,\"#c51b7d\"],[0.2,\"#de77ae\"],[0.3,\"#f1b6da\"],[0.4,\"#fde0ef\"],[0.5,\"#f7f7f7\"],[0.6,\"#e6f5d0\"],[0.7,\"#b8e186\"],[0.8,\"#7fbc41\"],[0.9,\"#4d9221\"],[1,\"#276419\"]],\"sequential\":[[0.0,\"#0d0887\"],[0.1111111111111111,\"#46039f\"],[0.2222222222222222,\"#7201a8\"],[0.3333333333333333,\"#9c179e\"],[0.4444444444444444,\"#bd3786\"],[0.5555555555555556,\"#d8576b\"],[0.6666666666666666,\"#ed7953\"],[0.7777777777777778,\"#fb9f3a\"],[0.8888888888888888,\"#fdca26\"],[1.0,\"#f0f921\"]],\"sequentialminus\":[[0.0,\"#0d0887\"],[0.1111111111111111,\"#46039f\"],[0.2222222222222222,\"#7201a8\"],[0.3333333333333333,\"#9c179e\"],[0.4444444444444444,\"#bd3786\"],[0.5555555555555556,\"#d8576b\"],[0.6666666666666666,\"#ed7953\"],[0.7777777777777778,\"#fb9f3a\"],[0.8888888888888888,\"#fdca26\"],[1.0,\"#f0f921\"]]},\"colorway\":[\"#636efa\",\"#EF553B\",\"#00cc96\",\"#ab63fa\",\"#FFA15A\",\"#19d3f3\",\"#FF6692\",\"#B6E880\",\"#FF97FF\",\"#FECB52\"],\"font\":{\"color\":\"#2a3f5f\"},\"geo\":{\"bgcolor\":\"white\",\"lakecolor\":\"white\",\"landcolor\":\"white\",\"showlakes\":true,\"showland\":true,\"subunitcolor\":\"#C8D4E3\"},\"hoverlabel\":{\"align\":\"left\"},\"hovermode\":\"closest\",\"mapbox\":{\"style\":\"light\"},\"paper_bgcolor\":\"white\",\"plot_bgcolor\":\"white\",\"polar\":{\"angularaxis\":{\"gridcolor\":\"#EBF0F8\",\"linecolor\":\"#EBF0F8\",\"ticks\":\"\"},\"bgcolor\":\"white\",\"radialaxis\":{\"gridcolor\":\"#EBF0F8\",\"linecolor\":\"#EBF0F8\",\"ticks\":\"\"}},\"scene\":{\"xaxis\":{\"backgroundcolor\":\"white\",\"gridcolor\":\"#DFE8F3\",\"gridwidth\":2,\"linecolor\":\"#EBF0F8\",\"showbackground\":true,\"ticks\":\"\",\"zerolinecolor\":\"#EBF0F8\"},\"yaxis\":{\"backgroundcolor\":\"white\",\"gridcolor\":\"#DFE8F3\",\"gridwidth\":2,\"linecolor\":\"#EBF0F8\",\"showbackground\":true,\"ticks\":\"\",\"zerolinecolor\":\"#EBF0F8\"},\"zaxis\":{\"backgroundcolor\":\"white\",\"gridcolor\":\"#DFE8F3\",\"gridwidth\":2,\"linecolor\":\"#EBF0F8\",\"showbackground\":true,\"ticks\":\"\",\"zerolinecolor\":\"#EBF0F8\"}},\"shapedefaults\":{\"line\":{\"color\":\"#2a3f5f\"}},\"ternary\":{\"aaxis\":{\"gridcolor\":\"#DFE8F3\",\"linecolor\":\"#A2B1C6\",\"ticks\":\"\"},\"baxis\":{\"gridcolor\":\"#DFE8F3\",\"linecolor\":\"#A2B1C6\",\"ticks\":\"\"},\"bgcolor\":\"white\",\"caxis\":{\"gridcolor\":\"#DFE8F3\",\"linecolor\":\"#A2B1C6\",\"ticks\":\"\"}},\"title\":{\"x\":0.05},\"xaxis\":{\"automargin\":true,\"gridcolor\":\"#EBF0F8\",\"linecolor\":\"#EBF0F8\",\"ticks\":\"\",\"title\":{\"standoff\":15},\"zerolinecolor\":\"#EBF0F8\",\"zerolinewidth\":2},\"yaxis\":{\"automargin\":true,\"gridcolor\":\"#EBF0F8\",\"linecolor\":\"#EBF0F8\",\"ticks\":\"\",\"title\":{\"standoff\":15},\"zerolinecolor\":\"#EBF0F8\",\"zerolinewidth\":2}}},\"title\":{\"font\":{\"size\":16},\"text\":\"Money Spent by Year and Category (2019-2023)\"},\"width\":800,\"xaxis\":{\"automargin\":true,\"tickangle\":0,\"tickfont\":{\"size\":14},\"ticklen\":8,\"tickmode\":\"array\",\"ticktext\":[\"2019\",\"2020\",\"2021\",\"2022\",\"2023\"],\"tickvals\":[2019,2020,2021,2022,2023],\"tickwidth\":1,\"title\":{\"text\":\"Year\"}},\"yaxis\":{\"title\":{\"text\":\"Total Money Spent ($)\"}}},                        {\"responsive\": true}                    ).then(function(){\n",
       "                            \n",
       "var gd = document.getElementById('f85f84ab-66c2-44c6-9f07-9dfeb0791834');\n",
       "var x = new MutationObserver(function (mutations, observer) {{\n",
       "        var display = window.getComputedStyle(gd).display;\n",
       "        if (!display || display === 'none') {{\n",
       "            console.log([gd, 'removed!']);\n",
       "            Plotly.purge(gd);\n",
       "            observer.disconnect();\n",
       "        }}\n",
       "}});\n",
       "\n",
       "// Listen for the removal of the full notebook cells\n",
       "var notebookContainer = gd.closest('#notebook-container');\n",
       "if (notebookContainer) {{\n",
       "    x.observe(notebookContainer, {childList: true});\n",
       "}}\n",
       "\n",
       "// Listen for the clearing of the current output cell\n",
       "var outputEl = gd.closest('.output');\n",
       "if (outputEl) {{\n",
       "    x.observe(outputEl, {childList: true});\n",
       "}}\n",
       "\n",
       "                        })                };            </script>        </div>"
      ]
     },
     "metadata": {},
     "output_type": "display_data"
    },
    {
     "data": {
      "application/vnd.plotly.v1+json": {
       "config": {
        "plotlyServerURL": "https://plot.ly"
       },
       "data": [
        {
         "hoverinfo": "y+name",
         "hovertemplate": "%{y}<extra></extra>",
         "marker": {
          "color": "#1f77b4"
         },
         "name": "Beautification",
         "type": "bar",
         "width": 0.5,
         "x": [
          1,
          2,
          3,
          4,
          5,
          6,
          7,
          8,
          9,
          10,
          11,
          12,
          13,
          14,
          15,
          16,
          17,
          18,
          19,
          20,
          21,
          22,
          23,
          24,
          25,
          26,
          27,
          28,
          29,
          30,
          31,
          32,
          33,
          34,
          35,
          36,
          37,
          38,
          39,
          40,
          41,
          42,
          43,
          44,
          45,
          46,
          47,
          48,
          49,
          50
         ],
         "y": [
          36000,
          465965,
          180150,
          88069,
          480679,
          20750,
          107703,
          16500,
          13600,
          236888,
          718426,
          203401,
          18345,
          0,
          7800,
          14400,
          130600,
          17595,
          51100,
          256148,
          23362,
          88700,
          369194,
          63443,
          458197,
          96011,
          374551,
          46850,
          313157,
          10000,
          188547,
          34100,
          32000,
          264300,
          453425,
          16700,
          41757,
          10300,
          325350,
          171961,
          68650,
          701714,
          143976,
          35850,
          60909,
          374864,
          70300,
          236850,
          337028,
          14000
         ]
        },
        {
         "hoverinfo": "y+name",
         "hovertemplate": "%{y}<extra></extra>",
         "marker": {
          "color": "#ff7f0e"
         },
         "name": "Bike Infrastructure",
         "type": "bar",
         "width": 0.5,
         "x": [
          1,
          2,
          3,
          4,
          5,
          6,
          7,
          8,
          9,
          10,
          11,
          12,
          13,
          14,
          15,
          16,
          17,
          18,
          19,
          20,
          21,
          22,
          23,
          24,
          25,
          26,
          27,
          28,
          29,
          30,
          31,
          32,
          33,
          34,
          35,
          36,
          37,
          38,
          39,
          40,
          41,
          42,
          43,
          44,
          45,
          46,
          47,
          48,
          49,
          50
         ],
         "y": [
          900000,
          0,
          0,
          0,
          0,
          0,
          0,
          0,
          0,
          0,
          150000,
          30000,
          0,
          0,
          0,
          0,
          0,
          0,
          0,
          0,
          0,
          0,
          0,
          0,
          26500,
          0,
          0,
          0,
          0,
          0,
          0,
          5000,
          297763,
          0,
          315365,
          0,
          45000,
          0,
          150000,
          23000,
          0,
          18000,
          0,
          0,
          175716,
          565500,
          1034500,
          255500,
          247000,
          0
         ]
        },
        {
         "hoverinfo": "y+name",
         "hovertemplate": "%{y}<extra></extra>",
         "marker": {
          "color": "#2ca02c"
         },
         "name": "Lighting",
         "type": "bar",
         "width": 0.5,
         "x": [
          1,
          2,
          3,
          4,
          5,
          6,
          7,
          8,
          9,
          10,
          11,
          12,
          13,
          14,
          15,
          16,
          17,
          18,
          19,
          20,
          21,
          22,
          23,
          24,
          25,
          26,
          27,
          28,
          29,
          30,
          31,
          32,
          33,
          34,
          35,
          36,
          37,
          38,
          39,
          40,
          41,
          42,
          43,
          44,
          45,
          46,
          47,
          48,
          49,
          50
         ],
         "y": [
          308844,
          1294152,
          1968675,
          599679,
          5151668,
          2822448,
          1866200,
          5601809,
          26512,
          243950,
          1880866,
          4980847,
          4498570,
          2349,
          4341187,
          1907642,
          1552550,
          1091690,
          1600,
          2239974,
          267450,
          481728,
          96000,
          1397683,
          1860600,
          1473050,
          2936912,
          5963549,
          1253849,
          1498260,
          2757781,
          141500,
          3698950,
          2166305,
          3745950,
          44363,
          4596450,
          16750,
          452721,
          827499,
          3550,
          3112864,
          1777850,
          2720843,
          482250,
          3217700,
          1163149,
          1696750,
          1490726,
          2966032
         ]
        },
        {
         "hoverinfo": "y+name",
         "hovertemplate": "%{y}<extra></extra>",
         "marker": {
          "color": "#d62728"
         },
         "name": "Parks & Recreation",
         "type": "bar",
         "width": 0.5,
         "x": [
          1,
          2,
          3,
          4,
          5,
          6,
          7,
          8,
          9,
          10,
          11,
          12,
          13,
          14,
          15,
          16,
          17,
          18,
          19,
          20,
          21,
          22,
          23,
          24,
          25,
          26,
          27,
          28,
          29,
          30,
          31,
          32,
          33,
          34,
          35,
          36,
          37,
          38,
          39,
          40,
          41,
          42,
          43,
          44,
          45,
          46,
          47,
          48,
          49,
          50
         ],
         "y": [
          2839999,
          622305,
          34000,
          577340,
          70580,
          325000,
          0,
          0,
          0,
          335000,
          172829,
          284850,
          2015000,
          0,
          0,
          150000,
          50000,
          50000,
          395118,
          0,
          0,
          674000,
          930829,
          500000,
          951276,
          150000,
          0,
          1025000,
          209500,
          45000,
          100000,
          500000,
          576904,
          0,
          468000,
          690578,
          0,
          470000,
          490616,
          390000,
          402000,
          189319,
          575201,
          104988,
          132500,
          167735,
          350100,
          914900,
          1728925,
          0
         ]
        },
        {
         "hoverinfo": "y+name",
         "hovertemplate": "%{y}<extra></extra>",
         "marker": {
          "color": "#9467bd"
         },
         "name": "Plants, Gardens, & Sustainability",
         "type": "bar",
         "width": 0.5,
         "x": [
          1,
          2,
          3,
          4,
          5,
          6,
          7,
          8,
          9,
          10,
          11,
          12,
          13,
          14,
          15,
          16,
          17,
          18,
          19,
          20,
          21,
          22,
          23,
          24,
          25,
          26,
          27,
          28,
          29,
          30,
          31,
          32,
          33,
          34,
          35,
          36,
          37,
          38,
          39,
          40,
          41,
          42,
          43,
          44,
          45,
          46,
          47,
          48,
          49,
          50
         ],
         "y": [
          50000,
          18841,
          15129,
          150000,
          212595,
          0,
          0,
          0,
          0,
          30000,
          0,
          0,
          4438,
          0,
          0,
          47200,
          0,
          0,
          20515,
          4289,
          0,
          415000,
          0,
          539,
          2576,
          0,
          0,
          0,
          151788,
          0,
          0,
          0,
          134241,
          0,
          21275,
          0,
          0,
          0,
          25000,
          262535,
          17100,
          1050,
          114180,
          14532,
          249000,
          22972,
          74385,
          334498,
          377000,
          0
         ]
        },
        {
         "hoverinfo": "y+name",
         "hovertemplate": "%{y}<extra></extra>",
         "marker": {
          "color": "#ffcc00"
         },
         "name": "Schools & Libraries",
         "type": "bar",
         "width": 0.5,
         "x": [
          1,
          2,
          3,
          4,
          5,
          6,
          7,
          8,
          9,
          10,
          11,
          12,
          13,
          14,
          15,
          16,
          17,
          18,
          19,
          20,
          21,
          22,
          23,
          24,
          25,
          26,
          27,
          28,
          29,
          30,
          31,
          32,
          33,
          34,
          35,
          36,
          37,
          38,
          39,
          40,
          41,
          42,
          43,
          44,
          45,
          46,
          47,
          48,
          49,
          50
         ],
         "y": [
          708363,
          0,
          0,
          0,
          0,
          0,
          0,
          0,
          49115,
          0,
          0,
          0,
          395000,
          0,
          0,
          0,
          0,
          0,
          0,
          0,
          0,
          140000,
          339352,
          0,
          50000,
          20000,
          0,
          9400,
          75000,
          0,
          0,
          500000,
          594542,
          0,
          339000,
          583900,
          0,
          80650,
          511233,
          0,
          0,
          0,
          53500,
          510200,
          383100,
          9057,
          956284,
          600899,
          232222,
          0
         ]
        },
        {
         "hoverinfo": "y+name",
         "hovertemplate": "%{y}<extra></extra>",
         "marker": {
          "color": "#e377c2"
         },
         "name": "Security Cameras",
         "type": "bar",
         "width": 0.5,
         "x": [
          1,
          2,
          3,
          4,
          5,
          6,
          7,
          8,
          9,
          10,
          11,
          12,
          13,
          14,
          15,
          16,
          17,
          18,
          19,
          20,
          21,
          22,
          23,
          24,
          25,
          26,
          27,
          28,
          29,
          30,
          31,
          32,
          33,
          34,
          35,
          36,
          37,
          38,
          39,
          40,
          41,
          42,
          43,
          44,
          45,
          46,
          47,
          48,
          49,
          50
         ],
         "y": [
          152459,
          624346,
          311721,
          586139,
          324557,
          128350,
          24776,
          165793,
          67500,
          135933,
          854802,
          147622,
          5400,
          24776,
          46000,
          0,
          79772,
          5485,
          163985,
          1800,
          0,
          173391,
          239356,
          676674,
          559188,
          199926,
          785795,
          48300,
          104904,
          81087,
          319530,
          123680,
          102237,
          22500,
          428083,
          38281,
          215552,
          24776,
          210738,
          241789,
          87534,
          1530828,
          421188,
          163316,
          169377,
          319435,
          27011,
          497221,
          57820,
          0
         ]
        },
        {
         "hoverinfo": "y+name",
         "hovertemplate": "%{y}<extra></extra>",
         "marker": {
          "color": "#7f7f7f"
         },
         "name": "Streets & Transportation",
         "type": "bar",
         "width": 0.5,
         "x": [
          1,
          2,
          3,
          4,
          5,
          6,
          7,
          8,
          9,
          10,
          11,
          12,
          13,
          14,
          15,
          16,
          17,
          18,
          19,
          20,
          21,
          22,
          23,
          24,
          25,
          26,
          27,
          28,
          29,
          30,
          31,
          32,
          33,
          34,
          35,
          36,
          37,
          38,
          39,
          40,
          41,
          42,
          43,
          44,
          45,
          46,
          47,
          48,
          49,
          50
         ],
         "y": [
          11170222,
          12915192,
          13728358,
          14022278,
          8926842,
          13001008,
          13768943,
          10159947,
          16200339,
          15282626,
          12070273,
          10549029,
          9433038,
          16340650,
          10966875,
          13957405,
          14206772,
          15050023,
          15562419,
          13568077,
          15872045,
          13707243,
          14256318,
          13277046,
          12453773,
          13958724,
          11166723,
          8900142,
          13839997,
          14654250,
          12601556,
          14900411,
          10812084,
          12340913,
          10077379,
          14828855,
          11008218,
          15200024,
          13538235,
          14053471,
          15646368,
          10125979,
          12188711,
          12384443,
          14408966,
          11255106,
          12224804,
          10871670,
          11095586,
          13010019
         ]
        }
       ],
       "layout": {
        "barmode": "stack",
        "hovermode": "x unified",
        "legend": {
         "bgcolor": "rgba(255,255,255,0.5)",
         "title": {
          "text": "Categories"
         },
         "x": 1,
         "y": 1
        },
        "template": {
         "data": {
          "bar": [
           {
            "error_x": {
             "color": "#2a3f5f"
            },
            "error_y": {
             "color": "#2a3f5f"
            },
            "marker": {
             "line": {
              "color": "white",
              "width": 0.5
             },
             "pattern": {
              "fillmode": "overlay",
              "size": 10,
              "solidity": 0.2
             }
            },
            "type": "bar"
           }
          ],
          "barpolar": [
           {
            "marker": {
             "line": {
              "color": "white",
              "width": 0.5
             },
             "pattern": {
              "fillmode": "overlay",
              "size": 10,
              "solidity": 0.2
             }
            },
            "type": "barpolar"
           }
          ],
          "carpet": [
           {
            "aaxis": {
             "endlinecolor": "#2a3f5f",
             "gridcolor": "#C8D4E3",
             "linecolor": "#C8D4E3",
             "minorgridcolor": "#C8D4E3",
             "startlinecolor": "#2a3f5f"
            },
            "baxis": {
             "endlinecolor": "#2a3f5f",
             "gridcolor": "#C8D4E3",
             "linecolor": "#C8D4E3",
             "minorgridcolor": "#C8D4E3",
             "startlinecolor": "#2a3f5f"
            },
            "type": "carpet"
           }
          ],
          "choropleth": [
           {
            "colorbar": {
             "outlinewidth": 0,
             "ticks": ""
            },
            "type": "choropleth"
           }
          ],
          "contour": [
           {
            "colorbar": {
             "outlinewidth": 0,
             "ticks": ""
            },
            "colorscale": [
             [
              0,
              "#0d0887"
             ],
             [
              0.1111111111111111,
              "#46039f"
             ],
             [
              0.2222222222222222,
              "#7201a8"
             ],
             [
              0.3333333333333333,
              "#9c179e"
             ],
             [
              0.4444444444444444,
              "#bd3786"
             ],
             [
              0.5555555555555556,
              "#d8576b"
             ],
             [
              0.6666666666666666,
              "#ed7953"
             ],
             [
              0.7777777777777778,
              "#fb9f3a"
             ],
             [
              0.8888888888888888,
              "#fdca26"
             ],
             [
              1,
              "#f0f921"
             ]
            ],
            "type": "contour"
           }
          ],
          "contourcarpet": [
           {
            "colorbar": {
             "outlinewidth": 0,
             "ticks": ""
            },
            "type": "contourcarpet"
           }
          ],
          "heatmap": [
           {
            "colorbar": {
             "outlinewidth": 0,
             "ticks": ""
            },
            "colorscale": [
             [
              0,
              "#0d0887"
             ],
             [
              0.1111111111111111,
              "#46039f"
             ],
             [
              0.2222222222222222,
              "#7201a8"
             ],
             [
              0.3333333333333333,
              "#9c179e"
             ],
             [
              0.4444444444444444,
              "#bd3786"
             ],
             [
              0.5555555555555556,
              "#d8576b"
             ],
             [
              0.6666666666666666,
              "#ed7953"
             ],
             [
              0.7777777777777778,
              "#fb9f3a"
             ],
             [
              0.8888888888888888,
              "#fdca26"
             ],
             [
              1,
              "#f0f921"
             ]
            ],
            "type": "heatmap"
           }
          ],
          "histogram": [
           {
            "marker": {
             "pattern": {
              "fillmode": "overlay",
              "size": 10,
              "solidity": 0.2
             }
            },
            "type": "histogram"
           }
          ],
          "histogram2d": [
           {
            "colorbar": {
             "outlinewidth": 0,
             "ticks": ""
            },
            "colorscale": [
             [
              0,
              "#0d0887"
             ],
             [
              0.1111111111111111,
              "#46039f"
             ],
             [
              0.2222222222222222,
              "#7201a8"
             ],
             [
              0.3333333333333333,
              "#9c179e"
             ],
             [
              0.4444444444444444,
              "#bd3786"
             ],
             [
              0.5555555555555556,
              "#d8576b"
             ],
             [
              0.6666666666666666,
              "#ed7953"
             ],
             [
              0.7777777777777778,
              "#fb9f3a"
             ],
             [
              0.8888888888888888,
              "#fdca26"
             ],
             [
              1,
              "#f0f921"
             ]
            ],
            "type": "histogram2d"
           }
          ],
          "histogram2dcontour": [
           {
            "colorbar": {
             "outlinewidth": 0,
             "ticks": ""
            },
            "colorscale": [
             [
              0,
              "#0d0887"
             ],
             [
              0.1111111111111111,
              "#46039f"
             ],
             [
              0.2222222222222222,
              "#7201a8"
             ],
             [
              0.3333333333333333,
              "#9c179e"
             ],
             [
              0.4444444444444444,
              "#bd3786"
             ],
             [
              0.5555555555555556,
              "#d8576b"
             ],
             [
              0.6666666666666666,
              "#ed7953"
             ],
             [
              0.7777777777777778,
              "#fb9f3a"
             ],
             [
              0.8888888888888888,
              "#fdca26"
             ],
             [
              1,
              "#f0f921"
             ]
            ],
            "type": "histogram2dcontour"
           }
          ],
          "mesh3d": [
           {
            "colorbar": {
             "outlinewidth": 0,
             "ticks": ""
            },
            "type": "mesh3d"
           }
          ],
          "parcoords": [
           {
            "line": {
             "colorbar": {
              "outlinewidth": 0,
              "ticks": ""
             }
            },
            "type": "parcoords"
           }
          ],
          "pie": [
           {
            "automargin": true,
            "type": "pie"
           }
          ],
          "scatter": [
           {
            "fillpattern": {
             "fillmode": "overlay",
             "size": 10,
             "solidity": 0.2
            },
            "type": "scatter"
           }
          ],
          "scatter3d": [
           {
            "line": {
             "colorbar": {
              "outlinewidth": 0,
              "ticks": ""
             }
            },
            "marker": {
             "colorbar": {
              "outlinewidth": 0,
              "ticks": ""
             }
            },
            "type": "scatter3d"
           }
          ],
          "scattercarpet": [
           {
            "marker": {
             "colorbar": {
              "outlinewidth": 0,
              "ticks": ""
             }
            },
            "type": "scattercarpet"
           }
          ],
          "scattergeo": [
           {
            "marker": {
             "colorbar": {
              "outlinewidth": 0,
              "ticks": ""
             }
            },
            "type": "scattergeo"
           }
          ],
          "scattergl": [
           {
            "marker": {
             "colorbar": {
              "outlinewidth": 0,
              "ticks": ""
             }
            },
            "type": "scattergl"
           }
          ],
          "scattermap": [
           {
            "marker": {
             "colorbar": {
              "outlinewidth": 0,
              "ticks": ""
             }
            },
            "type": "scattermap"
           }
          ],
          "scattermapbox": [
           {
            "marker": {
             "colorbar": {
              "outlinewidth": 0,
              "ticks": ""
             }
            },
            "type": "scattermapbox"
           }
          ],
          "scatterpolar": [
           {
            "marker": {
             "colorbar": {
              "outlinewidth": 0,
              "ticks": ""
             }
            },
            "type": "scatterpolar"
           }
          ],
          "scatterpolargl": [
           {
            "marker": {
             "colorbar": {
              "outlinewidth": 0,
              "ticks": ""
             }
            },
            "type": "scatterpolargl"
           }
          ],
          "scatterternary": [
           {
            "marker": {
             "colorbar": {
              "outlinewidth": 0,
              "ticks": ""
             }
            },
            "type": "scatterternary"
           }
          ],
          "surface": [
           {
            "colorbar": {
             "outlinewidth": 0,
             "ticks": ""
            },
            "colorscale": [
             [
              0,
              "#0d0887"
             ],
             [
              0.1111111111111111,
              "#46039f"
             ],
             [
              0.2222222222222222,
              "#7201a8"
             ],
             [
              0.3333333333333333,
              "#9c179e"
             ],
             [
              0.4444444444444444,
              "#bd3786"
             ],
             [
              0.5555555555555556,
              "#d8576b"
             ],
             [
              0.6666666666666666,
              "#ed7953"
             ],
             [
              0.7777777777777778,
              "#fb9f3a"
             ],
             [
              0.8888888888888888,
              "#fdca26"
             ],
             [
              1,
              "#f0f921"
             ]
            ],
            "type": "surface"
           }
          ],
          "table": [
           {
            "cells": {
             "fill": {
              "color": "#EBF0F8"
             },
             "line": {
              "color": "white"
             }
            },
            "header": {
             "fill": {
              "color": "#C8D4E3"
             },
             "line": {
              "color": "white"
             }
            },
            "type": "table"
           }
          ]
         },
         "layout": {
          "annotationdefaults": {
           "arrowcolor": "#2a3f5f",
           "arrowhead": 0,
           "arrowwidth": 1
          },
          "autotypenumbers": "strict",
          "coloraxis": {
           "colorbar": {
            "outlinewidth": 0,
            "ticks": ""
           }
          },
          "colorscale": {
           "diverging": [
            [
             0,
             "#8e0152"
            ],
            [
             0.1,
             "#c51b7d"
            ],
            [
             0.2,
             "#de77ae"
            ],
            [
             0.3,
             "#f1b6da"
            ],
            [
             0.4,
             "#fde0ef"
            ],
            [
             0.5,
             "#f7f7f7"
            ],
            [
             0.6,
             "#e6f5d0"
            ],
            [
             0.7,
             "#b8e186"
            ],
            [
             0.8,
             "#7fbc41"
            ],
            [
             0.9,
             "#4d9221"
            ],
            [
             1,
             "#276419"
            ]
           ],
           "sequential": [
            [
             0,
             "#0d0887"
            ],
            [
             0.1111111111111111,
             "#46039f"
            ],
            [
             0.2222222222222222,
             "#7201a8"
            ],
            [
             0.3333333333333333,
             "#9c179e"
            ],
            [
             0.4444444444444444,
             "#bd3786"
            ],
            [
             0.5555555555555556,
             "#d8576b"
            ],
            [
             0.6666666666666666,
             "#ed7953"
            ],
            [
             0.7777777777777778,
             "#fb9f3a"
            ],
            [
             0.8888888888888888,
             "#fdca26"
            ],
            [
             1,
             "#f0f921"
            ]
           ],
           "sequentialminus": [
            [
             0,
             "#0d0887"
            ],
            [
             0.1111111111111111,
             "#46039f"
            ],
            [
             0.2222222222222222,
             "#7201a8"
            ],
            [
             0.3333333333333333,
             "#9c179e"
            ],
            [
             0.4444444444444444,
             "#bd3786"
            ],
            [
             0.5555555555555556,
             "#d8576b"
            ],
            [
             0.6666666666666666,
             "#ed7953"
            ],
            [
             0.7777777777777778,
             "#fb9f3a"
            ],
            [
             0.8888888888888888,
             "#fdca26"
            ],
            [
             1,
             "#f0f921"
            ]
           ]
          },
          "colorway": [
           "#636efa",
           "#EF553B",
           "#00cc96",
           "#ab63fa",
           "#FFA15A",
           "#19d3f3",
           "#FF6692",
           "#B6E880",
           "#FF97FF",
           "#FECB52"
          ],
          "font": {
           "color": "#2a3f5f"
          },
          "geo": {
           "bgcolor": "white",
           "lakecolor": "white",
           "landcolor": "white",
           "showlakes": true,
           "showland": true,
           "subunitcolor": "#C8D4E3"
          },
          "hoverlabel": {
           "align": "left"
          },
          "hovermode": "closest",
          "mapbox": {
           "style": "light"
          },
          "paper_bgcolor": "white",
          "plot_bgcolor": "white",
          "polar": {
           "angularaxis": {
            "gridcolor": "#EBF0F8",
            "linecolor": "#EBF0F8",
            "ticks": ""
           },
           "bgcolor": "white",
           "radialaxis": {
            "gridcolor": "#EBF0F8",
            "linecolor": "#EBF0F8",
            "ticks": ""
           }
          },
          "scene": {
           "xaxis": {
            "backgroundcolor": "white",
            "gridcolor": "#DFE8F3",
            "gridwidth": 2,
            "linecolor": "#EBF0F8",
            "showbackground": true,
            "ticks": "",
            "zerolinecolor": "#EBF0F8"
           },
           "yaxis": {
            "backgroundcolor": "white",
            "gridcolor": "#DFE8F3",
            "gridwidth": 2,
            "linecolor": "#EBF0F8",
            "showbackground": true,
            "ticks": "",
            "zerolinecolor": "#EBF0F8"
           },
           "zaxis": {
            "backgroundcolor": "white",
            "gridcolor": "#DFE8F3",
            "gridwidth": 2,
            "linecolor": "#EBF0F8",
            "showbackground": true,
            "ticks": "",
            "zerolinecolor": "#EBF0F8"
           }
          },
          "shapedefaults": {
           "line": {
            "color": "#2a3f5f"
           }
          },
          "ternary": {
           "aaxis": {
            "gridcolor": "#DFE8F3",
            "linecolor": "#A2B1C6",
            "ticks": ""
           },
           "baxis": {
            "gridcolor": "#DFE8F3",
            "linecolor": "#A2B1C6",
            "ticks": ""
           },
           "bgcolor": "white",
           "caxis": {
            "gridcolor": "#DFE8F3",
            "linecolor": "#A2B1C6",
            "ticks": ""
           }
          },
          "title": {
           "x": 0.05
          },
          "xaxis": {
           "automargin": true,
           "gridcolor": "#EBF0F8",
           "linecolor": "#EBF0F8",
           "ticks": "",
           "title": {
            "standoff": 15
           },
           "zerolinecolor": "#EBF0F8",
           "zerolinewidth": 2
          },
          "yaxis": {
           "automargin": true,
           "gridcolor": "#EBF0F8",
           "linecolor": "#EBF0F8",
           "ticks": "",
           "title": {
            "standoff": 15
           },
           "zerolinecolor": "#EBF0F8",
           "zerolinewidth": 2
          }
         }
        },
        "title": {
         "font": {
          "size": 16
         },
         "text": "Money Spent by Ward and Category"
        },
        "width": 1000,
        "xaxis": {
         "automargin": true,
         "tickangle": 45,
         "tickfont": {
          "size": 12
         },
         "ticklen": 8,
         "tickmode": "array",
         "ticktext": [
          "1",
          "2",
          "3",
          "4",
          "5",
          "6",
          "7",
          "8",
          "9",
          "10",
          "11",
          "12",
          "13",
          "14",
          "15",
          "16",
          "17",
          "18",
          "19",
          "20",
          "21",
          "22",
          "23",
          "24",
          "25",
          "26",
          "27",
          "28",
          "29",
          "30",
          "31",
          "32",
          "33",
          "34",
          "35",
          "36",
          "37",
          "38",
          "39",
          "40",
          "41",
          "42",
          "43",
          "44",
          "45",
          "46",
          "47",
          "48",
          "49",
          "50"
         ],
         "tickvals": [
          1,
          2,
          3,
          4,
          5,
          6,
          7,
          8,
          9,
          10,
          11,
          12,
          13,
          14,
          15,
          16,
          17,
          18,
          19,
          20,
          21,
          22,
          23,
          24,
          25,
          26,
          27,
          28,
          29,
          30,
          31,
          32,
          33,
          34,
          35,
          36,
          37,
          38,
          39,
          40,
          41,
          42,
          43,
          44,
          45,
          46,
          47,
          48,
          49,
          50
         ],
         "tickwidth": 1,
         "title": {
          "text": "Ward"
         }
        },
        "yaxis": {
         "title": {
          "text": "Total Money Spent ($)"
         }
        }
       }
      },
      "text/html": [
       "<div>            <script src=\"https://cdnjs.cloudflare.com/ajax/libs/mathjax/2.7.5/MathJax.js?config=TeX-AMS-MML_SVG\"></script><script type=\"text/javascript\">if (window.MathJax && window.MathJax.Hub && window.MathJax.Hub.Config) {window.MathJax.Hub.Config({SVG: {font: \"STIX-Web\"}});}</script>                <script type=\"text/javascript\">window.PlotlyConfig = {MathJaxConfig: 'local'};</script>\n",
       "        <script charset=\"utf-8\" src=\"https://cdn.plot.ly/plotly-3.0.0.min.js\"></script>                <div id=\"d9c40df6-db9c-4c1b-baee-51398785d54a\" class=\"plotly-graph-div\" style=\"height:525px; width:1000px;\"></div>            <script type=\"text/javascript\">                window.PLOTLYENV=window.PLOTLYENV || {};                                if (document.getElementById(\"d9c40df6-db9c-4c1b-baee-51398785d54a\")) {                    Plotly.newPlot(                        \"d9c40df6-db9c-4c1b-baee-51398785d54a\",                        [{\"hoverinfo\":\"y+name\",\"hovertemplate\":\"%{y}\\u003cextra\\u003e\\u003c\\u002fextra\\u003e\",\"marker\":{\"color\":\"#1f77b4\"},\"name\":\"Beautification\",\"width\":0.5,\"x\":[1,2,3,4,5,6,7,8,9,10,11,12,13,14,15,16,17,18,19,20,21,22,23,24,25,26,27,28,29,30,31,32,33,34,35,36,37,38,39,40,41,42,43,44,45,46,47,48,49,50],\"y\":[36000.0,465965.0,180150.0,88069.0,480679.0,20750.0,107703.0,16500.0,13600.0,236888.0,718426.0,203401.0,18345.0,0.0,7800.0,14400.0,130600.0,17595.0,51100.0,256148.0,23362.0,88700.0,369194.0,63443.0,458197.0,96011.0,374551.0,46850.0,313157.0,10000.0,188547.0,34100.0,32000.0,264300.0,453425.0,16700.0,41757.0,10300.0,325350.0,171961.0,68650.0,701714.0,143976.0,35850.0,60909.0,374864.0,70300.0,236850.0,337028.0,14000.0],\"type\":\"bar\"},{\"hoverinfo\":\"y+name\",\"hovertemplate\":\"%{y}\\u003cextra\\u003e\\u003c\\u002fextra\\u003e\",\"marker\":{\"color\":\"#ff7f0e\"},\"name\":\"Bike Infrastructure\",\"width\":0.5,\"x\":[1,2,3,4,5,6,7,8,9,10,11,12,13,14,15,16,17,18,19,20,21,22,23,24,25,26,27,28,29,30,31,32,33,34,35,36,37,38,39,40,41,42,43,44,45,46,47,48,49,50],\"y\":[900000.0,0.0,0.0,0.0,0.0,0.0,0.0,0.0,0.0,0.0,150000.0,30000.0,0.0,0.0,0.0,0.0,0.0,0.0,0.0,0.0,0.0,0.0,0.0,0.0,26500.0,0.0,0.0,0.0,0.0,0.0,0.0,5000.0,297763.0,0.0,315365.0,0.0,45000.0,0.0,150000.0,23000.0,0.0,18000.0,0.0,0.0,175716.0,565500.0,1034500.0,255500.0,247000.0,0.0],\"type\":\"bar\"},{\"hoverinfo\":\"y+name\",\"hovertemplate\":\"%{y}\\u003cextra\\u003e\\u003c\\u002fextra\\u003e\",\"marker\":{\"color\":\"#2ca02c\"},\"name\":\"Lighting\",\"width\":0.5,\"x\":[1,2,3,4,5,6,7,8,9,10,11,12,13,14,15,16,17,18,19,20,21,22,23,24,25,26,27,28,29,30,31,32,33,34,35,36,37,38,39,40,41,42,43,44,45,46,47,48,49,50],\"y\":[308844.0,1294152.0,1968675.0,599679.0,5151668.0,2822448.0,1866200.0,5601809.0,26512.0,243950.0,1880866.0,4980847.0,4498570.0,2349.0,4341187.0,1907642.0,1552550.0,1091690.0,1600.0,2239974.0,267450.0,481728.0,96000.0,1397683.0,1860600.0,1473050.0,2936912.0,5963549.0,1253849.0,1498260.0,2757781.0,141500.0,3698950.0,2166305.0,3745950.0,44363.0,4596450.0,16750.0,452721.0,827499.0,3550.0,3112864.0,1777850.0,2720843.0,482250.0,3217700.0,1163149.0,1696750.0,1490726.0,2966032.0],\"type\":\"bar\"},{\"hoverinfo\":\"y+name\",\"hovertemplate\":\"%{y}\\u003cextra\\u003e\\u003c\\u002fextra\\u003e\",\"marker\":{\"color\":\"#d62728\"},\"name\":\"Parks & Recreation\",\"width\":0.5,\"x\":[1,2,3,4,5,6,7,8,9,10,11,12,13,14,15,16,17,18,19,20,21,22,23,24,25,26,27,28,29,30,31,32,33,34,35,36,37,38,39,40,41,42,43,44,45,46,47,48,49,50],\"y\":[2839999.0,622305.0,34000.0,577340.0,70580.0,325000.0,0.0,0.0,0.0,335000.0,172829.0,284850.0,2015000.0,0.0,0.0,150000.0,50000.0,50000.0,395118.0,0.0,0.0,674000.0,930829.0,500000.0,951276.0,150000.0,0.0,1025000.0,209500.0,45000.0,100000.0,500000.0,576904.0,0.0,468000.0,690578.0,0.0,470000.0,490616.0,390000.0,402000.0,189319.0,575201.0,104988.0,132500.0,167735.0,350100.0,914900.0,1728925.0,0.0],\"type\":\"bar\"},{\"hoverinfo\":\"y+name\",\"hovertemplate\":\"%{y}\\u003cextra\\u003e\\u003c\\u002fextra\\u003e\",\"marker\":{\"color\":\"#9467bd\"},\"name\":\"Plants, Gardens, & Sustainability\",\"width\":0.5,\"x\":[1,2,3,4,5,6,7,8,9,10,11,12,13,14,15,16,17,18,19,20,21,22,23,24,25,26,27,28,29,30,31,32,33,34,35,36,37,38,39,40,41,42,43,44,45,46,47,48,49,50],\"y\":[50000.0,18841.0,15129.0,150000.0,212595.0,0.0,0.0,0.0,0.0,30000.0,0.0,0.0,4438.0,0.0,0.0,47200.0,0.0,0.0,20515.0,4289.0,0.0,415000.0,0.0,539.0,2576.0,0.0,0.0,0.0,151788.0,0.0,0.0,0.0,134241.0,0.0,21275.0,0.0,0.0,0.0,25000.0,262535.0,17100.0,1050.0,114180.0,14532.0,249000.0,22972.0,74385.0,334498.0,377000.0,0.0],\"type\":\"bar\"},{\"hoverinfo\":\"y+name\",\"hovertemplate\":\"%{y}\\u003cextra\\u003e\\u003c\\u002fextra\\u003e\",\"marker\":{\"color\":\"#ffcc00\"},\"name\":\"Schools & Libraries\",\"width\":0.5,\"x\":[1,2,3,4,5,6,7,8,9,10,11,12,13,14,15,16,17,18,19,20,21,22,23,24,25,26,27,28,29,30,31,32,33,34,35,36,37,38,39,40,41,42,43,44,45,46,47,48,49,50],\"y\":[708363.0,0,0,0,0,0,0,0,49115.0,0,0,0,395000.0,0,0,0,0,0,0,0,0,140000.0,339352.0,0,50000.0,20000.0,0,9400.0,75000.0,0,0,500000.0,594542.0,0,339000.0,583900.0,0,80650.0,511233.0,0,0,0,53500.0,510200.0,383100.0,9057.0,956284.0,600899.0,232222.0,0],\"type\":\"bar\"},{\"hoverinfo\":\"y+name\",\"hovertemplate\":\"%{y}\\u003cextra\\u003e\\u003c\\u002fextra\\u003e\",\"marker\":{\"color\":\"#e377c2\"},\"name\":\"Security Cameras\",\"width\":0.5,\"x\":[1,2,3,4,5,6,7,8,9,10,11,12,13,14,15,16,17,18,19,20,21,22,23,24,25,26,27,28,29,30,31,32,33,34,35,36,37,38,39,40,41,42,43,44,45,46,47,48,49,50],\"y\":[152459.0,624346.0,311721.0,586139.0,324557.0,128350.0,24776.0,165793.0,67500.0,135933.0,854802.0,147622.0,5400.0,24776.0,46000.0,0.0,79772.0,5485.0,163985.0,1800.0,0.0,173391.0,239356.0,676674.0,559188.0,199926.0,785795.0,48300.0,104904.0,81087.0,319530.0,123680.0,102237.0,22500.0,428083.0,38281.0,215552.0,24776.0,210738.0,241789.0,87534.0,1530828.0,421188.0,163316.0,169377.0,319435.0,27011.0,497221.0,57820.0,0.0],\"type\":\"bar\"},{\"hoverinfo\":\"y+name\",\"hovertemplate\":\"%{y}\\u003cextra\\u003e\\u003c\\u002fextra\\u003e\",\"marker\":{\"color\":\"#7f7f7f\"},\"name\":\"Streets & Transportation\",\"width\":0.5,\"x\":[1,2,3,4,5,6,7,8,9,10,11,12,13,14,15,16,17,18,19,20,21,22,23,24,25,26,27,28,29,30,31,32,33,34,35,36,37,38,39,40,41,42,43,44,45,46,47,48,49,50],\"y\":[11170222.0,12915192.0,13728358.0,14022278.0,8926842.0,13001008.0,13768943.0,10159947.0,16200339.0,15282626.0,12070273.0,10549029.0,9433038.0,16340650.0,10966875.0,13957405.0,14206772.0,15050023.0,15562419.0,13568077.0,15872045.0,13707243.0,14256318.0,13277046.0,12453773.0,13958724.0,11166723.0,8900142.0,13839997.0,14654250.0,12601556.0,14900411.0,10812084.0,12340913.0,10077379.0,14828855.0,11008218.0,15200024.0,13538235.0,14053471.0,15646368.0,10125979.0,12188711.0,12384443.0,14408966.0,11255106.0,12224804.0,10871670.0,11095586.0,13010019.0],\"type\":\"bar\"}],                        {\"barmode\":\"stack\",\"hovermode\":\"x unified\",\"legend\":{\"bgcolor\":\"rgba(255,255,255,0.5)\",\"title\":{\"text\":\"Categories\"},\"x\":1,\"y\":1},\"template\":{\"data\":{\"barpolar\":[{\"marker\":{\"line\":{\"color\":\"white\",\"width\":0.5},\"pattern\":{\"fillmode\":\"overlay\",\"size\":10,\"solidity\":0.2}},\"type\":\"barpolar\"}],\"bar\":[{\"error_x\":{\"color\":\"#2a3f5f\"},\"error_y\":{\"color\":\"#2a3f5f\"},\"marker\":{\"line\":{\"color\":\"white\",\"width\":0.5},\"pattern\":{\"fillmode\":\"overlay\",\"size\":10,\"solidity\":0.2}},\"type\":\"bar\"}],\"carpet\":[{\"aaxis\":{\"endlinecolor\":\"#2a3f5f\",\"gridcolor\":\"#C8D4E3\",\"linecolor\":\"#C8D4E3\",\"minorgridcolor\":\"#C8D4E3\",\"startlinecolor\":\"#2a3f5f\"},\"baxis\":{\"endlinecolor\":\"#2a3f5f\",\"gridcolor\":\"#C8D4E3\",\"linecolor\":\"#C8D4E3\",\"minorgridcolor\":\"#C8D4E3\",\"startlinecolor\":\"#2a3f5f\"},\"type\":\"carpet\"}],\"choropleth\":[{\"colorbar\":{\"outlinewidth\":0,\"ticks\":\"\"},\"type\":\"choropleth\"}],\"contourcarpet\":[{\"colorbar\":{\"outlinewidth\":0,\"ticks\":\"\"},\"type\":\"contourcarpet\"}],\"contour\":[{\"colorbar\":{\"outlinewidth\":0,\"ticks\":\"\"},\"colorscale\":[[0.0,\"#0d0887\"],[0.1111111111111111,\"#46039f\"],[0.2222222222222222,\"#7201a8\"],[0.3333333333333333,\"#9c179e\"],[0.4444444444444444,\"#bd3786\"],[0.5555555555555556,\"#d8576b\"],[0.6666666666666666,\"#ed7953\"],[0.7777777777777778,\"#fb9f3a\"],[0.8888888888888888,\"#fdca26\"],[1.0,\"#f0f921\"]],\"type\":\"contour\"}],\"heatmap\":[{\"colorbar\":{\"outlinewidth\":0,\"ticks\":\"\"},\"colorscale\":[[0.0,\"#0d0887\"],[0.1111111111111111,\"#46039f\"],[0.2222222222222222,\"#7201a8\"],[0.3333333333333333,\"#9c179e\"],[0.4444444444444444,\"#bd3786\"],[0.5555555555555556,\"#d8576b\"],[0.6666666666666666,\"#ed7953\"],[0.7777777777777778,\"#fb9f3a\"],[0.8888888888888888,\"#fdca26\"],[1.0,\"#f0f921\"]],\"type\":\"heatmap\"}],\"histogram2dcontour\":[{\"colorbar\":{\"outlinewidth\":0,\"ticks\":\"\"},\"colorscale\":[[0.0,\"#0d0887\"],[0.1111111111111111,\"#46039f\"],[0.2222222222222222,\"#7201a8\"],[0.3333333333333333,\"#9c179e\"],[0.4444444444444444,\"#bd3786\"],[0.5555555555555556,\"#d8576b\"],[0.6666666666666666,\"#ed7953\"],[0.7777777777777778,\"#fb9f3a\"],[0.8888888888888888,\"#fdca26\"],[1.0,\"#f0f921\"]],\"type\":\"histogram2dcontour\"}],\"histogram2d\":[{\"colorbar\":{\"outlinewidth\":0,\"ticks\":\"\"},\"colorscale\":[[0.0,\"#0d0887\"],[0.1111111111111111,\"#46039f\"],[0.2222222222222222,\"#7201a8\"],[0.3333333333333333,\"#9c179e\"],[0.4444444444444444,\"#bd3786\"],[0.5555555555555556,\"#d8576b\"],[0.6666666666666666,\"#ed7953\"],[0.7777777777777778,\"#fb9f3a\"],[0.8888888888888888,\"#fdca26\"],[1.0,\"#f0f921\"]],\"type\":\"histogram2d\"}],\"histogram\":[{\"marker\":{\"pattern\":{\"fillmode\":\"overlay\",\"size\":10,\"solidity\":0.2}},\"type\":\"histogram\"}],\"mesh3d\":[{\"colorbar\":{\"outlinewidth\":0,\"ticks\":\"\"},\"type\":\"mesh3d\"}],\"parcoords\":[{\"line\":{\"colorbar\":{\"outlinewidth\":0,\"ticks\":\"\"}},\"type\":\"parcoords\"}],\"pie\":[{\"automargin\":true,\"type\":\"pie\"}],\"scatter3d\":[{\"line\":{\"colorbar\":{\"outlinewidth\":0,\"ticks\":\"\"}},\"marker\":{\"colorbar\":{\"outlinewidth\":0,\"ticks\":\"\"}},\"type\":\"scatter3d\"}],\"scattercarpet\":[{\"marker\":{\"colorbar\":{\"outlinewidth\":0,\"ticks\":\"\"}},\"type\":\"scattercarpet\"}],\"scattergeo\":[{\"marker\":{\"colorbar\":{\"outlinewidth\":0,\"ticks\":\"\"}},\"type\":\"scattergeo\"}],\"scattergl\":[{\"marker\":{\"colorbar\":{\"outlinewidth\":0,\"ticks\":\"\"}},\"type\":\"scattergl\"}],\"scattermapbox\":[{\"marker\":{\"colorbar\":{\"outlinewidth\":0,\"ticks\":\"\"}},\"type\":\"scattermapbox\"}],\"scattermap\":[{\"marker\":{\"colorbar\":{\"outlinewidth\":0,\"ticks\":\"\"}},\"type\":\"scattermap\"}],\"scatterpolargl\":[{\"marker\":{\"colorbar\":{\"outlinewidth\":0,\"ticks\":\"\"}},\"type\":\"scatterpolargl\"}],\"scatterpolar\":[{\"marker\":{\"colorbar\":{\"outlinewidth\":0,\"ticks\":\"\"}},\"type\":\"scatterpolar\"}],\"scatter\":[{\"fillpattern\":{\"fillmode\":\"overlay\",\"size\":10,\"solidity\":0.2},\"type\":\"scatter\"}],\"scatterternary\":[{\"marker\":{\"colorbar\":{\"outlinewidth\":0,\"ticks\":\"\"}},\"type\":\"scatterternary\"}],\"surface\":[{\"colorbar\":{\"outlinewidth\":0,\"ticks\":\"\"},\"colorscale\":[[0.0,\"#0d0887\"],[0.1111111111111111,\"#46039f\"],[0.2222222222222222,\"#7201a8\"],[0.3333333333333333,\"#9c179e\"],[0.4444444444444444,\"#bd3786\"],[0.5555555555555556,\"#d8576b\"],[0.6666666666666666,\"#ed7953\"],[0.7777777777777778,\"#fb9f3a\"],[0.8888888888888888,\"#fdca26\"],[1.0,\"#f0f921\"]],\"type\":\"surface\"}],\"table\":[{\"cells\":{\"fill\":{\"color\":\"#EBF0F8\"},\"line\":{\"color\":\"white\"}},\"header\":{\"fill\":{\"color\":\"#C8D4E3\"},\"line\":{\"color\":\"white\"}},\"type\":\"table\"}]},\"layout\":{\"annotationdefaults\":{\"arrowcolor\":\"#2a3f5f\",\"arrowhead\":0,\"arrowwidth\":1},\"autotypenumbers\":\"strict\",\"coloraxis\":{\"colorbar\":{\"outlinewidth\":0,\"ticks\":\"\"}},\"colorscale\":{\"diverging\":[[0,\"#8e0152\"],[0.1,\"#c51b7d\"],[0.2,\"#de77ae\"],[0.3,\"#f1b6da\"],[0.4,\"#fde0ef\"],[0.5,\"#f7f7f7\"],[0.6,\"#e6f5d0\"],[0.7,\"#b8e186\"],[0.8,\"#7fbc41\"],[0.9,\"#4d9221\"],[1,\"#276419\"]],\"sequential\":[[0.0,\"#0d0887\"],[0.1111111111111111,\"#46039f\"],[0.2222222222222222,\"#7201a8\"],[0.3333333333333333,\"#9c179e\"],[0.4444444444444444,\"#bd3786\"],[0.5555555555555556,\"#d8576b\"],[0.6666666666666666,\"#ed7953\"],[0.7777777777777778,\"#fb9f3a\"],[0.8888888888888888,\"#fdca26\"],[1.0,\"#f0f921\"]],\"sequentialminus\":[[0.0,\"#0d0887\"],[0.1111111111111111,\"#46039f\"],[0.2222222222222222,\"#7201a8\"],[0.3333333333333333,\"#9c179e\"],[0.4444444444444444,\"#bd3786\"],[0.5555555555555556,\"#d8576b\"],[0.6666666666666666,\"#ed7953\"],[0.7777777777777778,\"#fb9f3a\"],[0.8888888888888888,\"#fdca26\"],[1.0,\"#f0f921\"]]},\"colorway\":[\"#636efa\",\"#EF553B\",\"#00cc96\",\"#ab63fa\",\"#FFA15A\",\"#19d3f3\",\"#FF6692\",\"#B6E880\",\"#FF97FF\",\"#FECB52\"],\"font\":{\"color\":\"#2a3f5f\"},\"geo\":{\"bgcolor\":\"white\",\"lakecolor\":\"white\",\"landcolor\":\"white\",\"showlakes\":true,\"showland\":true,\"subunitcolor\":\"#C8D4E3\"},\"hoverlabel\":{\"align\":\"left\"},\"hovermode\":\"closest\",\"mapbox\":{\"style\":\"light\"},\"paper_bgcolor\":\"white\",\"plot_bgcolor\":\"white\",\"polar\":{\"angularaxis\":{\"gridcolor\":\"#EBF0F8\",\"linecolor\":\"#EBF0F8\",\"ticks\":\"\"},\"bgcolor\":\"white\",\"radialaxis\":{\"gridcolor\":\"#EBF0F8\",\"linecolor\":\"#EBF0F8\",\"ticks\":\"\"}},\"scene\":{\"xaxis\":{\"backgroundcolor\":\"white\",\"gridcolor\":\"#DFE8F3\",\"gridwidth\":2,\"linecolor\":\"#EBF0F8\",\"showbackground\":true,\"ticks\":\"\",\"zerolinecolor\":\"#EBF0F8\"},\"yaxis\":{\"backgroundcolor\":\"white\",\"gridcolor\":\"#DFE8F3\",\"gridwidth\":2,\"linecolor\":\"#EBF0F8\",\"showbackground\":true,\"ticks\":\"\",\"zerolinecolor\":\"#EBF0F8\"},\"zaxis\":{\"backgroundcolor\":\"white\",\"gridcolor\":\"#DFE8F3\",\"gridwidth\":2,\"linecolor\":\"#EBF0F8\",\"showbackground\":true,\"ticks\":\"\",\"zerolinecolor\":\"#EBF0F8\"}},\"shapedefaults\":{\"line\":{\"color\":\"#2a3f5f\"}},\"ternary\":{\"aaxis\":{\"gridcolor\":\"#DFE8F3\",\"linecolor\":\"#A2B1C6\",\"ticks\":\"\"},\"baxis\":{\"gridcolor\":\"#DFE8F3\",\"linecolor\":\"#A2B1C6\",\"ticks\":\"\"},\"bgcolor\":\"white\",\"caxis\":{\"gridcolor\":\"#DFE8F3\",\"linecolor\":\"#A2B1C6\",\"ticks\":\"\"}},\"title\":{\"x\":0.05},\"xaxis\":{\"automargin\":true,\"gridcolor\":\"#EBF0F8\",\"linecolor\":\"#EBF0F8\",\"ticks\":\"\",\"title\":{\"standoff\":15},\"zerolinecolor\":\"#EBF0F8\",\"zerolinewidth\":2},\"yaxis\":{\"automargin\":true,\"gridcolor\":\"#EBF0F8\",\"linecolor\":\"#EBF0F8\",\"ticks\":\"\",\"title\":{\"standoff\":15},\"zerolinecolor\":\"#EBF0F8\",\"zerolinewidth\":2}}},\"title\":{\"font\":{\"size\":16},\"text\":\"Money Spent by Ward and Category\"},\"width\":1000,\"xaxis\":{\"automargin\":true,\"tickangle\":45,\"tickfont\":{\"size\":12},\"ticklen\":8,\"tickmode\":\"array\",\"ticktext\":[\"1\",\"2\",\"3\",\"4\",\"5\",\"6\",\"7\",\"8\",\"9\",\"10\",\"11\",\"12\",\"13\",\"14\",\"15\",\"16\",\"17\",\"18\",\"19\",\"20\",\"21\",\"22\",\"23\",\"24\",\"25\",\"26\",\"27\",\"28\",\"29\",\"30\",\"31\",\"32\",\"33\",\"34\",\"35\",\"36\",\"37\",\"38\",\"39\",\"40\",\"41\",\"42\",\"43\",\"44\",\"45\",\"46\",\"47\",\"48\",\"49\",\"50\"],\"tickvals\":[1,2,3,4,5,6,7,8,9,10,11,12,13,14,15,16,17,18,19,20,21,22,23,24,25,26,27,28,29,30,31,32,33,34,35,36,37,38,39,40,41,42,43,44,45,46,47,48,49,50],\"tickwidth\":1,\"title\":{\"text\":\"Ward\"}},\"yaxis\":{\"title\":{\"text\":\"Total Money Spent ($)\"}}},                        {\"responsive\": true}                    ).then(function(){\n",
       "                            \n",
       "var gd = document.getElementById('d9c40df6-db9c-4c1b-baee-51398785d54a');\n",
       "var x = new MutationObserver(function (mutations, observer) {{\n",
       "        var display = window.getComputedStyle(gd).display;\n",
       "        if (!display || display === 'none') {{\n",
       "            console.log([gd, 'removed!']);\n",
       "            Plotly.purge(gd);\n",
       "            observer.disconnect();\n",
       "        }}\n",
       "}});\n",
       "\n",
       "// Listen for the removal of the full notebook cells\n",
       "var notebookContainer = gd.closest('#notebook-container');\n",
       "if (notebookContainer) {{\n",
       "    x.observe(notebookContainer, {childList: true});\n",
       "}}\n",
       "\n",
       "// Listen for the clearing of the current output cell\n",
       "var outputEl = gd.closest('.output');\n",
       "if (outputEl) {{\n",
       "    x.observe(outputEl, {childList: true});\n",
       "}}\n",
       "\n",
       "                        })                };            </script>        </div>"
      ]
     },
     "metadata": {},
     "output_type": "display_data"
    }
   ],
   "source": [
    "# plotly\n",
    "import csv\n",
    "import pathlib\n",
    "from collections import defaultdict\n",
    "import plotly.graph_objects as go\n",
    "from plotly.offline import init_notebook_mode\n",
    "init_notebook_mode(connected=True)\n",
    "\n",
    "# CSV file path\n",
    "csv_file = pathlib.Path.cwd().parent.parent / \"30122-project-gitmoney\" / \"data\" / \"calls_money.csv\"\n",
    "\n",
    "\n",
    "# Use relative path from current directory to data directory\n",
    "#csv_file = pathlib.Path(__file__).parent.parent / \"data\" / \"calls_money.csv\"\n",
    "print(f\"File path: {csv_file}\")\n",
    "\n",
    "\n",
    "def plot_calls_by_year_and_ward(csv_file: pathlib.Path):\n",
    "    \"\"\"\n",
    "    Plot four interactive stacked bar charts: calls and money spent by year and ward, categorized.\n",
    "\n",
    "    Parameters:\n",
    "        csv_file (Path): Path to CSV file with year, ward, category, calls, and total_cost\n",
    "\n",
    "    Returns:\n",
    "        None (displays four plots)\n",
    "    \"\"\"\n",
    "    # Load CSV data \n",
    "  \n",
    "    with open(csv_file, 'r', encoding='utf-8') as f:\n",
    "        reader = csv.DictReader(f)\n",
    "        data = [{k.strip(): float(v) if k in ('calls', 'total_cost') else int(v) if k in ('year', 'ward') else v \n",
    "                    for k, v in row.items()} for row in reader]\n",
    " \n",
    "    # Single-pass aggregation\n",
    "    calls_by_year = defaultdict(lambda: defaultdict(int))\n",
    "    calls_by_ward = defaultdict(lambda: defaultdict(int))\n",
    "    money_by_year = defaultdict(lambda: defaultdict(float))\n",
    "    money_by_ward = defaultdict(lambda: defaultdict(float))\n",
    "\n",
    "    for entry in data:\n",
    "        year = entry['year']\n",
    "        ward = entry['ward']\n",
    "        category = entry['category']\n",
    "        calls = entry['calls']\n",
    "        cost = entry['total_cost']\n",
    "\n",
    "        if 2019 <= year <= 2023:\n",
    "            calls_by_year[year][category] += calls\n",
    "            money_by_year[year][category] += cost\n",
    "        calls_by_ward[ward][category] += calls\n",
    "        money_by_ward[ward][category] += cost\n",
    "\n",
    "    # Extract sorted keys\n",
    "    years = sorted(calls_by_year.keys())\n",
    "    wards = sorted(calls_by_ward.keys())\n",
    "    categories = sorted(set().union(*[set(calls_by_year[y].keys()) for y in years]))\n",
    "\n",
    "    # Optimized 10-color palette\n",
    "    color_palette = [\n",
    "        '#1f77b4', '#ff7f0e', '#2ca02c', '#d62728', '#9467bd', \n",
    "        '#ffcc00', '#e377c2', '#7f7f7f', '#17becf', '#75701F'\n",
    "    ]\n",
    "    if len(categories) > len(color_palette):\n",
    "        print(f\"Warning: {len(categories)} categories exceed palette size ({len(color_palette)}).\")\n",
    "    category_colors = {cat: color_palette[i % len(color_palette)] for i, cat in enumerate(categories)}\n",
    "\n",
    "    # Interactive stacked bar chart function \n",
    "    def plot_stacked_bars(x_values, data_dict, title, x_label, y_label, rotate_x=False):\n",
    "        traces = []\n",
    "        for category in categories:\n",
    "            values = [data_dict[x].get(category, 0) for x in x_values]\n",
    "            traces.append(go.Bar(\n",
    "                x=x_values,\n",
    "                y=values,\n",
    "                name=category,\n",
    "                hovertemplate='%{y}<extra></extra>',\n",
    "                marker=dict(color=category_colors[category]),\n",
    "                hoverinfo='y+name',\n",
    "                width=0.5 if rotate_x else 0.8  \n",
    "            ))\n",
    "\n",
    "        # layout \n",
    "        layout = go.Layout(\n",
    "            title=dict(text=title, font_size=16),\n",
    "            barmode='stack',\n",
    "            xaxis=dict(\n",
    "                title=x_label,\n",
    "                tickangle=45 if rotate_x else 0, \n",
    "                tickfont=dict(size=12 if rotate_x else 14),  \n",
    "                tickmode='array',\n",
    "                tickvals=x_values, \n",
    "                ticktext=[str(int(x)) for x in x_values],  \n",
    "                automargin=True,  \n",
    "                ticklen=8,  \n",
    "                tickwidth=1\n",
    "            ),\n",
    "            yaxis=dict(title=y_label),\n",
    "            hovermode='x unified',\n",
    "            template=\"plotly_white\",\n",
    "            legend=dict(title=\"Categories\", x=1, y=1, bgcolor=\"rgba(255,255,255,0.5)\"),\n",
    "            width=1000 if rotate_x else 800  \n",
    "        )\n",
    "\n",
    "        fig = go.Figure(data=traces, layout=layout)\n",
    "        fig.show()\n",
    "\n",
    "    # Plot all four charts\n",
    "    plot_stacked_bars(years, calls_by_year, '311 Calls by Year and Category (2019-2023)', 'Year', 'Number of 311 Calls', rotate_x=False)\n",
    "    plot_stacked_bars(wards, calls_by_ward, '311 Calls by Ward and Category', 'Ward', 'Number of 311 Calls', rotate_x=True)\n",
    "    plot_stacked_bars(years, money_by_year, 'Money Spent by Year and Category (2019-2023)', 'Year', 'Total Money Spent ($)', rotate_x=False)\n",
    "    plot_stacked_bars(wards, money_by_ward, 'Money Spent by Ward and Category', 'Ward', 'Total Money Spent ($)', rotate_x=True)\n",
    "\n",
    "# Run the real data\n",
    "if __name__ == \"__main__\":\n",
    "    plot_calls_by_year_and_ward(csv_file)"
   ]
  },
  {
   "cell_type": "code",
   "execution_count": 10,
   "metadata": {},
   "outputs": [
    {
     "name": "stdout",
     "output_type": "stream",
     "text": [
      "File path: c:\\Users\\getne\\30122-project-gitmoney\\data\\calls_money.csv\n"
     ]
    },
    {
     "data": {
      "text/html": [
       "\n",
       "<style>\n",
       "  #altair-viz-bfab6987710342f789b9e574cf4d0e18.vega-embed {\n",
       "    width: 100%;\n",
       "    display: flex;\n",
       "  }\n",
       "\n",
       "  #altair-viz-bfab6987710342f789b9e574cf4d0e18.vega-embed details,\n",
       "  #altair-viz-bfab6987710342f789b9e574cf4d0e18.vega-embed details summary {\n",
       "    position: relative;\n",
       "  }\n",
       "</style>\n",
       "<div id=\"altair-viz-bfab6987710342f789b9e574cf4d0e18\"></div>\n",
       "<script type=\"text/javascript\">\n",
       "  var VEGA_DEBUG = (typeof VEGA_DEBUG == \"undefined\") ? {} : VEGA_DEBUG;\n",
       "  (function(spec, embedOpt){\n",
       "    let outputDiv = document.currentScript.previousElementSibling;\n",
       "    if (outputDiv.id !== \"altair-viz-bfab6987710342f789b9e574cf4d0e18\") {\n",
       "      outputDiv = document.getElementById(\"altair-viz-bfab6987710342f789b9e574cf4d0e18\");\n",
       "    }\n",
       "\n",
       "    const paths = {\n",
       "      \"vega\": \"https://cdn.jsdelivr.net/npm/vega@5?noext\",\n",
       "      \"vega-lib\": \"https://cdn.jsdelivr.net/npm/vega-lib?noext\",\n",
       "      \"vega-lite\": \"https://cdn.jsdelivr.net/npm/vega-lite@5.20.1?noext\",\n",
       "      \"vega-embed\": \"https://cdn.jsdelivr.net/npm/vega-embed@6?noext\",\n",
       "    };\n",
       "\n",
       "    function maybeLoadScript(lib, version) {\n",
       "      var key = `${lib.replace(\"-\", \"\")}_version`;\n",
       "      return (VEGA_DEBUG[key] == version) ?\n",
       "        Promise.resolve(paths[lib]) :\n",
       "        new Promise(function(resolve, reject) {\n",
       "          var s = document.createElement('script');\n",
       "          document.getElementsByTagName(\"head\")[0].appendChild(s);\n",
       "          s.async = true;\n",
       "          s.onload = () => {\n",
       "            VEGA_DEBUG[key] = version;\n",
       "            return resolve(paths[lib]);\n",
       "          };\n",
       "          s.onerror = () => reject(`Error loading script: ${paths[lib]}`);\n",
       "          s.src = paths[lib];\n",
       "        });\n",
       "    }\n",
       "\n",
       "    function showError(err) {\n",
       "      outputDiv.innerHTML = `<div class=\"error\" style=\"color:red;\">${err}</div>`;\n",
       "      throw err;\n",
       "    }\n",
       "\n",
       "    function displayChart(vegaEmbed) {\n",
       "      vegaEmbed(outputDiv, spec, embedOpt)\n",
       "        .catch(err => showError(`Javascript Error: ${err.message}<br>This usually means there's a typo in your chart specification. See the javascript console for the full traceback.`));\n",
       "    }\n",
       "\n",
       "    if(typeof define === \"function\" && define.amd) {\n",
       "      requirejs.config({paths});\n",
       "      let deps = [\"vega-embed\"];\n",
       "      require(deps, displayChart, err => showError(`Error loading script: ${err.message}`));\n",
       "    } else {\n",
       "      maybeLoadScript(\"vega\", \"5\")\n",
       "        .then(() => maybeLoadScript(\"vega-lite\", \"5.20.1\"))\n",
       "        .then(() => maybeLoadScript(\"vega-embed\", \"6\"))\n",
       "        .catch(showError)\n",
       "        .then(() => displayChart(vegaEmbed));\n",
       "    }\n",
       "  })({\"config\": {\"view\": {\"continuousWidth\": 300, \"continuousHeight\": 300}, \"axis\": {\"labelAngle\": 0}}, \"data\": {\"name\": \"data-f9511c900c77c1eeb05ff939dd055ba5\"}, \"mark\": {\"type\": \"bar\"}, \"encoding\": {\"color\": {\"field\": \"category\", \"scale\": {\"domain\": [\"Beautification\", \"Bike Infrastructure\", \"Lighting\", \"Parks & Recreation\", \"Plants, Gardens, & Sustainability\", \"Schools & Libraries\", \"Security Cameras\", \"Streets & Transportation\"], \"range\": [\"#1f77b4\", \"#ff7f0e\", \"#2ca02c\", \"#d62728\", \"#9467bd\", \"#ffcc00\", \"#e377c2\", \"#7f7f7f\"]}, \"type\": \"nominal\"}, \"tooltip\": [{\"field\": \"year\", \"type\": \"quantitative\"}, {\"aggregate\": \"sum\", \"field\": \"calls\", \"format\": \".2f\", \"type\": \"quantitative\"}, {\"field\": \"category\", \"type\": \"nominal\"}], \"x\": {\"field\": \"year\", \"title\": \"Year\", \"type\": \"ordinal\"}, \"y\": {\"aggregate\": \"sum\", \"field\": \"calls\", \"title\": \"Number of 311 Calls\", \"type\": \"quantitative\"}}, \"height\": 400, \"title\": \"311 Calls by Year and Category (2019-2023)\", \"width\": 600, \"$schema\": \"https://vega.github.io/schema/vega-lite/v5.20.1.json\", \"datasets\": {\"data-f9511c900c77c1eeb05ff939dd055ba5\": [{\"year\": 2019, \"category\": \"Beautification\", \"calls\": 192651.0}, {\"year\": 2019, \"category\": \"Bike Infrastructure\", \"calls\": 2119.0}, {\"year\": 2019, \"category\": \"Lighting\", \"calls\": 27863.0}, {\"year\": 2019, \"category\": \"Parks & Recreation\", \"calls\": 404.0}, {\"year\": 2019, \"category\": \"Plants, Gardens, & Sustainability\", \"calls\": 21484.0}, {\"year\": 2019, \"category\": \"Schools & Libraries\", \"calls\": 0.0}, {\"year\": 2019, \"category\": \"Security Cameras\", \"calls\": 8966.0}, {\"year\": 2019, \"category\": \"Streets & Transportation\", \"calls\": 264391.0}, {\"year\": 2020, \"category\": \"Beautification\", \"calls\": 226121.0}, {\"year\": 2020, \"category\": \"Bike Infrastructure\", \"calls\": 1118.0}, {\"year\": 2020, \"category\": \"Lighting\", \"calls\": 17720.0}, {\"year\": 2020, \"category\": \"Parks & Recreation\", \"calls\": 135.0}, {\"year\": 2020, \"category\": \"Plants, Gardens, & Sustainability\", \"calls\": 21141.0}, {\"year\": 2020, \"category\": \"Schools & Libraries\", \"calls\": 0.0}, {\"year\": 2020, \"category\": \"Security Cameras\", \"calls\": 10835.0}, {\"year\": 2020, \"category\": \"Streets & Transportation\", \"calls\": 199902.0}, {\"year\": 2021, \"category\": \"Beautification\", \"calls\": 183231.0}, {\"year\": 2021, \"category\": \"Bike Infrastructure\", \"calls\": 1986.0}, {\"year\": 2021, \"category\": \"Lighting\", \"calls\": 8870.0}, {\"year\": 2021, \"category\": \"Parks & Recreation\", \"calls\": 596.0}, {\"year\": 2021, \"category\": \"Plants, Gardens, & Sustainability\", \"calls\": 21727.0}, {\"year\": 2021, \"category\": \"Schools & Libraries\", \"calls\": 0.0}, {\"year\": 2021, \"category\": \"Security Cameras\", \"calls\": 11289.0}, {\"year\": 2021, \"category\": \"Streets & Transportation\", \"calls\": 167919.0}, {\"year\": 2022, \"category\": \"Beautification\", \"calls\": 151475.0}, {\"year\": 2022, \"category\": \"Bike Infrastructure\", \"calls\": 3446.0}, {\"year\": 2022, \"category\": \"Lighting\", \"calls\": 7559.0}, {\"year\": 2022, \"category\": \"Parks & Recreation\", \"calls\": 338.0}, {\"year\": 2022, \"category\": \"Plants, Gardens, & Sustainability\", \"calls\": 31647.0}, {\"year\": 2022, \"category\": \"Schools & Libraries\", \"calls\": 0.0}, {\"year\": 2022, \"category\": \"Security Cameras\", \"calls\": 11720.0}, {\"year\": 2022, \"category\": \"Streets & Transportation\", \"calls\": 187936.0}, {\"year\": 2023, \"category\": \"Beautification\", \"calls\": 145395.0}, {\"year\": 2023, \"category\": \"Bike Infrastructure\", \"calls\": 2734.0}, {\"year\": 2023, \"category\": \"Lighting\", \"calls\": 8501.0}, {\"year\": 2023, \"category\": \"Parks & Recreation\", \"calls\": 313.0}, {\"year\": 2023, \"category\": \"Plants, Gardens, & Sustainability\", \"calls\": 40708.0}, {\"year\": 2023, \"category\": \"Schools & Libraries\", \"calls\": 0.0}, {\"year\": 2023, \"category\": \"Security Cameras\", \"calls\": 12045.0}, {\"year\": 2023, \"category\": \"Streets & Transportation\", \"calls\": 160300.0}]}}, {\"mode\": \"vega-lite\"});\n",
       "</script>"
      ],
      "text/plain": [
       "alt.Chart(...)"
      ]
     },
     "metadata": {},
     "output_type": "display_data"
    },
    {
     "data": {
      "text/html": [
       "\n",
       "<style>\n",
       "  #altair-viz-e351df56367741c8bf3507c9bba5a47a.vega-embed {\n",
       "    width: 100%;\n",
       "    display: flex;\n",
       "  }\n",
       "\n",
       "  #altair-viz-e351df56367741c8bf3507c9bba5a47a.vega-embed details,\n",
       "  #altair-viz-e351df56367741c8bf3507c9bba5a47a.vega-embed details summary {\n",
       "    position: relative;\n",
       "  }\n",
       "</style>\n",
       "<div id=\"altair-viz-e351df56367741c8bf3507c9bba5a47a\"></div>\n",
       "<script type=\"text/javascript\">\n",
       "  var VEGA_DEBUG = (typeof VEGA_DEBUG == \"undefined\") ? {} : VEGA_DEBUG;\n",
       "  (function(spec, embedOpt){\n",
       "    let outputDiv = document.currentScript.previousElementSibling;\n",
       "    if (outputDiv.id !== \"altair-viz-e351df56367741c8bf3507c9bba5a47a\") {\n",
       "      outputDiv = document.getElementById(\"altair-viz-e351df56367741c8bf3507c9bba5a47a\");\n",
       "    }\n",
       "\n",
       "    const paths = {\n",
       "      \"vega\": \"https://cdn.jsdelivr.net/npm/vega@5?noext\",\n",
       "      \"vega-lib\": \"https://cdn.jsdelivr.net/npm/vega-lib?noext\",\n",
       "      \"vega-lite\": \"https://cdn.jsdelivr.net/npm/vega-lite@5.20.1?noext\",\n",
       "      \"vega-embed\": \"https://cdn.jsdelivr.net/npm/vega-embed@6?noext\",\n",
       "    };\n",
       "\n",
       "    function maybeLoadScript(lib, version) {\n",
       "      var key = `${lib.replace(\"-\", \"\")}_version`;\n",
       "      return (VEGA_DEBUG[key] == version) ?\n",
       "        Promise.resolve(paths[lib]) :\n",
       "        new Promise(function(resolve, reject) {\n",
       "          var s = document.createElement('script');\n",
       "          document.getElementsByTagName(\"head\")[0].appendChild(s);\n",
       "          s.async = true;\n",
       "          s.onload = () => {\n",
       "            VEGA_DEBUG[key] = version;\n",
       "            return resolve(paths[lib]);\n",
       "          };\n",
       "          s.onerror = () => reject(`Error loading script: ${paths[lib]}`);\n",
       "          s.src = paths[lib];\n",
       "        });\n",
       "    }\n",
       "\n",
       "    function showError(err) {\n",
       "      outputDiv.innerHTML = `<div class=\"error\" style=\"color:red;\">${err}</div>`;\n",
       "      throw err;\n",
       "    }\n",
       "\n",
       "    function displayChart(vegaEmbed) {\n",
       "      vegaEmbed(outputDiv, spec, embedOpt)\n",
       "        .catch(err => showError(`Javascript Error: ${err.message}<br>This usually means there's a typo in your chart specification. See the javascript console for the full traceback.`));\n",
       "    }\n",
       "\n",
       "    if(typeof define === \"function\" && define.amd) {\n",
       "      requirejs.config({paths});\n",
       "      let deps = [\"vega-embed\"];\n",
       "      require(deps, displayChart, err => showError(`Error loading script: ${err.message}`));\n",
       "    } else {\n",
       "      maybeLoadScript(\"vega\", \"5\")\n",
       "        .then(() => maybeLoadScript(\"vega-lite\", \"5.20.1\"))\n",
       "        .then(() => maybeLoadScript(\"vega-embed\", \"6\"))\n",
       "        .catch(showError)\n",
       "        .then(() => displayChart(vegaEmbed));\n",
       "    }\n",
       "  })({\"config\": {\"view\": {\"continuousWidth\": 300, \"continuousHeight\": 300}, \"axis\": {\"labelAngle\": 0}}, \"data\": {\"name\": \"data-a05d52bf19c9931be196b95b370b5ce1\"}, \"mark\": {\"type\": \"bar\"}, \"encoding\": {\"color\": {\"field\": \"category\", \"scale\": {\"domain\": [\"Beautification\", \"Bike Infrastructure\", \"Lighting\", \"Parks & Recreation\", \"Plants, Gardens, & Sustainability\", \"Schools & Libraries\", \"Security Cameras\", \"Streets & Transportation\"], \"range\": [\"#1f77b4\", \"#ff7f0e\", \"#2ca02c\", \"#d62728\", \"#9467bd\", \"#ffcc00\", \"#e377c2\", \"#7f7f7f\"]}, \"type\": \"nominal\"}, \"tooltip\": [{\"field\": \"ward\", \"type\": \"quantitative\"}, {\"aggregate\": \"sum\", \"field\": \"calls\", \"format\": \".2f\", \"type\": \"quantitative\"}, {\"field\": \"category\", \"type\": \"nominal\"}], \"x\": {\"field\": \"ward\", \"title\": \"Ward\", \"type\": \"ordinal\"}, \"y\": {\"aggregate\": \"sum\", \"field\": \"calls\", \"title\": \"Number of 311 Calls\", \"type\": \"quantitative\"}}, \"height\": 400, \"title\": \"311 Calls by Ward and Category\", \"width\": 600, \"$schema\": \"https://vega.github.io/schema/vega-lite/v5.20.1.json\", \"datasets\": {\"data-a05d52bf19c9931be196b95b370b5ce1\": [{\"ward\": 1, \"category\": \"Beautification\", \"calls\": 32710.0}, {\"ward\": 1, \"category\": \"Bike Infrastructure\", \"calls\": 500.0}, {\"ward\": 1, \"category\": \"Lighting\", \"calls\": 906.0}, {\"ward\": 1, \"category\": \"Parks & Recreation\", \"calls\": 29.0}, {\"ward\": 1, \"category\": \"Plants, Gardens, & Sustainability\", \"calls\": 2442.0}, {\"ward\": 1, \"category\": \"Schools & Libraries\", \"calls\": 0.0}, {\"ward\": 1, \"category\": \"Security Cameras\", \"calls\": 1213.0}, {\"ward\": 1, \"category\": \"Streets & Transportation\", \"calls\": 20927.0}, {\"ward\": 2, \"category\": \"Beautification\", \"calls\": 11396.0}, {\"ward\": 2, \"category\": \"Bike Infrastructure\", \"calls\": 226.0}, {\"ward\": 2, \"category\": \"Lighting\", \"calls\": 555.0}, {\"ward\": 2, \"category\": \"Parks & Recreation\", \"calls\": 7.0}, {\"ward\": 2, \"category\": \"Plants, Gardens, & Sustainability\", \"calls\": 1023.0}, {\"ward\": 2, \"category\": \"Security Cameras\", \"calls\": 550.0}, {\"ward\": 2, \"category\": \"Streets & Transportation\", \"calls\": 13540.0}, {\"ward\": 3, \"category\": \"Beautification\", \"calls\": 15395.0}, {\"ward\": 3, \"category\": \"Bike Infrastructure\", \"calls\": 152.0}, {\"ward\": 3, \"category\": \"Lighting\", \"calls\": 769.0}, {\"ward\": 3, \"category\": \"Parks & Recreation\", \"calls\": 98.0}, {\"ward\": 3, \"category\": \"Plants, Gardens, & Sustainability\", \"calls\": 1210.0}, {\"ward\": 3, \"category\": \"Security Cameras\", \"calls\": 982.0}, {\"ward\": 3, \"category\": \"Streets & Transportation\", \"calls\": 18259.0}, {\"ward\": 4, \"category\": \"Beautification\", \"calls\": 12125.0}, {\"ward\": 4, \"category\": \"Bike Infrastructure\", \"calls\": 236.0}, {\"ward\": 4, \"category\": \"Lighting\", \"calls\": 693.0}, {\"ward\": 4, \"category\": \"Parks & Recreation\", \"calls\": 39.0}, {\"ward\": 4, \"category\": \"Plants, Gardens, & Sustainability\", \"calls\": 1035.0}, {\"ward\": 4, \"category\": \"Security Cameras\", \"calls\": 425.0}, {\"ward\": 4, \"category\": \"Streets & Transportation\", \"calls\": 16785.0}, {\"ward\": 5, \"category\": \"Beautification\", \"calls\": 5489.0}, {\"ward\": 5, \"category\": \"Bike Infrastructure\", \"calls\": 98.0}, {\"ward\": 5, \"category\": \"Lighting\", \"calls\": 767.0}, {\"ward\": 5, \"category\": \"Parks & Recreation\", \"calls\": 35.0}, {\"ward\": 5, \"category\": \"Plants, Gardens, & Sustainability\", \"calls\": 1300.0}, {\"ward\": 5, \"category\": \"Security Cameras\", \"calls\": 571.0}, {\"ward\": 5, \"category\": \"Streets & Transportation\", \"calls\": 16482.0}, {\"ward\": 6, \"category\": \"Beautification\", \"calls\": 21486.0}, {\"ward\": 6, \"category\": \"Bike Infrastructure\", \"calls\": 109.0}, {\"ward\": 6, \"category\": \"Lighting\", \"calls\": 2770.0}, {\"ward\": 6, \"category\": \"Parks & Recreation\", \"calls\": 120.0}, {\"ward\": 6, \"category\": \"Plants, Gardens, & Sustainability\", \"calls\": 3197.0}, {\"ward\": 6, \"category\": \"Security Cameras\", \"calls\": 2647.0}, {\"ward\": 6, \"category\": \"Streets & Transportation\", \"calls\": 22200.0}, {\"ward\": 7, \"category\": \"Beautification\", \"calls\": 12044.0}, {\"ward\": 7, \"category\": \"Bike Infrastructure\", \"calls\": 12.0}, {\"ward\": 7, \"category\": \"Lighting\", \"calls\": 1468.0}, {\"ward\": 7, \"category\": \"Parks & Recreation\", \"calls\": 48.0}, {\"ward\": 7, \"category\": \"Plants, Gardens, & Sustainability\", \"calls\": 2550.0}, {\"ward\": 7, \"category\": \"Security Cameras\", \"calls\": 1359.0}, {\"ward\": 7, \"category\": \"Streets & Transportation\", \"calls\": 16859.0}, {\"ward\": 8, \"category\": \"Beautification\", \"calls\": 13971.0}, {\"ward\": 8, \"category\": \"Bike Infrastructure\", \"calls\": 12.0}, {\"ward\": 8, \"category\": \"Lighting\", \"calls\": 2763.0}, {\"ward\": 8, \"category\": \"Parks & Recreation\", \"calls\": 67.0}, {\"ward\": 8, \"category\": \"Plants, Gardens, & Sustainability\", \"calls\": 3583.0}, {\"ward\": 8, \"category\": \"Security Cameras\", \"calls\": 1711.0}, {\"ward\": 8, \"category\": \"Streets & Transportation\", \"calls\": 26172.0}, {\"ward\": 9, \"category\": \"Beautification\", \"calls\": 19661.0}, {\"ward\": 9, \"category\": \"Bike Infrastructure\", \"calls\": 14.0}, {\"ward\": 9, \"category\": \"Lighting\", \"calls\": 2621.0}, {\"ward\": 9, \"category\": \"Parks & Recreation\", \"calls\": 64.0}, {\"ward\": 9, \"category\": \"Plants, Gardens, & Sustainability\", \"calls\": 3619.0}, {\"ward\": 9, \"category\": \"Security Cameras\", \"calls\": 2089.0}, {\"ward\": 9, \"category\": \"Streets & Transportation\", \"calls\": 26095.0}, {\"ward\": 10, \"category\": \"Beautification\", \"calls\": 18233.0}, {\"ward\": 10, \"category\": \"Bike Infrastructure\", \"calls\": 34.0}, {\"ward\": 10, \"category\": \"Lighting\", \"calls\": 4283.0}, {\"ward\": 10, \"category\": \"Parks & Recreation\", \"calls\": 32.0}, {\"ward\": 10, \"category\": \"Plants, Gardens, & Sustainability\", \"calls\": 2738.0}, {\"ward\": 10, \"category\": \"Security Cameras\", \"calls\": 940.0}, {\"ward\": 10, \"category\": \"Streets & Transportation\", \"calls\": 28210.0}, {\"ward\": 11, \"category\": \"Beautification\", \"calls\": 19074.0}, {\"ward\": 11, \"category\": \"Bike Infrastructure\", \"calls\": 237.0}, {\"ward\": 11, \"category\": \"Lighting\", \"calls\": 1363.0}, {\"ward\": 11, \"category\": \"Parks & Recreation\", \"calls\": 23.0}, {\"ward\": 11, \"category\": \"Plants, Gardens, & Sustainability\", \"calls\": 3948.0}, {\"ward\": 11, \"category\": \"Security Cameras\", \"calls\": 869.0}, {\"ward\": 11, \"category\": \"Streets & Transportation\", \"calls\": 19055.0}, {\"ward\": 12, \"category\": \"Beautification\", \"calls\": 33879.0}, {\"ward\": 12, \"category\": \"Bike Infrastructure\", \"calls\": 32.0}, {\"ward\": 12, \"category\": \"Lighting\", \"calls\": 1117.0}, {\"ward\": 12, \"category\": \"Parks & Recreation\", \"calls\": 17.0}, {\"ward\": 12, \"category\": \"Plants, Gardens, & Sustainability\", \"calls\": 3226.0}, {\"ward\": 12, \"category\": \"Security Cameras\", \"calls\": 832.0}, {\"ward\": 12, \"category\": \"Streets & Transportation\", \"calls\": 17247.0}, {\"ward\": 13, \"category\": \"Beautification\", \"calls\": 9538.0}, {\"ward\": 13, \"category\": \"Bike Infrastructure\", \"calls\": 13.0}, {\"ward\": 13, \"category\": \"Lighting\", \"calls\": 3613.0}, {\"ward\": 13, \"category\": \"Parks & Recreation\", \"calls\": 2.0}, {\"ward\": 13, \"category\": \"Plants, Gardens, & Sustainability\", \"calls\": 2777.0}, {\"ward\": 13, \"category\": \"Schools & Libraries\", \"calls\": 0.0}, {\"ward\": 13, \"category\": \"Security Cameras\", \"calls\": 225.0}, {\"ward\": 13, \"category\": \"Streets & Transportation\", \"calls\": 21327.0}, {\"ward\": 14, \"category\": \"Beautification\", \"calls\": 36575.0}, {\"ward\": 14, \"category\": \"Bike Infrastructure\", \"calls\": 26.0}, {\"ward\": 14, \"category\": \"Lighting\", \"calls\": 1401.0}, {\"ward\": 14, \"category\": \"Parks & Recreation\", \"calls\": 8.0}, {\"ward\": 14, \"category\": \"Plants, Gardens, & Sustainability\", \"calls\": 2276.0}, {\"ward\": 14, \"category\": \"Security Cameras\", \"calls\": 565.0}, {\"ward\": 14, \"category\": \"Streets & Transportation\", \"calls\": 19621.0}, {\"ward\": 15, \"category\": \"Beautification\", \"calls\": 23336.0}, {\"ward\": 15, \"category\": \"Bike Infrastructure\", \"calls\": 12.0}, {\"ward\": 15, \"category\": \"Lighting\", \"calls\": 742.0}, {\"ward\": 15, \"category\": \"Parks & Recreation\", \"calls\": 37.0}, {\"ward\": 15, \"category\": \"Plants, Gardens, & Sustainability\", \"calls\": 1718.0}, {\"ward\": 15, \"category\": \"Security Cameras\", \"calls\": 968.0}, {\"ward\": 15, \"category\": \"Streets & Transportation\", \"calls\": 16249.0}, {\"ward\": 16, \"category\": \"Beautification\", \"calls\": 33628.0}, {\"ward\": 16, \"category\": \"Bike Infrastructure\", \"calls\": 7.0}, {\"ward\": 16, \"category\": \"Lighting\", \"calls\": 1684.0}, {\"ward\": 16, \"category\": \"Parks & Recreation\", \"calls\": 102.0}, {\"ward\": 16, \"category\": \"Plants, Gardens, & Sustainability\", \"calls\": 2461.0}, {\"ward\": 16, \"category\": \"Security Cameras\", \"calls\": 2431.0}, {\"ward\": 16, \"category\": \"Streets & Transportation\", \"calls\": 17386.0}, {\"ward\": 17, \"category\": \"Beautification\", \"calls\": 21362.0}, {\"ward\": 17, \"category\": \"Bike Infrastructure\", \"calls\": 18.0}, {\"ward\": 17, \"category\": \"Lighting\", \"calls\": 1877.0}, {\"ward\": 17, \"category\": \"Parks & Recreation\", \"calls\": 38.0}, {\"ward\": 17, \"category\": \"Plants, Gardens, & Sustainability\", \"calls\": 4232.0}, {\"ward\": 17, \"category\": \"Security Cameras\", \"calls\": 1841.0}, {\"ward\": 17, \"category\": \"Streets & Transportation\", \"calls\": 17908.0}, {\"ward\": 18, \"category\": \"Beautification\", \"calls\": 16899.0}, {\"ward\": 18, \"category\": \"Bike Infrastructure\", \"calls\": 10.0}, {\"ward\": 18, \"category\": \"Lighting\", \"calls\": 2338.0}, {\"ward\": 18, \"category\": \"Parks & Recreation\", \"calls\": 16.0}, {\"ward\": 18, \"category\": \"Plants, Gardens, & Sustainability\", \"calls\": 3347.0}, {\"ward\": 18, \"category\": \"Security Cameras\", \"calls\": 884.0}, {\"ward\": 18, \"category\": \"Streets & Transportation\", \"calls\": 25828.0}, {\"ward\": 19, \"category\": \"Beautification\", \"calls\": 10298.0}, {\"ward\": 19, \"category\": \"Bike Infrastructure\", \"calls\": 8.0}, {\"ward\": 19, \"category\": \"Lighting\", \"calls\": 1486.0}, {\"ward\": 19, \"category\": \"Parks & Recreation\", \"calls\": 26.0}, {\"ward\": 19, \"category\": \"Plants, Gardens, & Sustainability\", \"calls\": 6235.0}, {\"ward\": 19, \"category\": \"Security Cameras\", \"calls\": 225.0}, {\"ward\": 19, \"category\": \"Streets & Transportation\", \"calls\": 26503.0}, {\"ward\": 20, \"category\": \"Beautification\", \"calls\": 25204.0}, {\"ward\": 20, \"category\": \"Bike Infrastructure\", \"calls\": 16.0}, {\"ward\": 20, \"category\": \"Lighting\", \"calls\": 1371.0}, {\"ward\": 20, \"category\": \"Parks & Recreation\", \"calls\": 57.0}, {\"ward\": 20, \"category\": \"Plants, Gardens, & Sustainability\", \"calls\": 1772.0}, {\"ward\": 20, \"category\": \"Security Cameras\", \"calls\": 1629.0}, {\"ward\": 20, \"category\": \"Streets & Transportation\", \"calls\": 19445.0}, {\"ward\": 21, \"category\": \"Beautification\", \"calls\": 18448.0}, {\"ward\": 21, \"category\": \"Bike Infrastructure\", \"calls\": 60.0}, {\"ward\": 21, \"category\": \"Lighting\", \"calls\": 2800.0}, {\"ward\": 21, \"category\": \"Parks & Recreation\", \"calls\": 65.0}, {\"ward\": 21, \"category\": \"Plants, Gardens, & Sustainability\", \"calls\": 3980.0}, {\"ward\": 21, \"category\": \"Security Cameras\", \"calls\": 1733.0}, {\"ward\": 21, \"category\": \"Streets & Transportation\", \"calls\": 26159.0}, {\"ward\": 22, \"category\": \"Beautification\", \"calls\": 20686.0}, {\"ward\": 22, \"category\": \"Bike Infrastructure\", \"calls\": 15.0}, {\"ward\": 22, \"category\": \"Lighting\", \"calls\": 1377.0}, {\"ward\": 22, \"category\": \"Parks & Recreation\", \"calls\": 11.0}, {\"ward\": 22, \"category\": \"Plants, Gardens, & Sustainability\", \"calls\": 3147.0}, {\"ward\": 22, \"category\": \"Security Cameras\", \"calls\": 838.0}, {\"ward\": 22, \"category\": \"Streets & Transportation\", \"calls\": 17613.0}, {\"ward\": 23, \"category\": \"Beautification\", \"calls\": 19320.0}, {\"ward\": 23, \"category\": \"Bike Infrastructure\", \"calls\": 21.0}, {\"ward\": 23, \"category\": \"Lighting\", \"calls\": 2361.0}, {\"ward\": 23, \"category\": \"Parks & Recreation\", \"calls\": 11.0}, {\"ward\": 23, \"category\": \"Plants, Gardens, & Sustainability\", \"calls\": 3197.0}, {\"ward\": 23, \"category\": \"Schools & Libraries\", \"calls\": 0.0}, {\"ward\": 23, \"category\": \"Security Cameras\", \"calls\": 350.0}, {\"ward\": 23, \"category\": \"Streets & Transportation\", \"calls\": 19927.0}, {\"ward\": 24, \"category\": \"Beautification\", \"calls\": 32347.0}, {\"ward\": 24, \"category\": \"Bike Infrastructure\", \"calls\": 15.0}, {\"ward\": 24, \"category\": \"Lighting\", \"calls\": 987.0}, {\"ward\": 24, \"category\": \"Parks & Recreation\", \"calls\": 60.0}, {\"ward\": 24, \"category\": \"Plants, Gardens, & Sustainability\", \"calls\": 3851.0}, {\"ward\": 24, \"category\": \"Security Cameras\", \"calls\": 2794.0}, {\"ward\": 24, \"category\": \"Streets & Transportation\", \"calls\": 16363.0}, {\"ward\": 25, \"category\": \"Beautification\", \"calls\": 30122.0}, {\"ward\": 25, \"category\": \"Bike Infrastructure\", \"calls\": 416.0}, {\"ward\": 25, \"category\": \"Lighting\", \"calls\": 887.0}, {\"ward\": 25, \"category\": \"Parks & Recreation\", \"calls\": 38.0}, {\"ward\": 25, \"category\": \"Plants, Gardens, & Sustainability\", \"calls\": 1307.0}, {\"ward\": 25, \"category\": \"Security Cameras\", \"calls\": 1092.0}, {\"ward\": 25, \"category\": \"Streets & Transportation\", \"calls\": 25137.0}, {\"ward\": 26, \"category\": \"Beautification\", \"calls\": 18432.0}, {\"ward\": 26, \"category\": \"Bike Infrastructure\", \"calls\": 100.0}, {\"ward\": 26, \"category\": \"Lighting\", \"calls\": 745.0}, {\"ward\": 26, \"category\": \"Parks & Recreation\", \"calls\": 59.0}, {\"ward\": 26, \"category\": \"Plants, Gardens, & Sustainability\", \"calls\": 2241.0}, {\"ward\": 26, \"category\": \"Schools & Libraries\", \"calls\": 0.0}, {\"ward\": 26, \"category\": \"Security Cameras\", \"calls\": 1185.0}, {\"ward\": 26, \"category\": \"Streets & Transportation\", \"calls\": 14568.0}, {\"ward\": 27, \"category\": \"Beautification\", \"calls\": 32976.0}, {\"ward\": 27, \"category\": \"Bike Infrastructure\", \"calls\": 3130.0}, {\"ward\": 27, \"category\": \"Lighting\", \"calls\": 1042.0}, {\"ward\": 27, \"category\": \"Parks & Recreation\", \"calls\": 90.0}, {\"ward\": 27, \"category\": \"Plants, Gardens, & Sustainability\", \"calls\": 1953.0}, {\"ward\": 27, \"category\": \"Security Cameras\", \"calls\": 2389.0}, {\"ward\": 27, \"category\": \"Streets & Transportation\", \"calls\": 30074.0}, {\"ward\": 28, \"category\": \"Beautification\", \"calls\": 29714.0}, {\"ward\": 28, \"category\": \"Bike Infrastructure\", \"calls\": 671.0}, {\"ward\": 28, \"category\": \"Lighting\", \"calls\": 1077.0}, {\"ward\": 28, \"category\": \"Parks & Recreation\", \"calls\": 104.0}, {\"ward\": 28, \"category\": \"Plants, Gardens, & Sustainability\", \"calls\": 1943.0}, {\"ward\": 28, \"category\": \"Security Cameras\", \"calls\": 3390.0}, {\"ward\": 28, \"category\": \"Streets & Transportation\", \"calls\": 27040.0}, {\"ward\": 29, \"category\": \"Beautification\", \"calls\": 11445.0}, {\"ward\": 29, \"category\": \"Bike Infrastructure\", \"calls\": 14.0}, {\"ward\": 29, \"category\": \"Lighting\", \"calls\": 1536.0}, {\"ward\": 29, \"category\": \"Parks & Recreation\", \"calls\": 58.0}, {\"ward\": 29, \"category\": \"Plants, Gardens, & Sustainability\", \"calls\": 2792.0}, {\"ward\": 29, \"category\": \"Schools & Libraries\", \"calls\": 0.0}, {\"ward\": 29, \"category\": \"Security Cameras\", \"calls\": 1124.0}, {\"ward\": 29, \"category\": \"Streets & Transportation\", \"calls\": 17709.0}, {\"ward\": 30, \"category\": \"Beautification\", \"calls\": 14851.0}, {\"ward\": 30, \"category\": \"Bike Infrastructure\", \"calls\": 81.0}, {\"ward\": 30, \"category\": \"Lighting\", \"calls\": 1116.0}, {\"ward\": 30, \"category\": \"Parks & Recreation\", \"calls\": 25.0}, {\"ward\": 30, \"category\": \"Plants, Gardens, & Sustainability\", \"calls\": 3470.0}, {\"ward\": 30, \"category\": \"Security Cameras\", \"calls\": 741.0}, {\"ward\": 30, \"category\": \"Streets & Transportation\", \"calls\": 16585.0}, {\"ward\": 31, \"category\": \"Beautification\", \"calls\": 13034.0}, {\"ward\": 31, \"category\": \"Bike Infrastructure\", \"calls\": 57.0}, {\"ward\": 31, \"category\": \"Lighting\", \"calls\": 1076.0}, {\"ward\": 31, \"category\": \"Parks & Recreation\", \"calls\": 9.0}, {\"ward\": 31, \"category\": \"Plants, Gardens, & Sustainability\", \"calls\": 2779.0}, {\"ward\": 31, \"category\": \"Security Cameras\", \"calls\": 766.0}, {\"ward\": 31, \"category\": \"Streets & Transportation\", \"calls\": 17009.0}, {\"ward\": 32, \"category\": \"Beautification\", \"calls\": 23486.0}, {\"ward\": 32, \"category\": \"Bike Infrastructure\", \"calls\": 559.0}, {\"ward\": 32, \"category\": \"Lighting\", \"calls\": 1061.0}, {\"ward\": 32, \"category\": \"Parks & Recreation\", \"calls\": 7.0}, {\"ward\": 32, \"category\": \"Plants, Gardens, & Sustainability\", \"calls\": 3396.0}, {\"ward\": 32, \"category\": \"Schools & Libraries\", \"calls\": 0.0}, {\"ward\": 32, \"category\": \"Security Cameras\", \"calls\": 1133.0}, {\"ward\": 32, \"category\": \"Streets & Transportation\", \"calls\": 22281.0}, {\"ward\": 33, \"category\": \"Beautification\", \"calls\": 21639.0}, {\"ward\": 33, \"category\": \"Bike Infrastructure\", \"calls\": 181.0}, {\"ward\": 33, \"category\": \"Lighting\", \"calls\": 1362.0}, {\"ward\": 33, \"category\": \"Parks & Recreation\", \"calls\": 34.0}, {\"ward\": 33, \"category\": \"Plants, Gardens, & Sustainability\", \"calls\": 2321.0}, {\"ward\": 33, \"category\": \"Schools & Libraries\", \"calls\": 0.0}, {\"ward\": 33, \"category\": \"Security Cameras\", \"calls\": 1072.0}, {\"ward\": 33, \"category\": \"Streets & Transportation\", \"calls\": 15527.0}, {\"ward\": 34, \"category\": \"Beautification\", \"calls\": 24836.0}, {\"ward\": 34, \"category\": \"Bike Infrastructure\", \"calls\": 420.0}, {\"ward\": 34, \"category\": \"Lighting\", \"calls\": 2406.0}, {\"ward\": 34, \"category\": \"Parks & Recreation\", \"calls\": 60.0}, {\"ward\": 34, \"category\": \"Plants, Gardens, & Sustainability\", \"calls\": 2859.0}, {\"ward\": 34, \"category\": \"Security Cameras\", \"calls\": 2015.0}, {\"ward\": 34, \"category\": \"Streets & Transportation\", \"calls\": 26626.0}, {\"ward\": 35, \"category\": \"Beautification\", \"calls\": 19157.0}, {\"ward\": 35, \"category\": \"Bike Infrastructure\", \"calls\": 130.0}, {\"ward\": 35, \"category\": \"Lighting\", \"calls\": 1207.0}, {\"ward\": 35, \"category\": \"Parks & Recreation\", \"calls\": 24.0}, {\"ward\": 35, \"category\": \"Plants, Gardens, & Sustainability\", \"calls\": 2716.0}, {\"ward\": 35, \"category\": \"Schools & Libraries\", \"calls\": 0.0}, {\"ward\": 35, \"category\": \"Security Cameras\", \"calls\": 750.0}, {\"ward\": 35, \"category\": \"Streets & Transportation\", \"calls\": 17145.0}, {\"ward\": 36, \"category\": \"Beautification\", \"calls\": 14387.0}, {\"ward\": 36, \"category\": \"Bike Infrastructure\", \"calls\": 72.0}, {\"ward\": 36, \"category\": \"Lighting\", \"calls\": 1536.0}, {\"ward\": 36, \"category\": \"Parks & Recreation\", \"calls\": 21.0}, {\"ward\": 36, \"category\": \"Plants, Gardens, & Sustainability\", \"calls\": 2737.0}, {\"ward\": 36, \"category\": \"Schools & Libraries\", \"calls\": 0.0}, {\"ward\": 36, \"category\": \"Security Cameras\", \"calls\": 911.0}, {\"ward\": 36, \"category\": \"Streets & Transportation\", \"calls\": 18986.0}, {\"ward\": 37, \"category\": \"Beautification\", \"calls\": 17144.0}, {\"ward\": 37, \"category\": \"Bike Infrastructure\", \"calls\": 28.0}, {\"ward\": 37, \"category\": \"Lighting\", \"calls\": 1396.0}, {\"ward\": 37, \"category\": \"Parks & Recreation\", \"calls\": 43.0}, {\"ward\": 37, \"category\": \"Plants, Gardens, & Sustainability\", \"calls\": 2072.0}, {\"ward\": 37, \"category\": \"Security Cameras\", \"calls\": 2521.0}, {\"ward\": 37, \"category\": \"Streets & Transportation\", \"calls\": 14851.0}, {\"ward\": 38, \"category\": \"Beautification\", \"calls\": 9858.0}, {\"ward\": 38, \"category\": \"Bike Infrastructure\", \"calls\": 25.0}, {\"ward\": 38, \"category\": \"Lighting\", \"calls\": 1961.0}, {\"ward\": 38, \"category\": \"Parks & Recreation\", \"calls\": 9.0}, {\"ward\": 38, \"category\": \"Plants, Gardens, & Sustainability\", \"calls\": 5238.0}, {\"ward\": 38, \"category\": \"Schools & Libraries\", \"calls\": 0.0}, {\"ward\": 38, \"category\": \"Security Cameras\", \"calls\": 486.0}, {\"ward\": 38, \"category\": \"Streets & Transportation\", \"calls\": 22162.0}, {\"ward\": 39, \"category\": \"Beautification\", \"calls\": 11731.0}, {\"ward\": 39, \"category\": \"Bike Infrastructure\", \"calls\": 244.0}, {\"ward\": 39, \"category\": \"Lighting\", \"calls\": 1327.0}, {\"ward\": 39, \"category\": \"Parks & Recreation\", \"calls\": 36.0}, {\"ward\": 39, \"category\": \"Plants, Gardens, & Sustainability\", \"calls\": 4080.0}, {\"ward\": 39, \"category\": \"Schools & Libraries\", \"calls\": 0.0}, {\"ward\": 39, \"category\": \"Security Cameras\", \"calls\": 622.0}, {\"ward\": 39, \"category\": \"Streets & Transportation\", \"calls\": 25617.0}, {\"ward\": 40, \"category\": \"Beautification\", \"calls\": 10947.0}, {\"ward\": 40, \"category\": \"Bike Infrastructure\", \"calls\": 308.0}, {\"ward\": 40, \"category\": \"Lighting\", \"calls\": 987.0}, {\"ward\": 40, \"category\": \"Parks & Recreation\", \"calls\": 14.0}, {\"ward\": 40, \"category\": \"Plants, Gardens, & Sustainability\", \"calls\": 2751.0}, {\"ward\": 40, \"category\": \"Security Cameras\", \"calls\": 506.0}, {\"ward\": 40, \"category\": \"Streets & Transportation\", \"calls\": 19066.0}, {\"ward\": 41, \"category\": \"Beautification\", \"calls\": 6937.0}, {\"ward\": 41, \"category\": \"Bike Infrastructure\", \"calls\": 21.0}, {\"ward\": 41, \"category\": \"Lighting\", \"calls\": 1451.0}, {\"ward\": 41, \"category\": \"Parks & Recreation\", \"calls\": 13.0}, {\"ward\": 41, \"category\": \"Plants, Gardens, & Sustainability\", \"calls\": 5142.0}, {\"ward\": 41, \"category\": \"Security Cameras\", \"calls\": 183.0}, {\"ward\": 41, \"category\": \"Streets & Transportation\", \"calls\": 24810.0}, {\"ward\": 42, \"category\": \"Beautification\", \"calls\": 16900.0}, {\"ward\": 42, \"category\": \"Bike Infrastructure\", \"calls\": 1399.0}, {\"ward\": 42, \"category\": \"Lighting\", \"calls\": 231.0}, {\"ward\": 42, \"category\": \"Parks & Recreation\", \"calls\": 14.0}, {\"ward\": 42, \"category\": \"Plants, Gardens, & Sustainability\", \"calls\": 320.0}, {\"ward\": 42, \"category\": \"Security Cameras\", \"calls\": 357.0}, {\"ward\": 42, \"category\": \"Streets & Transportation\", \"calls\": 22079.0}, {\"ward\": 43, \"category\": \"Beautification\", \"calls\": 10433.0}, {\"ward\": 43, \"category\": \"Bike Infrastructure\", \"calls\": 323.0}, {\"ward\": 43, \"category\": \"Lighting\", \"calls\": 446.0}, {\"ward\": 43, \"category\": \"Parks & Recreation\", \"calls\": 8.0}, {\"ward\": 43, \"category\": \"Plants, Gardens, & Sustainability\", \"calls\": 1745.0}, {\"ward\": 43, \"category\": \"Schools & Libraries\", \"calls\": 0.0}, {\"ward\": 43, \"category\": \"Security Cameras\", \"calls\": 425.0}, {\"ward\": 43, \"category\": \"Streets & Transportation\", \"calls\": 14640.0}, {\"ward\": 44, \"category\": \"Beautification\", \"calls\": 9490.0}, {\"ward\": 44, \"category\": \"Bike Infrastructure\", \"calls\": 268.0}, {\"ward\": 44, \"category\": \"Lighting\", \"calls\": 403.0}, {\"ward\": 44, \"category\": \"Parks & Recreation\", \"calls\": 8.0}, {\"ward\": 44, \"category\": \"Plants, Gardens, & Sustainability\", \"calls\": 1639.0}, {\"ward\": 44, \"category\": \"Schools & Libraries\", \"calls\": 0.0}, {\"ward\": 44, \"category\": \"Security Cameras\", \"calls\": 474.0}, {\"ward\": 44, \"category\": \"Streets & Transportation\", \"calls\": 9946.0}, {\"ward\": 45, \"category\": \"Beautification\", \"calls\": 14063.0}, {\"ward\": 45, \"category\": \"Bike Infrastructure\", \"calls\": 195.0}, {\"ward\": 45, \"category\": \"Lighting\", \"calls\": 1819.0}, {\"ward\": 45, \"category\": \"Parks & Recreation\", \"calls\": 18.0}, {\"ward\": 45, \"category\": \"Plants, Gardens, & Sustainability\", \"calls\": 4711.0}, {\"ward\": 45, \"category\": \"Security Cameras\", \"calls\": 565.0}, {\"ward\": 45, \"category\": \"Streets & Transportation\", \"calls\": 27411.0}, {\"ward\": 46, \"category\": \"Beautification\", \"calls\": 7876.0}, {\"ward\": 46, \"category\": \"Bike Infrastructure\", \"calls\": 294.0}, {\"ward\": 46, \"category\": \"Lighting\", \"calls\": 361.0}, {\"ward\": 46, \"category\": \"Parks & Recreation\", \"calls\": 21.0}, {\"ward\": 46, \"category\": \"Plants, Gardens, & Sustainability\", \"calls\": 1034.0}, {\"ward\": 46, \"category\": \"Security Cameras\", \"calls\": 1012.0}, {\"ward\": 46, \"category\": \"Streets & Transportation\", \"calls\": 9853.0}, {\"ward\": 47, \"category\": \"Beautification\", \"calls\": 21391.0}, {\"ward\": 47, \"category\": \"Bike Infrastructure\", \"calls\": 242.0}, {\"ward\": 47, \"category\": \"Lighting\", \"calls\": 865.0}, {\"ward\": 47, \"category\": \"Parks & Recreation\", \"calls\": 20.0}, {\"ward\": 47, \"category\": \"Plants, Gardens, & Sustainability\", \"calls\": 3281.0}, {\"ward\": 47, \"category\": \"Schools & Libraries\", \"calls\": 0.0}, {\"ward\": 47, \"category\": \"Security Cameras\", \"calls\": 861.0}, {\"ward\": 47, \"category\": \"Streets & Transportation\", \"calls\": 19326.0}, {\"ward\": 48, \"category\": \"Beautification\", \"calls\": 8690.0}, {\"ward\": 48, \"category\": \"Bike Infrastructure\", \"calls\": 219.0}, {\"ward\": 48, \"category\": \"Lighting\", \"calls\": 614.0}, {\"ward\": 48, \"category\": \"Parks & Recreation\", \"calls\": 24.0}, {\"ward\": 48, \"category\": \"Plants, Gardens, & Sustainability\", \"calls\": 1686.0}, {\"ward\": 48, \"category\": \"Schools & Libraries\", \"calls\": 0.0}, {\"ward\": 48, \"category\": \"Security Cameras\", \"calls\": 624.0}, {\"ward\": 48, \"category\": \"Streets & Transportation\", \"calls\": 11846.0}, {\"ward\": 49, \"category\": \"Beautification\", \"calls\": 8674.0}, {\"ward\": 49, \"category\": \"Bike Infrastructure\", \"calls\": 72.0}, {\"ward\": 49, \"category\": \"Lighting\", \"calls\": 583.0}, {\"ward\": 49, \"category\": \"Parks & Recreation\", \"calls\": 5.0}, {\"ward\": 49, \"category\": \"Plants, Gardens, & Sustainability\", \"calls\": 1279.0}, {\"ward\": 49, \"category\": \"Security Cameras\", \"calls\": 412.0}, {\"ward\": 49, \"category\": \"Streets & Transportation\", \"calls\": 9954.0}, {\"ward\": 50, \"category\": \"Beautification\", \"calls\": 7556.0}, {\"ward\": 50, \"category\": \"Bike Infrastructure\", \"calls\": 51.0}, {\"ward\": 50, \"category\": \"Lighting\", \"calls\": 906.0}, {\"ward\": 50, \"category\": \"Parks & Recreation\", \"calls\": 12.0}, {\"ward\": 50, \"category\": \"Plants, Gardens, & Sustainability\", \"calls\": 2351.0}, {\"ward\": 50, \"category\": \"Security Cameras\", \"calls\": 568.0}, {\"ward\": 50, \"category\": \"Streets & Transportation\", \"calls\": 14040.0}]}}, {\"mode\": \"vega-lite\"});\n",
       "</script>"
      ],
      "text/plain": [
       "alt.Chart(...)"
      ]
     },
     "metadata": {},
     "output_type": "display_data"
    },
    {
     "data": {
      "text/html": [
       "\n",
       "<style>\n",
       "  #altair-viz-9d0692a8a0704052a94a22bcf236501c.vega-embed {\n",
       "    width: 100%;\n",
       "    display: flex;\n",
       "  }\n",
       "\n",
       "  #altair-viz-9d0692a8a0704052a94a22bcf236501c.vega-embed details,\n",
       "  #altair-viz-9d0692a8a0704052a94a22bcf236501c.vega-embed details summary {\n",
       "    position: relative;\n",
       "  }\n",
       "</style>\n",
       "<div id=\"altair-viz-9d0692a8a0704052a94a22bcf236501c\"></div>\n",
       "<script type=\"text/javascript\">\n",
       "  var VEGA_DEBUG = (typeof VEGA_DEBUG == \"undefined\") ? {} : VEGA_DEBUG;\n",
       "  (function(spec, embedOpt){\n",
       "    let outputDiv = document.currentScript.previousElementSibling;\n",
       "    if (outputDiv.id !== \"altair-viz-9d0692a8a0704052a94a22bcf236501c\") {\n",
       "      outputDiv = document.getElementById(\"altair-viz-9d0692a8a0704052a94a22bcf236501c\");\n",
       "    }\n",
       "\n",
       "    const paths = {\n",
       "      \"vega\": \"https://cdn.jsdelivr.net/npm/vega@5?noext\",\n",
       "      \"vega-lib\": \"https://cdn.jsdelivr.net/npm/vega-lib?noext\",\n",
       "      \"vega-lite\": \"https://cdn.jsdelivr.net/npm/vega-lite@5.20.1?noext\",\n",
       "      \"vega-embed\": \"https://cdn.jsdelivr.net/npm/vega-embed@6?noext\",\n",
       "    };\n",
       "\n",
       "    function maybeLoadScript(lib, version) {\n",
       "      var key = `${lib.replace(\"-\", \"\")}_version`;\n",
       "      return (VEGA_DEBUG[key] == version) ?\n",
       "        Promise.resolve(paths[lib]) :\n",
       "        new Promise(function(resolve, reject) {\n",
       "          var s = document.createElement('script');\n",
       "          document.getElementsByTagName(\"head\")[0].appendChild(s);\n",
       "          s.async = true;\n",
       "          s.onload = () => {\n",
       "            VEGA_DEBUG[key] = version;\n",
       "            return resolve(paths[lib]);\n",
       "          };\n",
       "          s.onerror = () => reject(`Error loading script: ${paths[lib]}`);\n",
       "          s.src = paths[lib];\n",
       "        });\n",
       "    }\n",
       "\n",
       "    function showError(err) {\n",
       "      outputDiv.innerHTML = `<div class=\"error\" style=\"color:red;\">${err}</div>`;\n",
       "      throw err;\n",
       "    }\n",
       "\n",
       "    function displayChart(vegaEmbed) {\n",
       "      vegaEmbed(outputDiv, spec, embedOpt)\n",
       "        .catch(err => showError(`Javascript Error: ${err.message}<br>This usually means there's a typo in your chart specification. See the javascript console for the full traceback.`));\n",
       "    }\n",
       "\n",
       "    if(typeof define === \"function\" && define.amd) {\n",
       "      requirejs.config({paths});\n",
       "      let deps = [\"vega-embed\"];\n",
       "      require(deps, displayChart, err => showError(`Error loading script: ${err.message}`));\n",
       "    } else {\n",
       "      maybeLoadScript(\"vega\", \"5\")\n",
       "        .then(() => maybeLoadScript(\"vega-lite\", \"5.20.1\"))\n",
       "        .then(() => maybeLoadScript(\"vega-embed\", \"6\"))\n",
       "        .catch(showError)\n",
       "        .then(() => displayChart(vegaEmbed));\n",
       "    }\n",
       "  })({\"config\": {\"view\": {\"continuousWidth\": 300, \"continuousHeight\": 300}, \"axis\": {\"labelAngle\": 0}}, \"data\": {\"name\": \"data-bf82f070799bdbbe6c3b1dd59fe7d12d\"}, \"mark\": {\"type\": \"bar\"}, \"encoding\": {\"color\": {\"field\": \"category\", \"scale\": {\"domain\": [\"Beautification\", \"Bike Infrastructure\", \"Lighting\", \"Parks & Recreation\", \"Plants, Gardens, & Sustainability\", \"Schools & Libraries\", \"Security Cameras\", \"Streets & Transportation\"], \"range\": [\"#1f77b4\", \"#ff7f0e\", \"#2ca02c\", \"#d62728\", \"#9467bd\", \"#ffcc00\", \"#e377c2\", \"#7f7f7f\"]}, \"type\": \"nominal\"}, \"tooltip\": [{\"field\": \"year\", \"type\": \"quantitative\"}, {\"aggregate\": \"sum\", \"field\": \"total_cost\", \"format\": \".2f\", \"type\": \"quantitative\"}, {\"field\": \"category\", \"type\": \"nominal\"}], \"x\": {\"field\": \"year\", \"title\": \"Year\", \"type\": \"ordinal\"}, \"y\": {\"aggregate\": \"sum\", \"field\": \"total_cost\", \"title\": \"Total Money Spent ($)\", \"type\": \"quantitative\"}}, \"height\": 400, \"title\": \"Money Spent by Year and Category (2019-2023)\", \"width\": 600, \"$schema\": \"https://vega.github.io/schema/vega-lite/v5.20.1.json\", \"datasets\": {\"data-bf82f070799bdbbe6c3b1dd59fe7d12d\": [{\"year\": 2019, \"category\": \"Beautification\", \"total_cost\": 475637.0}, {\"year\": 2019, \"category\": \"Bike Infrastructure\", \"total_cost\": 219000.0}, {\"year\": 2019, \"category\": \"Lighting\", \"total_cost\": 3456041.0}, {\"year\": 2019, \"category\": \"Parks & Recreation\", \"total_cost\": 1110120.0}, {\"year\": 2019, \"category\": \"Plants, Gardens, & Sustainability\", \"total_cost\": 258371.0}, {\"year\": 2019, \"category\": \"Schools & Libraries\", \"total_cost\": 695000.0}, {\"year\": 2019, \"category\": \"Security Cameras\", \"total_cost\": 965856.0}, {\"year\": 2019, \"category\": \"Streets & Transportation\", \"total_cost\": 55884972.0}, {\"year\": 2020, \"category\": \"Beautification\", \"total_cost\": 218825.0}, {\"year\": 2020, \"category\": \"Bike Infrastructure\", \"total_cost\": 71000.0}, {\"year\": 2020, \"category\": \"Lighting\", \"total_cost\": 6069707.0}, {\"year\": 2020, \"category\": \"Parks & Recreation\", \"total_cost\": 1114975.0}, {\"year\": 2020, \"category\": \"Plants, Gardens, & Sustainability\", \"total_cost\": 190406.0}, {\"year\": 2020, \"category\": \"Schools & Libraries\", \"total_cost\": 926233.0}, {\"year\": 2020, \"category\": \"Security Cameras\", \"total_cost\": 1207779.0}, {\"year\": 2020, \"category\": \"Streets & Transportation\", \"total_cost\": 56155076.0}, {\"year\": 2021, \"category\": \"Beautification\", \"total_cost\": 961918.0}, {\"year\": 2021, \"category\": \"Bike Infrastructure\", \"total_cost\": 452500.0}, {\"year\": 2021, \"category\": \"Lighting\", \"total_cost\": 7480645.0}, {\"year\": 2021, \"category\": \"Parks & Recreation\", \"total_cost\": 2149540.0}, {\"year\": 2021, \"category\": \"Plants, Gardens, & Sustainability\", \"total_cost\": 164000.0}, {\"year\": 2021, \"category\": \"Schools & Libraries\", \"total_cost\": 89750.0}, {\"year\": 2021, \"category\": \"Security Cameras\", \"total_cost\": 4482962.0}, {\"year\": 2021, \"category\": \"Streets & Transportation\", \"total_cost\": 59008589.0}, {\"year\": 2022, \"category\": \"Beautification\", \"total_cost\": 637405.0}, {\"year\": 2022, \"category\": \"Bike Infrastructure\", \"total_cost\": 427500.0}, {\"year\": 2022, \"category\": \"Lighting\", \"total_cost\": 4894523.0}, {\"year\": 2022, \"category\": \"Parks & Recreation\", \"total_cost\": 2190833.0}, {\"year\": 2022, \"category\": \"Plants, Gardens, & Sustainability\", \"total_cost\": 91700.0}, {\"year\": 2022, \"category\": \"Schools & Libraries\", \"total_cost\": 395360.0}, {\"year\": 2022, \"category\": \"Security Cameras\", \"total_cost\": 1551966.0}, {\"year\": 2022, \"category\": \"Streets & Transportation\", \"total_cost\": 63730102.0}, {\"year\": 2023, \"category\": \"Beautification\", \"total_cost\": 468730.0}, {\"year\": 2023, \"category\": \"Bike Infrastructure\", \"total_cost\": 1176263.0}, {\"year\": 2023, \"category\": \"Lighting\", \"total_cost\": 5042751.0}, {\"year\": 2023, \"category\": \"Parks & Recreation\", \"total_cost\": 1077081.0}, {\"year\": 2023, \"category\": \"Plants, Gardens, & Sustainability\", \"total_cost\": 160000.0}, {\"year\": 2023, \"category\": \"Schools & Libraries\", \"total_cost\": 320634.0}, {\"year\": 2023, \"category\": \"Security Cameras\", \"total_cost\": 34000.0}, {\"year\": 2023, \"category\": \"Streets & Transportation\", \"total_cost\": 58317014.0}]}}, {\"mode\": \"vega-lite\"});\n",
       "</script>"
      ],
      "text/plain": [
       "alt.Chart(...)"
      ]
     },
     "metadata": {},
     "output_type": "display_data"
    },
    {
     "data": {
      "text/html": [
       "\n",
       "<style>\n",
       "  #altair-viz-a526e293afbb4d9db6d53550c9d99521.vega-embed {\n",
       "    width: 100%;\n",
       "    display: flex;\n",
       "  }\n",
       "\n",
       "  #altair-viz-a526e293afbb4d9db6d53550c9d99521.vega-embed details,\n",
       "  #altair-viz-a526e293afbb4d9db6d53550c9d99521.vega-embed details summary {\n",
       "    position: relative;\n",
       "  }\n",
       "</style>\n",
       "<div id=\"altair-viz-a526e293afbb4d9db6d53550c9d99521\"></div>\n",
       "<script type=\"text/javascript\">\n",
       "  var VEGA_DEBUG = (typeof VEGA_DEBUG == \"undefined\") ? {} : VEGA_DEBUG;\n",
       "  (function(spec, embedOpt){\n",
       "    let outputDiv = document.currentScript.previousElementSibling;\n",
       "    if (outputDiv.id !== \"altair-viz-a526e293afbb4d9db6d53550c9d99521\") {\n",
       "      outputDiv = document.getElementById(\"altair-viz-a526e293afbb4d9db6d53550c9d99521\");\n",
       "    }\n",
       "\n",
       "    const paths = {\n",
       "      \"vega\": \"https://cdn.jsdelivr.net/npm/vega@5?noext\",\n",
       "      \"vega-lib\": \"https://cdn.jsdelivr.net/npm/vega-lib?noext\",\n",
       "      \"vega-lite\": \"https://cdn.jsdelivr.net/npm/vega-lite@5.20.1?noext\",\n",
       "      \"vega-embed\": \"https://cdn.jsdelivr.net/npm/vega-embed@6?noext\",\n",
       "    };\n",
       "\n",
       "    function maybeLoadScript(lib, version) {\n",
       "      var key = `${lib.replace(\"-\", \"\")}_version`;\n",
       "      return (VEGA_DEBUG[key] == version) ?\n",
       "        Promise.resolve(paths[lib]) :\n",
       "        new Promise(function(resolve, reject) {\n",
       "          var s = document.createElement('script');\n",
       "          document.getElementsByTagName(\"head\")[0].appendChild(s);\n",
       "          s.async = true;\n",
       "          s.onload = () => {\n",
       "            VEGA_DEBUG[key] = version;\n",
       "            return resolve(paths[lib]);\n",
       "          };\n",
       "          s.onerror = () => reject(`Error loading script: ${paths[lib]}`);\n",
       "          s.src = paths[lib];\n",
       "        });\n",
       "    }\n",
       "\n",
       "    function showError(err) {\n",
       "      outputDiv.innerHTML = `<div class=\"error\" style=\"color:red;\">${err}</div>`;\n",
       "      throw err;\n",
       "    }\n",
       "\n",
       "    function displayChart(vegaEmbed) {\n",
       "      vegaEmbed(outputDiv, spec, embedOpt)\n",
       "        .catch(err => showError(`Javascript Error: ${err.message}<br>This usually means there's a typo in your chart specification. See the javascript console for the full traceback.`));\n",
       "    }\n",
       "\n",
       "    if(typeof define === \"function\" && define.amd) {\n",
       "      requirejs.config({paths});\n",
       "      let deps = [\"vega-embed\"];\n",
       "      require(deps, displayChart, err => showError(`Error loading script: ${err.message}`));\n",
       "    } else {\n",
       "      maybeLoadScript(\"vega\", \"5\")\n",
       "        .then(() => maybeLoadScript(\"vega-lite\", \"5.20.1\"))\n",
       "        .then(() => maybeLoadScript(\"vega-embed\", \"6\"))\n",
       "        .catch(showError)\n",
       "        .then(() => displayChart(vegaEmbed));\n",
       "    }\n",
       "  })({\"config\": {\"view\": {\"continuousWidth\": 300, \"continuousHeight\": 300}, \"axis\": {\"labelAngle\": 0}}, \"data\": {\"name\": \"data-71c40fa219a9a1ef9107a46ada6c1590\"}, \"mark\": {\"type\": \"bar\"}, \"encoding\": {\"color\": {\"field\": \"category\", \"scale\": {\"domain\": [\"Beautification\", \"Bike Infrastructure\", \"Lighting\", \"Parks & Recreation\", \"Plants, Gardens, & Sustainability\", \"Schools & Libraries\", \"Security Cameras\", \"Streets & Transportation\"], \"range\": [\"#1f77b4\", \"#ff7f0e\", \"#2ca02c\", \"#d62728\", \"#9467bd\", \"#ffcc00\", \"#e377c2\", \"#7f7f7f\"]}, \"type\": \"nominal\"}, \"tooltip\": [{\"field\": \"ward\", \"type\": \"quantitative\"}, {\"aggregate\": \"sum\", \"field\": \"total_cost\", \"format\": \".2f\", \"type\": \"quantitative\"}, {\"field\": \"category\", \"type\": \"nominal\"}], \"x\": {\"field\": \"ward\", \"title\": \"Ward\", \"type\": \"ordinal\"}, \"y\": {\"aggregate\": \"sum\", \"field\": \"total_cost\", \"title\": \"Total Money Spent ($)\", \"type\": \"quantitative\"}}, \"height\": 400, \"title\": \"Money Spent by Ward and Category\", \"width\": 600, \"$schema\": \"https://vega.github.io/schema/vega-lite/v5.20.1.json\", \"datasets\": {\"data-71c40fa219a9a1ef9107a46ada6c1590\": [{\"ward\": 1, \"category\": \"Beautification\", \"total_cost\": 0.0}, {\"ward\": 1, \"category\": \"Bike Infrastructure\", \"total_cost\": 850000.0}, {\"ward\": 1, \"category\": \"Lighting\", \"total_cost\": 153844.0}, {\"ward\": 1, \"category\": \"Parks & Recreation\", \"total_cost\": 749999.0}, {\"ward\": 1, \"category\": \"Plants, Gardens, & Sustainability\", \"total_cost\": 0.0}, {\"ward\": 1, \"category\": \"Schools & Libraries\", \"total_cost\": 30000.0}, {\"ward\": 1, \"category\": \"Security Cameras\", \"total_cost\": 93137.0}, {\"ward\": 1, \"category\": \"Streets & Transportation\", \"total_cost\": 5263015.0}, {\"ward\": 2, \"category\": \"Beautification\", \"total_cost\": 12625.0}, {\"ward\": 2, \"category\": \"Bike Infrastructure\", \"total_cost\": 0.0}, {\"ward\": 2, \"category\": \"Lighting\", \"total_cost\": 581702.0}, {\"ward\": 2, \"category\": \"Parks & Recreation\", \"total_cost\": 622305.0}, {\"ward\": 2, \"category\": \"Plants, Gardens, & Sustainability\", \"total_cost\": 0.0}, {\"ward\": 2, \"category\": \"Security Cameras\", \"total_cost\": 435269.0}, {\"ward\": 2, \"category\": \"Streets & Transportation\", \"total_cost\": 5265202.0}, {\"ward\": 3, \"category\": \"Beautification\", \"total_cost\": 11500.0}, {\"ward\": 3, \"category\": \"Bike Infrastructure\", \"total_cost\": 0.0}, {\"ward\": 3, \"category\": \"Lighting\", \"total_cost\": 217498.0}, {\"ward\": 3, \"category\": \"Parks & Recreation\", \"total_cost\": 0.0}, {\"ward\": 3, \"category\": \"Plants, Gardens, & Sustainability\", \"total_cost\": 0.0}, {\"ward\": 3, \"category\": \"Security Cameras\", \"total_cost\": 203677.0}, {\"ward\": 3, \"category\": \"Streets & Transportation\", \"total_cost\": 6579885.0}, {\"ward\": 4, \"category\": \"Beautification\", \"total_cost\": 48600.0}, {\"ward\": 4, \"category\": \"Bike Infrastructure\", \"total_cost\": 0.0}, {\"ward\": 4, \"category\": \"Lighting\", \"total_cost\": 242874.0}, {\"ward\": 4, \"category\": \"Parks & Recreation\", \"total_cost\": 412640.0}, {\"ward\": 4, \"category\": \"Plants, Gardens, & Sustainability\", \"total_cost\": 150000.0}, {\"ward\": 4, \"category\": \"Security Cameras\", \"total_cost\": 397062.0}, {\"ward\": 4, \"category\": \"Streets & Transportation\", \"total_cost\": 5888819.0}, {\"ward\": 5, \"category\": \"Beautification\", \"total_cost\": 0.0}, {\"ward\": 5, \"category\": \"Bike Infrastructure\", \"total_cost\": 0.0}, {\"ward\": 5, \"category\": \"Lighting\", \"total_cost\": 2730813.0}, {\"ward\": 5, \"category\": \"Parks & Recreation\", \"total_cost\": 0.0}, {\"ward\": 5, \"category\": \"Plants, Gardens, & Sustainability\", \"total_cost\": 0.0}, {\"ward\": 5, \"category\": \"Security Cameras\", \"total_cost\": 324557.0}, {\"ward\": 5, \"category\": \"Streets & Transportation\", \"total_cost\": 3623267.0}, {\"ward\": 6, \"category\": \"Beautification\", \"total_cost\": 0.0}, {\"ward\": 6, \"category\": \"Bike Infrastructure\", \"total_cost\": 0.0}, {\"ward\": 6, \"category\": \"Lighting\", \"total_cost\": 766449.0}, {\"ward\": 6, \"category\": \"Parks & Recreation\", \"total_cost\": 125000.0}, {\"ward\": 6, \"category\": \"Plants, Gardens, & Sustainability\", \"total_cost\": 0.0}, {\"ward\": 6, \"category\": \"Security Cameras\", \"total_cost\": 74328.0}, {\"ward\": 6, \"category\": \"Streets & Transportation\", \"total_cost\": 6173289.0}, {\"ward\": 7, \"category\": \"Beautification\", \"total_cost\": 29541.0}, {\"ward\": 7, \"category\": \"Bike Infrastructure\", \"total_cost\": 0.0}, {\"ward\": 7, \"category\": \"Lighting\", \"total_cost\": 466000.0}, {\"ward\": 7, \"category\": \"Parks & Recreation\", \"total_cost\": 0.0}, {\"ward\": 7, \"category\": \"Plants, Gardens, & Sustainability\", \"total_cost\": 0.0}, {\"ward\": 7, \"category\": \"Security Cameras\", \"total_cost\": 24776.0}, {\"ward\": 7, \"category\": \"Streets & Transportation\", \"total_cost\": 6291832.0}, {\"ward\": 8, \"category\": \"Beautification\", \"total_cost\": 1000.0}, {\"ward\": 8, \"category\": \"Bike Infrastructure\", \"total_cost\": 0.0}, {\"ward\": 8, \"category\": \"Lighting\", \"total_cost\": 1245748.0}, {\"ward\": 8, \"category\": \"Parks & Recreation\", \"total_cost\": 0.0}, {\"ward\": 8, \"category\": \"Plants, Gardens, & Sustainability\", \"total_cost\": 0.0}, {\"ward\": 8, \"category\": \"Security Cameras\", \"total_cost\": 165793.0}, {\"ward\": 8, \"category\": \"Streets & Transportation\", \"total_cost\": 5310553.0}, {\"ward\": 9, \"category\": \"Beautification\", \"total_cost\": 0.0}, {\"ward\": 9, \"category\": \"Bike Infrastructure\", \"total_cost\": 0.0}, {\"ward\": 9, \"category\": \"Lighting\", \"total_cost\": 500.0}, {\"ward\": 9, \"category\": \"Parks & Recreation\", \"total_cost\": 0.0}, {\"ward\": 9, \"category\": \"Plants, Gardens, & Sustainability\", \"total_cost\": 0.0}, {\"ward\": 9, \"category\": \"Security Cameras\", \"total_cost\": 0.0}, {\"ward\": 9, \"category\": \"Streets & Transportation\", \"total_cost\": 7132454.0}, {\"ward\": 10, \"category\": \"Beautification\", \"total_cost\": 76888.0}, {\"ward\": 10, \"category\": \"Bike Infrastructure\", \"total_cost\": 0.0}, {\"ward\": 10, \"category\": \"Lighting\", \"total_cost\": 4350.0}, {\"ward\": 10, \"category\": \"Parks & Recreation\", \"total_cost\": 0.0}, {\"ward\": 10, \"category\": \"Plants, Gardens, & Sustainability\", \"total_cost\": 0.0}, {\"ward\": 10, \"category\": \"Security Cameras\", \"total_cost\": 87933.0}, {\"ward\": 10, \"category\": \"Streets & Transportation\", \"total_cost\": 6970824.0}, {\"ward\": 11, \"category\": \"Beautification\", \"total_cost\": 208905.0}, {\"ward\": 11, \"category\": \"Bike Infrastructure\", \"total_cost\": 150000.0}, {\"ward\": 11, \"category\": \"Lighting\", \"total_cost\": 226300.0}, {\"ward\": 11, \"category\": \"Parks & Recreation\", \"total_cost\": 172829.0}, {\"ward\": 11, \"category\": \"Plants, Gardens, & Sustainability\", \"total_cost\": 0.0}, {\"ward\": 11, \"category\": \"Security Cameras\", \"total_cost\": 368604.0}, {\"ward\": 11, \"category\": \"Streets & Transportation\", \"total_cost\": 5483427.0}, {\"ward\": 12, \"category\": \"Beautification\", \"total_cost\": 26060.0}, {\"ward\": 12, \"category\": \"Bike Infrastructure\", \"total_cost\": 0.0}, {\"ward\": 12, \"category\": \"Lighting\", \"total_cost\": 553251.0}, {\"ward\": 12, \"category\": \"Parks & Recreation\", \"total_cost\": 0.0}, {\"ward\": 12, \"category\": \"Plants, Gardens, & Sustainability\", \"total_cost\": 0.0}, {\"ward\": 12, \"category\": \"Security Cameras\", \"total_cost\": 147622.0}, {\"ward\": 12, \"category\": \"Streets & Transportation\", \"total_cost\": 6244757.0}, {\"ward\": 13, \"category\": \"Beautification\", \"total_cost\": 0.0}, {\"ward\": 13, \"category\": \"Bike Infrastructure\", \"total_cost\": 0.0}, {\"ward\": 13, \"category\": \"Lighting\", \"total_cost\": 28799.0}, {\"ward\": 13, \"category\": \"Parks & Recreation\", \"total_cost\": 1015000.0}, {\"ward\": 13, \"category\": \"Plants, Gardens, & Sustainability\", \"total_cost\": 0.0}, {\"ward\": 13, \"category\": \"Schools & Libraries\", \"total_cost\": 365000.0}, {\"ward\": 13, \"category\": \"Security Cameras\", \"total_cost\": 1800.0}, {\"ward\": 13, \"category\": \"Streets & Transportation\", \"total_cost\": 5723433.0}, {\"ward\": 14, \"category\": \"Beautification\", \"total_cost\": 0.0}, {\"ward\": 14, \"category\": \"Bike Infrastructure\", \"total_cost\": 0.0}, {\"ward\": 14, \"category\": \"Lighting\", \"total_cost\": 1999.0}, {\"ward\": 14, \"category\": \"Parks & Recreation\", \"total_cost\": 0.0}, {\"ward\": 14, \"category\": \"Plants, Gardens, & Sustainability\", \"total_cost\": 0.0}, {\"ward\": 14, \"category\": \"Security Cameras\", \"total_cost\": 24776.0}, {\"ward\": 14, \"category\": \"Streets & Transportation\", \"total_cost\": 7102329.0}, {\"ward\": 15, \"category\": \"Beautification\", \"total_cost\": 0.0}, {\"ward\": 15, \"category\": \"Bike Infrastructure\", \"total_cost\": 0.0}, {\"ward\": 15, \"category\": \"Lighting\", \"total_cost\": 614376.0}, {\"ward\": 15, \"category\": \"Parks & Recreation\", \"total_cost\": 0.0}, {\"ward\": 15, \"category\": \"Plants, Gardens, & Sustainability\", \"total_cost\": 0.0}, {\"ward\": 15, \"category\": \"Security Cameras\", \"total_cost\": 0.0}, {\"ward\": 15, \"category\": \"Streets & Transportation\", \"total_cost\": 5748375.0}, {\"ward\": 16, \"category\": \"Beautification\", \"total_cost\": 0.0}, {\"ward\": 16, \"category\": \"Bike Infrastructure\", \"total_cost\": 0.0}, {\"ward\": 16, \"category\": \"Lighting\", \"total_cost\": 191000.0}, {\"ward\": 16, \"category\": \"Parks & Recreation\", \"total_cost\": 0.0}, {\"ward\": 16, \"category\": \"Plants, Gardens, & Sustainability\", \"total_cost\": 0.0}, {\"ward\": 16, \"category\": \"Security Cameras\", \"total_cost\": 0.0}, {\"ward\": 16, \"category\": \"Streets & Transportation\", \"total_cost\": 6797335.0}, {\"ward\": 17, \"category\": \"Beautification\", \"total_cost\": 0.0}, {\"ward\": 17, \"category\": \"Bike Infrastructure\", \"total_cost\": 0.0}, {\"ward\": 17, \"category\": \"Lighting\", \"total_cost\": 283000.0}, {\"ward\": 17, \"category\": \"Parks & Recreation\", \"total_cost\": 0.0}, {\"ward\": 17, \"category\": \"Plants, Gardens, & Sustainability\", \"total_cost\": 0.0}, {\"ward\": 17, \"category\": \"Security Cameras\", \"total_cost\": 30261.0}, {\"ward\": 17, \"category\": \"Streets & Transportation\", \"total_cost\": 6814640.0}, {\"ward\": 18, \"category\": \"Beautification\", \"total_cost\": 0.0}, {\"ward\": 18, \"category\": \"Bike Infrastructure\", \"total_cost\": 0.0}, {\"ward\": 18, \"category\": \"Lighting\", \"total_cost\": 27390.0}, {\"ward\": 18, \"category\": \"Parks & Recreation\", \"total_cost\": 0.0}, {\"ward\": 18, \"category\": \"Plants, Gardens, & Sustainability\", \"total_cost\": 0.0}, {\"ward\": 18, \"category\": \"Security Cameras\", \"total_cost\": 5485.0}, {\"ward\": 18, \"category\": \"Streets & Transportation\", \"total_cost\": 7107120.0}, {\"ward\": 19, \"category\": \"Beautification\", \"total_cost\": 0.0}, {\"ward\": 19, \"category\": \"Bike Infrastructure\", \"total_cost\": 0.0}, {\"ward\": 19, \"category\": \"Lighting\", \"total_cost\": 500.0}, {\"ward\": 19, \"category\": \"Parks & Recreation\", \"total_cost\": 191000.0}, {\"ward\": 19, \"category\": \"Plants, Gardens, & Sustainability\", \"total_cost\": 0.0}, {\"ward\": 19, \"category\": \"Security Cameras\", \"total_cost\": 163985.0}, {\"ward\": 19, \"category\": \"Streets & Transportation\", \"total_cost\": 6750207.0}, {\"ward\": 20, \"category\": \"Beautification\", \"total_cost\": 0.0}, {\"ward\": 20, \"category\": \"Bike Infrastructure\", \"total_cost\": 0.0}, {\"ward\": 20, \"category\": \"Lighting\", \"total_cost\": 1696874.0}, {\"ward\": 20, \"category\": \"Parks & Recreation\", \"total_cost\": 0.0}, {\"ward\": 20, \"category\": \"Plants, Gardens, & Sustainability\", \"total_cost\": 0.0}, {\"ward\": 20, \"category\": \"Security Cameras\", \"total_cost\": 0.0}, {\"ward\": 20, \"category\": \"Streets & Transportation\", \"total_cost\": 5198100.0}, {\"ward\": 21, \"category\": \"Beautification\", \"total_cost\": 7800.0}, {\"ward\": 21, \"category\": \"Bike Infrastructure\", \"total_cost\": 0.0}, {\"ward\": 21, \"category\": \"Lighting\", \"total_cost\": 255950.0}, {\"ward\": 21, \"category\": \"Parks & Recreation\", \"total_cost\": 0.0}, {\"ward\": 21, \"category\": \"Plants, Gardens, & Sustainability\", \"total_cost\": 0.0}, {\"ward\": 21, \"category\": \"Security Cameras\", \"total_cost\": 0.0}, {\"ward\": 21, \"category\": \"Streets & Transportation\", \"total_cost\": 6864020.0}, {\"ward\": 22, \"category\": \"Beautification\", \"total_cost\": 0.0}, {\"ward\": 22, \"category\": \"Bike Infrastructure\", \"total_cost\": 0.0}, {\"ward\": 22, \"category\": \"Lighting\", \"total_cost\": 96628.0}, {\"ward\": 22, \"category\": \"Parks & Recreation\", \"total_cost\": 0.0}, {\"ward\": 22, \"category\": \"Plants, Gardens, & Sustainability\", \"total_cost\": 40000.0}, {\"ward\": 22, \"category\": \"Security Cameras\", \"total_cost\": 123880.0}, {\"ward\": 22, \"category\": \"Streets & Transportation\", \"total_cost\": 6357169.0}, {\"ward\": 23, \"category\": \"Beautification\", \"total_cost\": 369194.0}, {\"ward\": 23, \"category\": \"Bike Infrastructure\", \"total_cost\": 0.0}, {\"ward\": 23, \"category\": \"Lighting\", \"total_cost\": 1500.0}, {\"ward\": 23, \"category\": \"Parks & Recreation\", \"total_cost\": 130829.0}, {\"ward\": 23, \"category\": \"Plants, Gardens, & Sustainability\", \"total_cost\": 0.0}, {\"ward\": 23, \"category\": \"Schools & Libraries\", \"total_cost\": 4750.0}, {\"ward\": 23, \"category\": \"Security Cameras\", \"total_cost\": 206345.0}, {\"ward\": 23, \"category\": \"Streets & Transportation\", \"total_cost\": 6291040.0}, {\"ward\": 24, \"category\": \"Beautification\", \"total_cost\": 19943.0}, {\"ward\": 24, \"category\": \"Bike Infrastructure\", \"total_cost\": 0.0}, {\"ward\": 24, \"category\": \"Lighting\", \"total_cost\": 875800.0}, {\"ward\": 24, \"category\": \"Parks & Recreation\", \"total_cost\": 125000.0}, {\"ward\": 24, \"category\": \"Plants, Gardens, & Sustainability\", \"total_cost\": 0.0}, {\"ward\": 24, \"category\": \"Security Cameras\", \"total_cost\": 368104.0}, {\"ward\": 24, \"category\": \"Streets & Transportation\", \"total_cost\": 5569760.0}, {\"ward\": 25, \"category\": \"Beautification\", \"total_cost\": 29039.0}, {\"ward\": 25, \"category\": \"Bike Infrastructure\", \"total_cost\": 0.0}, {\"ward\": 25, \"category\": \"Lighting\", \"total_cost\": 816200.0}, {\"ward\": 25, \"category\": \"Parks & Recreation\", \"total_cost\": 0.0}, {\"ward\": 25, \"category\": \"Plants, Gardens, & Sustainability\", \"total_cost\": 0.0}, {\"ward\": 25, \"category\": \"Security Cameras\", \"total_cost\": 266633.0}, {\"ward\": 25, \"category\": \"Streets & Transportation\", \"total_cost\": 6015312.0}, {\"ward\": 26, \"category\": \"Beautification\", \"total_cost\": 20000.0}, {\"ward\": 26, \"category\": \"Bike Infrastructure\", \"total_cost\": 0.0}, {\"ward\": 26, \"category\": \"Lighting\", \"total_cost\": 226450.0}, {\"ward\": 26, \"category\": \"Parks & Recreation\", \"total_cost\": 0.0}, {\"ward\": 26, \"category\": \"Plants, Gardens, & Sustainability\", \"total_cost\": 0.0}, {\"ward\": 26, \"category\": \"Schools & Libraries\", \"total_cost\": 20000.0}, {\"ward\": 26, \"category\": \"Security Cameras\", \"total_cost\": 100904.0}, {\"ward\": 26, \"category\": \"Streets & Transportation\", \"total_cost\": 6695063.0}, {\"ward\": 27, \"category\": \"Beautification\", \"total_cost\": 103481.0}, {\"ward\": 27, \"category\": \"Bike Infrastructure\", \"total_cost\": 0.0}, {\"ward\": 27, \"category\": \"Lighting\", \"total_cost\": 353500.0}, {\"ward\": 27, \"category\": \"Parks & Recreation\", \"total_cost\": 0.0}, {\"ward\": 27, \"category\": \"Plants, Gardens, & Sustainability\", \"total_cost\": 0.0}, {\"ward\": 27, \"category\": \"Security Cameras\", \"total_cost\": 524707.0}, {\"ward\": 27, \"category\": \"Streets & Transportation\", \"total_cost\": 5261938.0}, {\"ward\": 28, \"category\": \"Beautification\", \"total_cost\": 0.0}, {\"ward\": 28, \"category\": \"Bike Infrastructure\", \"total_cost\": 0.0}, {\"ward\": 28, \"category\": \"Lighting\", \"total_cost\": 4117594.0}, {\"ward\": 28, \"category\": \"Parks & Recreation\", \"total_cost\": 25000.0}, {\"ward\": 28, \"category\": \"Plants, Gardens, & Sustainability\", \"total_cost\": 0.0}, {\"ward\": 28, \"category\": \"Security Cameras\", \"total_cost\": 10600.0}, {\"ward\": 28, \"category\": \"Streets & Transportation\", \"total_cost\": 2831524.0}, {\"ward\": 29, \"category\": \"Beautification\", \"total_cost\": 155649.0}, {\"ward\": 29, \"category\": \"Bike Infrastructure\", \"total_cost\": 0.0}, {\"ward\": 29, \"category\": \"Lighting\", \"total_cost\": 4999.0}, {\"ward\": 29, \"category\": \"Parks & Recreation\", \"total_cost\": 153800.0}, {\"ward\": 29, \"category\": \"Plants, Gardens, & Sustainability\", \"total_cost\": 61700.0}, {\"ward\": 29, \"category\": \"Schools & Libraries\", \"total_cost\": 75000.0}, {\"ward\": 29, \"category\": \"Security Cameras\", \"total_cost\": 104904.0}, {\"ward\": 29, \"category\": \"Streets & Transportation\", \"total_cost\": 6583942.0}, {\"ward\": 30, \"category\": \"Beautification\", \"total_cost\": 0.0}, {\"ward\": 30, \"category\": \"Bike Infrastructure\", \"total_cost\": 0.0}, {\"ward\": 30, \"category\": \"Lighting\", \"total_cost\": 836110.0}, {\"ward\": 30, \"category\": \"Parks & Recreation\", \"total_cost\": 0.0}, {\"ward\": 30, \"category\": \"Plants, Gardens, & Sustainability\", \"total_cost\": 0.0}, {\"ward\": 30, \"category\": \"Security Cameras\", \"total_cost\": 26576.0}, {\"ward\": 30, \"category\": \"Streets & Transportation\", \"total_cost\": 6219624.0}, {\"ward\": 31, \"category\": \"Beautification\", \"total_cost\": 0.0}, {\"ward\": 31, \"category\": \"Bike Infrastructure\", \"total_cost\": 0.0}, {\"ward\": 31, \"category\": \"Lighting\", \"total_cost\": 926700.0}, {\"ward\": 31, \"category\": \"Parks & Recreation\", \"total_cost\": 0.0}, {\"ward\": 31, \"category\": \"Plants, Gardens, & Sustainability\", \"total_cost\": 0.0}, {\"ward\": 31, \"category\": \"Security Cameras\", \"total_cost\": 288775.0}, {\"ward\": 31, \"category\": \"Streets & Transportation\", \"total_cost\": 5924520.0}, {\"ward\": 32, \"category\": \"Beautification\", \"total_cost\": 0.0}, {\"ward\": 32, \"category\": \"Bike Infrastructure\", \"total_cost\": 0.0}, {\"ward\": 32, \"category\": \"Lighting\", \"total_cost\": 50000.0}, {\"ward\": 32, \"category\": \"Parks & Recreation\", \"total_cost\": 200000.0}, {\"ward\": 32, \"category\": \"Plants, Gardens, & Sustainability\", \"total_cost\": 0.0}, {\"ward\": 32, \"category\": \"Schools & Libraries\", \"total_cost\": 500000.0}, {\"ward\": 32, \"category\": \"Security Cameras\", \"total_cost\": 123680.0}, {\"ward\": 32, \"category\": \"Streets & Transportation\", \"total_cost\": 6212624.0}, {\"ward\": 33, \"category\": \"Beautification\", \"total_cost\": 0.0}, {\"ward\": 33, \"category\": \"Bike Infrastructure\", \"total_cost\": 297763.0}, {\"ward\": 33, \"category\": \"Lighting\", \"total_cost\": 44500.0}, {\"ward\": 33, \"category\": \"Parks & Recreation\", \"total_cost\": 505000.0}, {\"ward\": 33, \"category\": \"Plants, Gardens, & Sustainability\", \"total_cost\": 75000.0}, {\"ward\": 33, \"category\": \"Schools & Libraries\", \"total_cost\": 317000.0}, {\"ward\": 33, \"category\": \"Security Cameras\", \"total_cost\": 67426.0}, {\"ward\": 33, \"category\": \"Streets & Transportation\", \"total_cost\": 5758193.0}, {\"ward\": 34, \"category\": \"Beautification\", \"total_cost\": 15400.0}, {\"ward\": 34, \"category\": \"Bike Infrastructure\", \"total_cost\": 0.0}, {\"ward\": 34, \"category\": \"Lighting\", \"total_cost\": 268000.0}, {\"ward\": 34, \"category\": \"Parks & Recreation\", \"total_cost\": 0.0}, {\"ward\": 34, \"category\": \"Plants, Gardens, & Sustainability\", \"total_cost\": 0.0}, {\"ward\": 34, \"category\": \"Security Cameras\", \"total_cost\": 0.0}, {\"ward\": 34, \"category\": \"Streets & Transportation\", \"total_cost\": 5750429.0}, {\"ward\": 35, \"category\": \"Beautification\", \"total_cost\": 368933.0}, {\"ward\": 35, \"category\": \"Bike Infrastructure\", \"total_cost\": 224500.0}, {\"ward\": 35, \"category\": \"Lighting\", \"total_cost\": 153350.0}, {\"ward\": 35, \"category\": \"Parks & Recreation\", \"total_cost\": 280000.0}, {\"ward\": 35, \"category\": \"Plants, Gardens, & Sustainability\", \"total_cost\": 7275.0}, {\"ward\": 35, \"category\": \"Schools & Libraries\", \"total_cost\": 218500.0}, {\"ward\": 35, \"category\": \"Security Cameras\", \"total_cost\": 281039.0}, {\"ward\": 35, \"category\": \"Streets & Transportation\", \"total_cost\": 5175979.0}, {\"ward\": 36, \"category\": \"Beautification\", \"total_cost\": 0.0}, {\"ward\": 36, \"category\": \"Bike Infrastructure\", \"total_cost\": 0.0}, {\"ward\": 36, \"category\": \"Lighting\", \"total_cost\": 43863.0}, {\"ward\": 36, \"category\": \"Parks & Recreation\", \"total_cost\": 0.0}, {\"ward\": 36, \"category\": \"Plants, Gardens, & Sustainability\", \"total_cost\": 0.0}, {\"ward\": 36, \"category\": \"Schools & Libraries\", \"total_cost\": 145000.0}, {\"ward\": 36, \"category\": \"Security Cameras\", \"total_cost\": 24776.0}, {\"ward\": 36, \"category\": \"Streets & Transportation\", \"total_cost\": 6877228.0}, {\"ward\": 37, \"category\": \"Beautification\", \"total_cost\": 29357.0}, {\"ward\": 37, \"category\": \"Bike Infrastructure\", \"total_cost\": 0.0}, {\"ward\": 37, \"category\": \"Lighting\", \"total_cost\": 1230950.0}, {\"ward\": 37, \"category\": \"Parks & Recreation\", \"total_cost\": 0.0}, {\"ward\": 37, \"category\": \"Plants, Gardens, & Sustainability\", \"total_cost\": 0.0}, {\"ward\": 37, \"category\": \"Security Cameras\", \"total_cost\": 49552.0}, {\"ward\": 37, \"category\": \"Streets & Transportation\", \"total_cost\": 5360681.0}, {\"ward\": 38, \"category\": \"Beautification\", \"total_cost\": 0.0}, {\"ward\": 38, \"category\": \"Bike Infrastructure\", \"total_cost\": 0.0}, {\"ward\": 38, \"category\": \"Lighting\", \"total_cost\": 4000.0}, {\"ward\": 38, \"category\": \"Parks & Recreation\", \"total_cost\": 470000.0}, {\"ward\": 38, \"category\": \"Plants, Gardens, & Sustainability\", \"total_cost\": 0.0}, {\"ward\": 38, \"category\": \"Schools & Libraries\", \"total_cost\": 10000.0}, {\"ward\": 38, \"category\": \"Security Cameras\", \"total_cost\": 24776.0}, {\"ward\": 38, \"category\": \"Streets & Transportation\", \"total_cost\": 6255457.0}, {\"ward\": 39, \"category\": \"Beautification\", \"total_cost\": 193100.0}, {\"ward\": 39, \"category\": \"Bike Infrastructure\", \"total_cost\": 150000.0}, {\"ward\": 39, \"category\": \"Lighting\", \"total_cost\": 5750.0}, {\"ward\": 39, \"category\": \"Parks & Recreation\", \"total_cost\": 480616.0}, {\"ward\": 39, \"category\": \"Plants, Gardens, & Sustainability\", \"total_cost\": 0.0}, {\"ward\": 39, \"category\": \"Schools & Libraries\", \"total_cost\": 511233.0}, {\"ward\": 39, \"category\": \"Security Cameras\", \"total_cost\": 159427.0}, {\"ward\": 39, \"category\": \"Streets & Transportation\", \"total_cost\": 5528738.0}, {\"ward\": 40, \"category\": \"Beautification\", \"total_cost\": 146136.0}, {\"ward\": 40, \"category\": \"Bike Infrastructure\", \"total_cost\": 23000.0}, {\"ward\": 40, \"category\": \"Lighting\", \"total_cost\": 2999.0}, {\"ward\": 40, \"category\": \"Parks & Recreation\", \"total_cost\": 390000.0}, {\"ward\": 40, \"category\": \"Plants, Gardens, & Sustainability\", \"total_cost\": 176500.0}, {\"ward\": 40, \"category\": \"Security Cameras\", \"total_cost\": 236389.0}, {\"ward\": 40, \"category\": \"Streets & Transportation\", \"total_cost\": 5758935.0}, {\"ward\": 41, \"category\": \"Beautification\", \"total_cost\": 0.0}, {\"ward\": 41, \"category\": \"Bike Infrastructure\", \"total_cost\": 0.0}, {\"ward\": 41, \"category\": \"Lighting\", \"total_cost\": 500.0}, {\"ward\": 41, \"category\": \"Parks & Recreation\", \"total_cost\": 0.0}, {\"ward\": 41, \"category\": \"Plants, Gardens, & Sustainability\", \"total_cost\": 0.0}, {\"ward\": 41, \"category\": \"Security Cameras\", \"total_cost\": 60523.0}, {\"ward\": 41, \"category\": \"Streets & Transportation\", \"total_cost\": 7014819.0}, {\"ward\": 42, \"category\": \"Beautification\", \"total_cost\": 376024.0}, {\"ward\": 42, \"category\": \"Bike Infrastructure\", \"total_cost\": 0.0}, {\"ward\": 42, \"category\": \"Lighting\", \"total_cost\": 2064045.0}, {\"ward\": 42, \"category\": \"Parks & Recreation\", \"total_cost\": 61275.0}, {\"ward\": 42, \"category\": \"Plants, Gardens, & Sustainability\", \"total_cost\": 0.0}, {\"ward\": 42, \"category\": \"Security Cameras\", \"total_cost\": 1314740.0}, {\"ward\": 42, \"category\": \"Streets & Transportation\", \"total_cost\": 2824145.0}, {\"ward\": 43, \"category\": \"Beautification\", \"total_cost\": 40576.0}, {\"ward\": 43, \"category\": \"Bike Infrastructure\", \"total_cost\": 0.0}, {\"ward\": 43, \"category\": \"Lighting\", \"total_cost\": 176117.0}, {\"ward\": 43, \"category\": \"Parks & Recreation\", \"total_cost\": 417701.0}, {\"ward\": 43, \"category\": \"Plants, Gardens, & Sustainability\", \"total_cost\": 10000.0}, {\"ward\": 43, \"category\": \"Schools & Libraries\", \"total_cost\": 25000.0}, {\"ward\": 43, \"category\": \"Security Cameras\", \"total_cost\": 421188.0}, {\"ward\": 43, \"category\": \"Streets & Transportation\", \"total_cost\": 5112219.0}, {\"ward\": 44, \"category\": \"Beautification\", \"total_cost\": 1200.0}, {\"ward\": 44, \"category\": \"Bike Infrastructure\", \"total_cost\": 0.0}, {\"ward\": 44, \"category\": \"Lighting\", \"total_cost\": 552143.0}, {\"ward\": 44, \"category\": \"Parks & Recreation\", \"total_cost\": 60000.0}, {\"ward\": 44, \"category\": \"Plants, Gardens, & Sustainability\", \"total_cost\": 0.0}, {\"ward\": 44, \"category\": \"Schools & Libraries\", \"total_cost\": 100000.0}, {\"ward\": 44, \"category\": \"Security Cameras\", \"total_cost\": 136305.0}, {\"ward\": 44, \"category\": \"Streets & Transportation\", \"total_cost\": 6001084.0}, {\"ward\": 45, \"category\": \"Beautification\", \"total_cost\": 0.0}, {\"ward\": 45, \"category\": \"Bike Infrastructure\", \"total_cost\": 0.0}, {\"ward\": 45, \"category\": \"Lighting\", \"total_cost\": 2500.0}, {\"ward\": 45, \"category\": \"Parks & Recreation\", \"total_cost\": 0.0}, {\"ward\": 45, \"category\": \"Plants, Gardens, & Sustainability\", \"total_cost\": 0.0}, {\"ward\": 45, \"category\": \"Security Cameras\", \"total_cost\": 169377.0}, {\"ward\": 45, \"category\": \"Streets & Transportation\", \"total_cost\": 6959044.0}, {\"ward\": 46, \"category\": \"Beautification\", \"total_cost\": 266464.0}, {\"ward\": 46, \"category\": \"Bike Infrastructure\", \"total_cost\": 17500.0}, {\"ward\": 46, \"category\": \"Lighting\", \"total_cost\": 960500.0}, {\"ward\": 46, \"category\": \"Parks & Recreation\", \"total_cost\": 100000.0}, {\"ward\": 46, \"category\": \"Plants, Gardens, & Sustainability\", \"total_cost\": 0.0}, {\"ward\": 46, \"category\": \"Security Cameras\", \"total_cost\": 127380.0}, {\"ward\": 46, \"category\": \"Streets & Transportation\", \"total_cost\": 5302732.0}, {\"ward\": 47, \"category\": \"Beautification\", \"total_cost\": 60300.0}, {\"ward\": 47, \"category\": \"Bike Infrastructure\", \"total_cost\": 536500.0}, {\"ward\": 47, \"category\": \"Lighting\", \"total_cost\": 255549.0}, {\"ward\": 47, \"category\": \"Parks & Recreation\", \"total_cost\": 184000.0}, {\"ward\": 47, \"category\": \"Plants, Gardens, & Sustainability\", \"total_cost\": 40000.0}, {\"ward\": 47, \"category\": \"Schools & Libraries\", \"total_cost\": 15495.0}, {\"ward\": 47, \"category\": \"Security Cameras\", \"total_cost\": 0.0}, {\"ward\": 47, \"category\": \"Streets & Transportation\", \"total_cost\": 5651216.0}, {\"ward\": 48, \"category\": \"Beautification\", \"total_cost\": 23800.0}, {\"ward\": 48, \"category\": \"Bike Infrastructure\", \"total_cost\": 17000.0}, {\"ward\": 48, \"category\": \"Lighting\", \"total_cost\": 394400.0}, {\"ward\": 48, \"category\": \"Parks & Recreation\", \"total_cost\": 75000.0}, {\"ward\": 48, \"category\": \"Plants, Gardens, & Sustainability\", \"total_cost\": 200002.0}, {\"ward\": 48, \"category\": \"Schools & Libraries\", \"total_cost\": 89999.0}, {\"ward\": 48, \"category\": \"Security Cameras\", \"total_cost\": 420672.0}, {\"ward\": 48, \"category\": \"Streets & Transportation\", \"total_cost\": 5039298.0}, {\"ward\": 49, \"category\": \"Beautification\", \"total_cost\": 121000.0}, {\"ward\": 49, \"category\": \"Bike Infrastructure\", \"total_cost\": 80000.0}, {\"ward\": 49, \"category\": \"Lighting\", \"total_cost\": 646666.0}, {\"ward\": 49, \"category\": \"Parks & Recreation\", \"total_cost\": 695555.0}, {\"ward\": 49, \"category\": \"Plants, Gardens, & Sustainability\", \"total_cost\": 104000.0}, {\"ward\": 49, \"category\": \"Security Cameras\", \"total_cost\": 54820.0}, {\"ward\": 49, \"category\": \"Streets & Transportation\", \"total_cost\": 5101837.0}, {\"ward\": 50, \"category\": \"Beautification\", \"total_cost\": 0.0}, {\"ward\": 50, \"category\": \"Bike Infrastructure\", \"total_cost\": 0.0}, {\"ward\": 50, \"category\": \"Lighting\", \"total_cost\": 1543137.0}, {\"ward\": 50, \"category\": \"Parks & Recreation\", \"total_cost\": 0.0}, {\"ward\": 50, \"category\": \"Plants, Gardens, & Sustainability\", \"total_cost\": 0.0}, {\"ward\": 50, \"category\": \"Security Cameras\", \"total_cost\": 0.0}, {\"ward\": 50, \"category\": \"Streets & Transportation\", \"total_cost\": 5328320.0}]}}, {\"mode\": \"vega-lite\"});\n",
       "</script>"
      ],
      "text/plain": [
       "alt.Chart(...)"
      ]
     },
     "metadata": {},
     "output_type": "display_data"
    }
   ],
   "source": [
    "import csv\n",
    "import pathlib\n",
    "from collections import defaultdict\n",
    "import altair as alt\n",
    "import pandas as pd\n",
    "\n",
    "# CSV file path\n",
    "csv_file = pathlib.Path.cwd().parent.parent / \"30122-project-gitmoney\" / \"data\" / \"calls_money.csv\"\n",
    "print(f\"File path: {csv_file}\")\n",
    "\n",
    "def plot_calls_by_year_and_ward(csv_file: pathlib.Path):\n",
    "    \"\"\"\n",
    "    Plot four separate stacked bar charts: calls and money spent by year and ward, categorized.\n",
    "\n",
    "    Parameters:\n",
    "        csv_file (Path): Path to CSV file with year, ward, category, calls, and total_cost\n",
    "\n",
    "    Returns:\n",
    "        None (displays four plots)\n",
    "    \"\"\"\n",
    "    # Load CSV data directly into a pandas DataFrame\n",
    "    df = pd.read_csv(csv_file)\n",
    "\n",
    "    # Convert 'year' and 'ward' columns to integer type, 'calls' and 'total_cost' to float\n",
    "    df['year'] = df['year'].astype(int)\n",
    "    df['ward'] = df['ward'].astype(int)\n",
    "    df['calls'] = df['calls'].astype(float)\n",
    "    df['total_cost'] = df['total_cost'].astype(float)\n",
    "\n",
    "    # Filter data for years 2019-2023\n",
    "    df = df[(df['year'] >= 2019) & (df['year'] <= 2023)]\n",
    "\n",
    "    # Aggregating calls and money by year, ward, and category\n",
    "    calls_by_year = df.groupby(['year', 'category'])['calls'].sum().reset_index()\n",
    "    money_by_year = df.groupby(['year', 'category'])['total_cost'].sum().reset_index()\n",
    "    calls_by_ward = df.groupby(['ward', 'category'])['calls'].sum().reset_index()\n",
    "    money_by_ward = df.groupby(['ward', 'category'])['total_cost'].sum().reset_index()\n",
    "\n",
    "    # Define the color palette for the categories\n",
    "    color_palette = [\n",
    "        '#1f77b4', '#ff7f0e', '#2ca02c', '#d62728', '#9467bd', \n",
    "        '#ffcc00', '#e377c2', '#7f7f7f', '#17becf', '#75701F'\n",
    "    ]\n",
    "    categories = df['category'].unique()\n",
    "    category_colors = {cat: color_palette[i % len(color_palette)] for i, cat in enumerate(categories)}\n",
    "\n",
    "    # Function to plot the stacked bar chart using Altair\n",
    "    def plot_stacked_bars(data, x_col, y_col, color_col, title, x_label, y_label):\n",
    "        chart = alt.Chart(data).mark_bar().encode(\n",
    "            x=alt.X(f'{x_col}:O', title=x_label),  # Use ordinal encoding for x-axis\n",
    "            y=alt.Y(f'sum({y_col}):Q', title=y_label),  # Use sum aggregation for y-axis\n",
    "            color=alt.Color(color_col, scale=alt.Scale(domain=list(category_colors.keys()), range=list(category_colors.values()))),\n",
    "            tooltip=[x_col, alt.Tooltip(f'sum({y_col}):Q', format='.2f'), color_col]\n",
    "        ).properties(\n",
    "            title=title,\n",
    "            width=600,  # Set a fixed width for better visibility\n",
    "            height=400  # Set a fixed height for better visibility\n",
    "        ).configure_axis(\n",
    "            labelAngle=0\n",
    "        )\n",
    "        return chart\n",
    "\n",
    "    # Plot each of the four separate charts\n",
    "    charts = [\n",
    "        plot_stacked_bars(calls_by_year, 'year', 'calls', 'category', '311 Calls by Year and Category (2019-2023)', 'Year', 'Number of 311 Calls'),\n",
    "        plot_stacked_bars(calls_by_ward, 'ward', 'calls', 'category', '311 Calls by Ward and Category', 'Ward', 'Number of 311 Calls'),\n",
    "        plot_stacked_bars(money_by_year, 'year', 'total_cost', 'category', 'Money Spent by Year and Category (2019-2023)', 'Year', 'Total Money Spent ($)'),\n",
    "        plot_stacked_bars(money_by_ward, 'ward', 'total_cost', 'category', 'Money Spent by Ward and Category', 'Ward', 'Total Money Spent ($)')\n",
    "    ]\n",
    "\n",
    "    # Display all charts\n",
    "    for chart in charts:\n",
    "        chart.show()\n",
    "\n",
    "# Run the real data\n",
    "if __name__ == \"__main__\":\n",
    "    plot_calls_by_year_and_ward(csv_file)\n"
   ]
  }
 ],
 "metadata": {
  "kernelspec": {
   "display_name": ".venv",
   "language": "python",
   "name": "python3"
  },
  "language_info": {
   "codemirror_mode": {
    "name": "ipython",
    "version": 3
   },
   "file_extension": ".py",
   "mimetype": "text/x-python",
   "name": "python",
   "nbconvert_exporter": "python",
   "pygments_lexer": "ipython3",
   "version": "3.13.1"
  }
 },
 "nbformat": 4,
 "nbformat_minor": 2
}
