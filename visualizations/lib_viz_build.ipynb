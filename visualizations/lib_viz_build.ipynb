{
 "cells": [
  {
   "cell_type": "code",
   "execution_count": 4,
   "metadata": {},
   "outputs": [],
   "source": [
    "from colors import cat_colors\n",
    "import pandas as pd\n",
    "import altair as alt\n",
    "import matplotlib.pyplot as plt\n",
    "import csv\n"
   ]
  },
  {
   "cell_type": "code",
   "execution_count": 69,
   "metadata": {},
   "outputs": [],
   "source": [
    "cat_colors_df = pd.DataFrame([list(cat_colors.keys()), list(cat_colors.values())])\n",
    "\n",
    "cat_colors_df = cat_colors_df.transpose().rename(columns={0: \"category\", 1: \"color\"})"
   ]
  },
  {
   "cell_type": "markdown",
   "metadata": {},
   "source": [
    "What category of menu money spending is most prevalent? \n",
    "Query: group by (category) summarize (project cost, (count(total projects))\n",
    "\n",
    "What’s the average cost of a project per category? Per ward? \n",
    "Query: group by (category, year) MEAN (project cost) \n",
    "\n",
    "How many projects are funded every year PER ward?\n",
    "Query: group by (category, year, ward), summarize (count(total projects))"
   ]
  },
  {
   "cell_type": "code",
   "execution_count": 73,
   "metadata": {},
   "outputs": [],
   "source": [
    "calls_money = pd.read_csv(\"../data/calls_money.csv\")\n",
    "\n",
    "calls_money[\"year\"] = pd.to_numeric(calls_money[\"year\"])\n",
    "\n",
    "calls_money_18_23 = calls_money.query('year >= 2018 and year <= 2023')\n",
    "\n",
    "calls_money_18_23 = calls_money_18_23.merge(cat_colors_df, on=\"category\")"
   ]
  },
  {
   "cell_type": "code",
   "execution_count": null,
   "metadata": {},
   "outputs": [
    {
     "data": {
      "text/html": [
       "<div>\n",
       "<style scoped>\n",
       "    .dataframe tbody tr th:only-of-type {\n",
       "        vertical-align: middle;\n",
       "    }\n",
       "\n",
       "    .dataframe tbody tr th {\n",
       "        vertical-align: top;\n",
       "    }\n",
       "\n",
       "    .dataframe thead th {\n",
       "        text-align: right;\n",
       "    }\n",
       "</style>\n",
       "<table border=\"1\" class=\"dataframe\">\n",
       "  <thead>\n",
       "    <tr style=\"text-align: right;\">\n",
       "      <th></th>\n",
       "      <th>category</th>\n",
       "      <th>count</th>\n",
       "      <th>color</th>\n",
       "    </tr>\n",
       "  </thead>\n",
       "  <tbody>\n",
       "    <tr>\n",
       "      <th>0</th>\n",
       "      <td>Beautification</td>\n",
       "      <td>268</td>\n",
       "      <td>#8B648B</td>\n",
       "    </tr>\n",
       "    <tr>\n",
       "      <th>1</th>\n",
       "      <td>Bike Infrastructure</td>\n",
       "      <td>238</td>\n",
       "      <td>#F8C8F1</td>\n",
       "    </tr>\n",
       "    <tr>\n",
       "      <th>2</th>\n",
       "      <td>Lighting</td>\n",
       "      <td>300</td>\n",
       "      <td>#E89545</td>\n",
       "    </tr>\n",
       "    <tr>\n",
       "      <th>3</th>\n",
       "      <td>Parks &amp; Recreation</td>\n",
       "      <td>252</td>\n",
       "      <td>#5DB7B7</td>\n",
       "    </tr>\n",
       "    <tr>\n",
       "      <th>4</th>\n",
       "      <td>Plants, Gardens, &amp; Sustainability</td>\n",
       "      <td>300</td>\n",
       "      <td>#82B65B</td>\n",
       "    </tr>\n",
       "    <tr>\n",
       "      <th>5</th>\n",
       "      <td>Schools &amp; Libraries</td>\n",
       "      <td>33</td>\n",
       "      <td>#cdcb44</td>\n",
       "    </tr>\n",
       "    <tr>\n",
       "      <th>6</th>\n",
       "      <td>Security Cameras</td>\n",
       "      <td>273</td>\n",
       "      <td>#294896</td>\n",
       "    </tr>\n",
       "    <tr>\n",
       "      <th>7</th>\n",
       "      <td>Streets &amp; Transportation</td>\n",
       "      <td>300</td>\n",
       "      <td>#BE5151</td>\n",
       "    </tr>\n",
       "  </tbody>\n",
       "</table>\n",
       "</div>"
      ],
      "text/plain": [
       "                            category  count    color\n",
       "0                     Beautification    268  #8B648B\n",
       "1                Bike Infrastructure    238  #F8C8F1\n",
       "2                           Lighting    300  #E89545\n",
       "3                 Parks & Recreation    252  #5DB7B7\n",
       "4  Plants, Gardens, & Sustainability    300  #82B65B\n",
       "5                Schools & Libraries     33  #cdcb44\n",
       "6                   Security Cameras    273  #294896\n",
       "7           Streets & Transportation    300  #BE5151"
      ]
     },
     "execution_count": 72,
     "metadata": {},
     "output_type": "execute_result"
    }
   ],
   "source": [
    "count_cats = pd.DataFrame(calls_money_18_23.groupby('category').size().rename('count').reset_index())\n",
    "\n",
    "count_cats\n"
   ]
  },
  {
   "cell_type": "code",
   "execution_count": 74,
   "metadata": {},
   "outputs": [
    {
     "data": {
      "text/html": [
       "\n",
       "<style>\n",
       "  #altair-viz-03cbd445980644b0bf82be63c25b2116.vega-embed {\n",
       "    width: 100%;\n",
       "    display: flex;\n",
       "  }\n",
       "\n",
       "  #altair-viz-03cbd445980644b0bf82be63c25b2116.vega-embed details,\n",
       "  #altair-viz-03cbd445980644b0bf82be63c25b2116.vega-embed details summary {\n",
       "    position: relative;\n",
       "  }\n",
       "</style>\n",
       "<div id=\"altair-viz-03cbd445980644b0bf82be63c25b2116\"></div>\n",
       "<script type=\"text/javascript\">\n",
       "  var VEGA_DEBUG = (typeof VEGA_DEBUG == \"undefined\") ? {} : VEGA_DEBUG;\n",
       "  (function(spec, embedOpt){\n",
       "    let outputDiv = document.currentScript.previousElementSibling;\n",
       "    if (outputDiv.id !== \"altair-viz-03cbd445980644b0bf82be63c25b2116\") {\n",
       "      outputDiv = document.getElementById(\"altair-viz-03cbd445980644b0bf82be63c25b2116\");\n",
       "    }\n",
       "\n",
       "    const paths = {\n",
       "      \"vega\": \"https://cdn.jsdelivr.net/npm/vega@5?noext\",\n",
       "      \"vega-lib\": \"https://cdn.jsdelivr.net/npm/vega-lib?noext\",\n",
       "      \"vega-lite\": \"https://cdn.jsdelivr.net/npm/vega-lite@5.20.1?noext\",\n",
       "      \"vega-embed\": \"https://cdn.jsdelivr.net/npm/vega-embed@6?noext\",\n",
       "    };\n",
       "\n",
       "    function maybeLoadScript(lib, version) {\n",
       "      var key = `${lib.replace(\"-\", \"\")}_version`;\n",
       "      return (VEGA_DEBUG[key] == version) ?\n",
       "        Promise.resolve(paths[lib]) :\n",
       "        new Promise(function(resolve, reject) {\n",
       "          var s = document.createElement('script');\n",
       "          document.getElementsByTagName(\"head\")[0].appendChild(s);\n",
       "          s.async = true;\n",
       "          s.onload = () => {\n",
       "            VEGA_DEBUG[key] = version;\n",
       "            return resolve(paths[lib]);\n",
       "          };\n",
       "          s.onerror = () => reject(`Error loading script: ${paths[lib]}`);\n",
       "          s.src = paths[lib];\n",
       "        });\n",
       "    }\n",
       "\n",
       "    function showError(err) {\n",
       "      outputDiv.innerHTML = `<div class=\"error\" style=\"color:red;\">${err}</div>`;\n",
       "      throw err;\n",
       "    }\n",
       "\n",
       "    function displayChart(vegaEmbed) {\n",
       "      vegaEmbed(outputDiv, spec, embedOpt)\n",
       "        .catch(err => showError(`Javascript Error: ${err.message}<br>This usually means there's a typo in your chart specification. See the javascript console for the full traceback.`));\n",
       "    }\n",
       "\n",
       "    if(typeof define === \"function\" && define.amd) {\n",
       "      requirejs.config({paths});\n",
       "      let deps = [\"vega-embed\"];\n",
       "      require(deps, displayChart, err => showError(`Error loading script: ${err.message}`));\n",
       "    } else {\n",
       "      maybeLoadScript(\"vega\", \"5\")\n",
       "        .then(() => maybeLoadScript(\"vega-lite\", \"5.20.1\"))\n",
       "        .then(() => maybeLoadScript(\"vega-embed\", \"6\"))\n",
       "        .catch(showError)\n",
       "        .then(() => displayChart(vegaEmbed));\n",
       "    }\n",
       "  })({\"config\": {\"view\": {\"continuousWidth\": 300, \"continuousHeight\": 300}}, \"data\": {\"name\": \"data-921fd293a96b271cdedf6264183ec95a\"}, \"mark\": {\"type\": \"bar\"}, \"encoding\": {\"color\": {\"field\": \"color\", \"scale\": null, \"type\": \"nominal\"}, \"x\": {\"field\": \"category\", \"type\": \"nominal\"}, \"y\": {\"field\": \"count\", \"type\": \"quantitative\"}}, \"$schema\": \"https://vega.github.io/schema/vega-lite/v5.20.1.json\", \"datasets\": {\"data-921fd293a96b271cdedf6264183ec95a\": [{\"category\": \"Beautification\", \"count\": 268, \"color\": \"#8B648B\"}, {\"category\": \"Bike Infrastructure\", \"count\": 238, \"color\": \"#F8C8F1\"}, {\"category\": \"Lighting\", \"count\": 300, \"color\": \"#E89545\"}, {\"category\": \"Parks & Recreation\", \"count\": 252, \"color\": \"#5DB7B7\"}, {\"category\": \"Plants, Gardens, & Sustainability\", \"count\": 300, \"color\": \"#82B65B\"}, {\"category\": \"Schools & Libraries\", \"count\": 33, \"color\": \"#cdcb44\"}, {\"category\": \"Security Cameras\", \"count\": 273, \"color\": \"#294896\"}, {\"category\": \"Streets & Transportation\", \"count\": 300, \"color\": \"#BE5151\"}]}}, {\"mode\": \"vega-lite\"});\n",
       "</script>"
      ],
      "text/plain": [
       "alt.Chart(...)"
      ]
     },
     "execution_count": 74,
     "metadata": {},
     "output_type": "execute_result"
    }
   ],
   "source": [
    "alt.Chart(count_cats).mark_bar().encode(\n",
    "    x='category',\n",
    "    y='count'\n",
    ").encode(\n",
    "    x='category',\n",
    "    color=alt.Color('color').scale(None)\n",
    ")\n"
   ]
  }
 ],
 "metadata": {
  "kernelspec": {
   "display_name": ".venv",
   "language": "python",
   "name": "python3"
  },
  "language_info": {
   "codemirror_mode": {
    "name": "ipython",
    "version": 3
   },
   "file_extension": ".py",
   "mimetype": "text/x-python",
   "name": "python",
   "nbconvert_exporter": "python",
   "pygments_lexer": "ipython3",
   "version": "3.13.1"
  }
 },
 "nbformat": 4,
 "nbformat_minor": 2
}
