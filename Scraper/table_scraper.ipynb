{
 "cells": [
  {
   "cell_type": "code",
   "execution_count": 1,
   "metadata": {},
   "outputs": [
    {
     "ename": "NameError",
     "evalue": "name 'url' is not defined",
     "output_type": "error",
     "traceback": [
      "\u001b[1;31m---------------------------------------------------------------------------\u001b[0m",
      "\u001b[1;31mNameError\u001b[0m                                 Traceback (most recent call last)",
      "Cell \u001b[1;32mIn[1], line 60\u001b[0m\n\u001b[0;32m     56\u001b[0m     \u001b[38;5;28;01mreturn\u001b[39;00m all_data\n\u001b[0;32m     59\u001b[0m \u001b[38;5;66;03m# Call the function and store the scraped data\u001b[39;00m\n\u001b[1;32m---> 60\u001b[0m scraped_data \u001b[38;5;241m=\u001b[39m scrape_wikipedia_table(\u001b[43murl\u001b[49m)\n\u001b[0;32m     62\u001b[0m \u001b[38;5;28mprint\u001b[39m(\u001b[38;5;124m\"\u001b[39m\u001b[38;5;124mScraping completed.\u001b[39m\u001b[38;5;124m\"\u001b[39m)\n",
      "\u001b[1;31mNameError\u001b[0m: name 'url' is not defined"
     ]
    }
   ],
   "source": [
    "import json\n",
    "import lxml.html\n",
    "import httpx\n",
    "import pandas as pd\n",
    "\n",
    "url = 'https://en.wikipedia.org/wiki/List_of_Chicago_alderpersons_since_1923'\n",
    "\n",
    "def scrape_wikipedia_table(url):\n",
    "\n",
    "    \n",
    "    # URL\n",
    "    url = 'https://en.wikipedia.org/wiki/List_of_Chicago_alderpersons_since_1923'\n",
    "\n",
    "    # HTML Content\n",
    "    response = httpx.get(url)\n",
    "    root = lxml.html.fromstring(response.content)\n",
    "    \n",
    "    # Find all tables \n",
    "    tables = root.xpath('//table[contains(@class, \"wikitable sortable\")]')\n",
    "\n",
    "    #Store Extracted data\n",
    "    all_data = []\n",
    "\n",
    "    # Iterate through each ward\n",
    "    for table in tables:\n",
    "\n",
    "        # Extract table headers to determine column indices\n",
    "        header_indices = {header.text_content().strip(): idx for idx, header in enumerate(table.xpath('.//tr/th'))}\n",
    "        columns_of_interest = [\"Alderperson\", \"Term in office\", \"Party\", \"Notes\"]\n",
    "\n",
    "        for row in table.xpath('.//tr[position()>1]'):\n",
    "            \n",
    "            # Extract both <td> and <th scope=\"row\"> elements\n",
    "            cells = row.xpath('.//td | .//th[@scope=\"row\"]')\n",
    "            row_data = [\n",
    "                cells[header_indices[col]].text_content().strip() \n",
    "                if header_indices.get(col) is not None and header_indices[col] < len(cells) else '' \n",
    "                for col in columns_of_interest\n",
    "            ]\n",
    "            all_data.append(row_data)\n",
    "\n",
    "        # Print the data for the first table and break\n",
    "        print(\"First Table Data:\")\n",
    "        for row in all_data:\n",
    "            print(f\"{row[0]} | {row[1]} | {row[2]} | {row[3]}\")\n",
    "        break  # Stop after processing the first table\n",
    "\n",
    "    # Handle any None or empty values\n",
    "    for ward in all_data:\n",
    "        for i in range(len(ward)):\n",
    "            if ward[i] is None or ward[i] == '':\n",
    "                ward[i] = 'N/A'\n",
    "\n",
    "    # Save the data to a JSON file\n",
    "    with open(\"all_data.json\", \"w\") as jd:\n",
    "        json.dump(all_data, jd, indent=1)\n",
    "\n",
    "    return all_data\n",
    "\n",
    "\n",
    "# Call the function and store the scraped data\n",
    "scraped_data = scrape_wikipedia_table(url)\n",
    "\n",
    "print(\"Scraping completed.\")\n"
   ]
  }
 ],
 "metadata": {
  "kernelspec": {
   "display_name": "Python 3",
   "language": "python",
   "name": "python3"
  },
  "language_info": {
   "codemirror_mode": {
    "name": "ipython",
    "version": 3
   },
   "file_extension": ".py",
   "mimetype": "text/x-python",
   "name": "python",
   "nbconvert_exporter": "python",
   "pygments_lexer": "ipython3",
   "version": "3.12.4"
  }
 },
 "nbformat": 4,
 "nbformat_minor": 2
}
