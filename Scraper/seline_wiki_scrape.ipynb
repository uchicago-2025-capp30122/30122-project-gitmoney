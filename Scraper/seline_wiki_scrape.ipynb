{
 "cells": [
  {
   "cell_type": "code",
   "execution_count": 3,
   "metadata": {},
   "outputs": [],
   "source": [
    "import lxml.html\n",
    "import httpx \n",
    "import pandas as pd"
   ]
  },
  {
   "cell_type": "code",
   "execution_count": 4,
   "metadata": {},
   "outputs": [],
   "source": [
    "url = \"https://en.wikipedia.org/wiki/List_of_Chicago_alderpersons_since_1923\""
   ]
  },
  {
   "cell_type": "code",
   "execution_count": 5,
   "metadata": {},
   "outputs": [],
   "source": [
    "x = httpx.get(url)"
   ]
  },
  {
   "cell_type": "code",
   "execution_count": 6,
   "metadata": {},
   "outputs": [],
   "source": [
    "root = lxml.html.fromstring(x.text)"
   ]
  },
  {
   "cell_type": "markdown",
   "metadata": {},
   "source": [
    "My plan here is to get all the ul items. And with that I need to get the sibling which is a div containing a title with the name of the ward"
   ]
  },
  {
   "cell_type": "code",
   "execution_count": null,
   "metadata": {},
   "outputs": [],
   "source": [
    "bd = root.cssselect('div.mw-body-content')\n",
    "for b in bd:\n",
    "    li = b.cssselect('ul')\n",
    "    for l in li:\n",
    "        h = l.getprevious()\n",
    "        # Ward Heading\n",
    "        if h is not None:\n",
    "            print()\n",
    "            print(h.text_content())\n",
    "            # we may do something here to create a dictionary with the heading name \n",
    "            # and add all of the people to a list of aldermen\n",
    "            # if an href exists with \n",
    "            print()\n",
    "        # Each person in ward!\n",
    "        print(l.text_content())\n",
    "        x = l.cssselect(\"a\")\n",
    "        if x is not None:\n",
    "            for ex in x:\n",
    "                print(ex.get(\"href\"))\n"
   ]
  },
  {
   "cell_type": "code",
   "execution_count": null,
   "metadata": {},
   "outputs": [],
   "source": []
  }
 ],
 "metadata": {
  "kernelspec": {
   "display_name": "Python 3",
   "language": "python",
   "name": "python3"
  },
  "language_info": {
   "codemirror_mode": {
    "name": "ipython",
    "version": 3
   },
   "file_extension": ".py",
   "mimetype": "text/x-python",
   "name": "python",
   "nbconvert_exporter": "python",
   "pygments_lexer": "ipython3",
   "version": "3.12.4"
  }
 },
 "nbformat": 4,
 "nbformat_minor": 2
}
